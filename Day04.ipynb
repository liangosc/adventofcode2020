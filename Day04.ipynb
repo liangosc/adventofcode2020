{
 "cells": [
  {
   "cell_type": "code",
   "execution_count": 1,
   "metadata": {},
   "outputs": [],
   "source": [
    "f = open('day04_input.txt')\n",
    "lines = f.readlines()\n",
    "f.close()\n",
    "passports = [line[0:-1] for line in lines]"
   ]
  },
  {
   "cell_type": "markdown",
   "metadata": {},
   "source": [
    "Let's have a look at a few lines of the data:"
   ]
  },
  {
   "cell_type": "code",
   "execution_count": 2,
   "metadata": {},
   "outputs": [
    {
     "data": {
      "text/plain": [
       "['byr:1937',\n",
       " 'eyr:2030 pid:154364481',\n",
       " 'hgt:158cm iyr:2015 ecl:brn hcl:#c0946f cid:155',\n",
       " '',\n",
       " 'cid:279',\n",
       " 'eyr:2029',\n",
       " 'pid:675014709 ecl:amb',\n",
       " 'byr:1985 hgt:179in hcl:z iyr:2025',\n",
       " '',\n",
       " 'iyr:2011 hgt:181cm hcl:#341e13 pid:282499883 byr:1953',\n",
       " 'eyr:2023',\n",
       " 'ecl:brn',\n",
       " '',\n",
       " 'eyr:2040 iyr:1984 pid:2371396209 byr:1951 cid:283 hgt:164cm',\n",
       " 'hcl:#623a2f',\n",
       " '',\n",
       " 'iyr:2014 byr:1966 hgt:153cm pid:900693718 eyr:2020 ecl:gry hcl:#866857',\n",
       " '',\n",
       " 'eyr:2020 hgt:162cm',\n",
       " 'byr:1939 pid:900852891 iyr:2020']"
      ]
     },
     "execution_count": 2,
     "metadata": {},
     "output_type": "execute_result"
    }
   ],
   "source": [
    "passports[0:20]"
   ]
  },
  {
   "cell_type": "markdown",
   "metadata": {},
   "source": [
    "\"Passport\"s are separated from others by ''. And for each \"passport\", there are fields like \"byr\", \"eyr\" and such. We need to check if those informations are valid:\n",
    "- byr (Birth Year)\n",
    "- iyr (Issue Year)\n",
    "- eyr (Expiration Year)\n",
    "- hgt (Height)\n",
    "- hcl (Hair Color)\n",
    "- ecl (Eye Color)\n",
    "- pid (Passport ID)\n",
    "- cid (Country ID)"
   ]
  },
  {
   "cell_type": "markdown",
   "metadata": {},
   "source": [
    "# Part 1"
   ]
  },
  {
   "cell_type": "markdown",
   "metadata": {},
   "source": [
    "To be considered as a \"valid\" passport, 7 of the above 8 fields are required, while \"cid\" is optional. In other words, one can miss \"cid\" and still be considered as a \"valid\" passport."
   ]
  },
  {
   "cell_type": "code",
   "execution_count": 3,
   "metadata": {},
   "outputs": [],
   "source": [
    "def check_passport(passport: str) -> bool:\n",
    "    required = {'byr', 'iyr', 'eyr', 'hgt', 'hcl', 'ecl', 'pid', 'cid'}\n",
    "    fields = passport.split(' ')\n",
    "    for field in fields:\n",
    "        key, value = field.split(':')\n",
    "        if key in required:\n",
    "            required.remove(key)\n",
    "    return (required == {'cid'}) or (len(required) == 0)"
   ]
  },
  {
   "cell_type": "code",
   "execution_count": 4,
   "metadata": {},
   "outputs": [
    {
     "name": "stdout",
     "output_type": "stream",
     "text": [
      "There are 200 valid passports\n"
     ]
    }
   ],
   "source": [
    "goodones = 0\n",
    "passport_info_list = []\n",
    "for p in passports:\n",
    "    if p != '':\n",
    "        passport_info_list.append(p)\n",
    "    else:\n",
    "        passport_info = ' '.join(passport_info_list)\n",
    "        goodones += int(check_passport(passport_info))\n",
    "        passport_info_list = []\n",
    "\n",
    "print(f'There are {goodones} valid passports')"
   ]
  },
  {
   "cell_type": "markdown",
   "metadata": {},
   "source": [
    "# Part 2"
   ]
  },
  {
   "cell_type": "markdown",
   "metadata": {},
   "source": [
    "In addition to the required fields, we also need to make sure the data of each field is in the correct format:\n",
    "\n",
    "- byr (Birth Year) - four digits; at least 1920 and at most 2002.\n",
    "- iyr (Issue Year) - four digits; at least 2010 and at most 2020.\n",
    "- eyr (Expiration Year) - four digits; at least 2020 and at most 2030.\n",
    "- hgt (Height) - a number followed by either cm or in:\n",
    "If cm, the number must be at least 150 and at most 193.\n",
    "If in, the number must be at least 59 and at most 76.\n",
    "- hcl (Hair Color) - a # followed by exactly six characters 0-9 or a-f.\n",
    "- ecl (Eye Color) - exactly one of: amb blu brn gry grn hzl oth.\n",
    "- pid (Passport ID) - a nine-digit number, including leading zeroes.\n",
    "- cid (Country ID) - ignored, missing or not."
   ]
  },
  {
   "cell_type": "code",
   "execution_count": 5,
   "metadata": {},
   "outputs": [],
   "source": [
    "def check_passport2(passport: str) -> bool:\n",
    "    # First to determine if all the required fields are there, same as part 1:\n",
    "    required = {'byr', 'iyr', 'eyr', 'hgt', 'hcl', 'ecl', 'pid', 'cid'}\n",
    "    fields = passport.split(' ')\n",
    "    for field in fields:\n",
    "        key, value = field.split(':')\n",
    "        if key in required:\n",
    "            required.remove(key)\n",
    "            \n",
    "    # only check data for each field if there are 7 required fields:\n",
    "    if (required == {'cid'}) or (len(required) == 0):\n",
    "        valid = [0]*7   # make seven \"checkboxes\"\n",
    "        for field in fields:\n",
    "            key, value = field.split(':')\n",
    "            if key == 'byr':\n",
    "                value = int(value)\n",
    "                valid[0] = 1920<=value<=2002\n",
    "            if key == 'iyr':\n",
    "                value = int(value)\n",
    "                valid[1] = 2010<=value<=2020\n",
    "            if key == 'eyr':\n",
    "                value = int(value)\n",
    "                valid[2] = 2020<=value<=2030\n",
    "            if key == 'hgt':\n",
    "                unit = value[-2:]\n",
    "                if unit == 'cm':\n",
    "                    valid[3] = 150<=int(value[0:-2])<=193\n",
    "                elif unit == 'in':\n",
    "                    valid[3] = 59<=int(value[0:-2])<=76\n",
    "            if key == 'hcl':\n",
    "                if (value[0] == '#') and (len(value) == 7):\n",
    "                    valid[4] = value[1:].isalnum()\n",
    "            if key == 'ecl':\n",
    "                valid[5] = value in {'amb', 'blu', 'brn', 'gry', 'grn', 'hzl', 'oth'}\n",
    "            if key == 'pid':\n",
    "                valid[6] = (len(value) == 9) and (value.isnumeric())\n",
    "        return sum(valid)==7\n",
    "    else:\n",
    "        return 0"
   ]
  },
  {
   "cell_type": "code",
   "execution_count": 6,
   "metadata": {},
   "outputs": [
    {
     "name": "stdout",
     "output_type": "stream",
     "text": [
      "There are 116 valid passports\n"
     ]
    }
   ],
   "source": [
    "goodones = 0\n",
    "passport_info_list = []\n",
    "for p in passports:\n",
    "    if p != '':\n",
    "        passport_info_list.append(p)\n",
    "    else:\n",
    "        passport_info = ' '.join(passport_info_list)\n",
    "        goodones += int(check_passport2(passport_info))\n",
    "        passport_info_list = []\n",
    "\n",
    "print(f'There are {goodones} valid passports')"
   ]
  },
  {
   "cell_type": "code",
   "execution_count": null,
   "metadata": {},
   "outputs": [],
   "source": []
  }
 ],
 "metadata": {
  "kernelspec": {
   "display_name": "Python 3",
   "language": "python",
   "name": "python3"
  },
  "language_info": {
   "codemirror_mode": {
    "name": "ipython",
    "version": 3
   },
   "file_extension": ".py",
   "mimetype": "text/x-python",
   "name": "python",
   "nbconvert_exporter": "python",
   "pygments_lexer": "ipython3",
   "version": "3.8.5"
  }
 },
 "nbformat": 4,
 "nbformat_minor": 2
}
