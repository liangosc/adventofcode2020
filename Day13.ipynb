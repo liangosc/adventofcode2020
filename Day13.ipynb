{
 "cells": [
  {
   "cell_type": "code",
   "execution_count": 1,
   "metadata": {},
   "outputs": [],
   "source": [
    "f = open('day13_input.txt')\n",
    "lines = f.readlines()\n",
    "f.close()\n",
    "data = [(line[0:-1]) for line in lines]"
   ]
  },
  {
   "cell_type": "code",
   "execution_count": 2,
   "metadata": {},
   "outputs": [
    {
     "name": "stdout",
     "output_type": "stream",
     "text": [
      "data:\n",
      "['1007125', '13,x,x,41,x,x,x,x,x,x,x,x,x,569,x,29,x,x,x,x,x,x,x,x,x,x,x,x,x,x,x,x,19,x,x,x,23,x,x,x,x,x,x,x,937,x,x,x,x,x,37,x,x,x,x,x,x,x,x,x,x,17']\n"
     ]
    }
   ],
   "source": [
    "print('data:')\n",
    "print(data)"
   ]
  },
  {
   "cell_type": "markdown",
   "metadata": {},
   "source": [
    "The first line of the data, '1007125' is a timestamp (started from a certain time t=0), and the second line includes the bus IDs (13, 41, 569, 29...).\n",
    "\n",
    "Each bus departs at t=0, then departs at t=N*id:\n",
    "\n",
    "bus 13 departs at t=0, 13, 26, 39 ...\n",
    "\n",
    "bus 41 departs at t=0, 41, 82, 123 ...\n",
    "\n",
    "..."
   ]
  },
  {
   "cell_type": "markdown",
   "metadata": {},
   "source": [
    "# Part 1"
   ]
  },
  {
   "cell_type": "markdown",
   "metadata": {},
   "source": [
    "The question for part 1 is, what the next bus after the given timestamp (1007125)?"
   ]
  },
  {
   "cell_type": "code",
   "execution_count": 3,
   "metadata": {},
   "outputs": [
    {
     "name": "stdout",
     "output_type": "stream",
     "text": [
      "The timestamp is 1007125.\n",
      "The bus ids:\n"
     ]
    },
    {
     "data": {
      "text/plain": [
       "[13, 41, 569, 29, 19, 23, 937, 37, 17]"
      ]
     },
     "execution_count": 3,
     "metadata": {},
     "output_type": "execute_result"
    }
   ],
   "source": [
    "t = int(data[0])\n",
    "print(f'The timestamp is {t}.')\n",
    "bus_ids = [int(num) for num in data[1].split(',') if num.isnumeric()]\n",
    "print('The bus ids:')\n",
    "bus_ids"
   ]
  },
  {
   "cell_type": "code",
   "execution_count": 4,
   "metadata": {},
   "outputs": [
    {
     "name": "stdout",
     "output_type": "stream",
     "text": [
      "For bus 13, the wait time is 11.\n",
      "For bus 41, the wait time is 40.\n",
      "For bus 569, the wait time is 5.\n",
      "For bus 29, the wait time is 16.\n",
      "For bus 19, the wait time is 8.\n",
      "For bus 23, the wait time is 22.\n",
      "For bus 937, the wait time is 150.\n",
      "For bus 37, the wait time is 15.\n",
      "For bus 17, the wait time is 6.\n",
      "-------\n",
      "The min wait time is 5, for bus 569.\n"
     ]
    }
   ],
   "source": [
    "min_wait_t = t\n",
    "tmp_bus_id = None\n",
    "for num in bus_ids:\n",
    "    wait_time = num-t%num\n",
    "    if min_wait_t > wait_time:\n",
    "        min_wait_t = wait_time\n",
    "        tmp_bus_id = num\n",
    "    print(f'For bus {num}, the wait time is {num-t%num}.')\n",
    "print('-------')\n",
    "print(f'The min wait time is {min_wait_t}, for bus {tmp_bus_id}.')"
   ]
  },
  {
   "cell_type": "markdown",
   "metadata": {},
   "source": [
    "569x5 will give the answer for part 1:"
   ]
  },
  {
   "cell_type": "code",
   "execution_count": 5,
   "metadata": {},
   "outputs": [
    {
     "data": {
      "text/plain": [
       "2845"
      ]
     },
     "execution_count": 5,
     "metadata": {},
     "output_type": "execute_result"
    }
   ],
   "source": [
    "569 * 5"
   ]
  },
  {
   "cell_type": "markdown",
   "metadata": {},
   "source": [
    "# Part 2"
   ]
  },
  {
   "cell_type": "markdown",
   "metadata": {},
   "source": [
    "For this part, we are required to find a time t, when the first list bus will depart, and followed by each subsequent listed bus. In other words, at time t, bus 13 will depart, then bus 41 at a t+3 (because there are 2 x's between 41 and 13), then bus 569 at t+13, and so on... just like they are listed in the input, and x's are important now."
   ]
  },
  {
   "cell_type": "code",
   "execution_count": 6,
   "metadata": {},
   "outputs": [
    {
     "name": "stdout",
     "output_type": "stream",
     "text": [
      "[13, 'x', 'x', 41, 'x', 'x', 'x', 'x', 'x', 'x', 'x', 'x', 'x', 569, 'x', 29, 'x', 'x', 'x', 'x', 'x', 'x', 'x', 'x', 'x', 'x', 'x', 'x', 'x', 'x', 'x', 'x', 19, 'x', 'x', 'x', 23, 'x', 'x', 'x', 'x', 'x', 'x', 'x', 937, 'x', 'x', 'x', 'x', 'x', 37, 'x', 'x', 'x', 'x', 'x', 'x', 'x', 'x', 'x', 'x', 17]\n"
     ]
    }
   ],
   "source": [
    "buses = [int(bus) if bus != \"x\" else bus for bus in data[1].split(\",\")]\n",
    "print(buses)"
   ]
  },
  {
   "cell_type": "markdown",
   "metadata": {},
   "source": [
    "We need to find a t so that\n",
    "\n",
    "(t + i) % bus == 0 for i, bus in enumerate(buses), for all the non-x buses.\n",
    "\n",
    "We are also told that t will be larger than 100000000000000."
   ]
  },
  {
   "cell_type": "code",
   "execution_count": 7,
   "metadata": {},
   "outputs": [
    {
     "name": "stdout",
     "output_type": "stream",
     "text": [
      "The earliest t would be 487905974205117.\n"
     ]
    }
   ],
   "source": [
    "t = 100000000000000\n",
    "while not all([(t + i) % bus == 0 for i, bus in enumerate(buses) if bus != 'x']):\n",
    "    tmp_buses = [bus for i, bus in enumerate(buses) if bus != 'x' and (t + i)%bus == 0]\n",
    "    inc = 1\n",
    "    for bus in tmp_buses:\n",
    "        inc *= bus       # p is the how much t will increase each step\n",
    "    t += inc\n",
    "\n",
    "print(f'The earliest t would be {t}.')"
   ]
  },
  {
   "cell_type": "code",
   "execution_count": null,
   "metadata": {},
   "outputs": [],
   "source": []
  }
 ],
 "metadata": {
  "kernelspec": {
   "display_name": "Python 3",
   "language": "python",
   "name": "python3"
  },
  "language_info": {
   "codemirror_mode": {
    "name": "ipython",
    "version": 3
   },
   "file_extension": ".py",
   "mimetype": "text/x-python",
   "name": "python",
   "nbconvert_exporter": "python",
   "pygments_lexer": "ipython3",
   "version": "3.8.5"
  }
 },
 "nbformat": 4,
 "nbformat_minor": 4
}
