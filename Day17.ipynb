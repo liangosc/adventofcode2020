{
 "cells": [
  {
   "cell_type": "code",
   "execution_count": 1,
   "metadata": {},
   "outputs": [],
   "source": [
    "from collections import defaultdict"
   ]
  },
  {
   "cell_type": "code",
   "execution_count": 2,
   "metadata": {},
   "outputs": [],
   "source": [
    "f = open('day17_input.txt')\n",
    "lines = f.readlines()\n",
    "f.close()"
   ]
  },
  {
   "cell_type": "code",
   "execution_count": 3,
   "metadata": {},
   "outputs": [
    {
     "name": "stdout",
     "output_type": "stream",
     "text": [
      "['####...#', '......##', '####..##', '##......', '..##.##.', '#.##...#', '....##.#', '.##.#.#.']\n"
     ]
    }
   ],
   "source": [
    "data_raw = [(line[0:-1]) for line in lines]\n",
    "print(data_raw)"
   ]
  },
  {
   "cell_type": "code",
   "execution_count": 4,
   "metadata": {},
   "outputs": [
    {
     "data": {
      "text/plain": [
       "['####...#',\n",
       " '......##',\n",
       " '####..##',\n",
       " '##......',\n",
       " '..##.##.',\n",
       " '#.##...#',\n",
       " '....##.#',\n",
       " '.##.#.#.']"
      ]
     },
     "execution_count": 4,
     "metadata": {},
     "output_type": "execute_result"
    }
   ],
   "source": [
    "data_raw"
   ]
  },
  {
   "cell_type": "code",
   "execution_count": null,
   "metadata": {},
   "outputs": [],
   "source": []
  },
  {
   "cell_type": "code",
   "execution_count": 5,
   "metadata": {},
   "outputs": [],
   "source": [
    "data1 = ['.#.',\n",
    "'..#',\n",
    "'###']"
   ]
  },
  {
   "cell_type": "code",
   "execution_count": 6,
   "metadata": {},
   "outputs": [
    {
     "name": "stdout",
     "output_type": "stream",
     "text": [
      "defaultdict(<function <lambda> at 0x0000020376EB7E50>, {'-4,-4,0': 1, '-4,-3,0': 1, '-4,-2,0': 1, '-4,-1,0': 1, '-4,3,0': 1, '-3,2,0': 1, '-3,3,0': 1, '-2,-4,0': 1, '-2,-3,0': 1, '-2,-2,0': 1, '-2,-1,0': 1, '-2,2,0': 1, '-2,3,0': 1, '-1,-4,0': 1, '-1,-3,0': 1, '0,-2,0': 1, '0,-1,0': 1, '0,1,0': 1, '0,2,0': 1, '1,-4,0': 1, '1,-2,0': 1, '1,-1,0': 1, '1,3,0': 1, '2,0,0': 1, '2,1,0': 1, '2,3,0': 1, '3,-3,0': 1, '3,-2,0': 1, '3,0,0': 1, '3,2,0': 1})\n"
     ]
    }
   ],
   "source": [
    "cube = defaultdict(lambda:0)\n",
    "data = data_raw\n",
    "N = len(data)\n",
    "for x in range(N):\n",
    "    for y in range(N):\n",
    "        key = f'{x-int(N/2+0.1)},{y-int(N/2+0.1)},0'\n",
    "#         print(key)\n",
    "        if data[x][y] == '#':\n",
    "            cube[key] = 1\n",
    "print(cube)"
   ]
  },
  {
   "cell_type": "code",
   "execution_count": 7,
   "metadata": {},
   "outputs": [],
   "source": [
    "cube0 = dict(cube)"
   ]
  },
  {
   "cell_type": "code",
   "execution_count": 8,
   "metadata": {},
   "outputs": [
    {
     "data": {
      "text/plain": [
       "{'-4,-4,0': 1,\n",
       " '-4,-3,0': 1,\n",
       " '-4,-2,0': 1,\n",
       " '-4,-1,0': 1,\n",
       " '-4,3,0': 1,\n",
       " '-3,2,0': 1,\n",
       " '-3,3,0': 1,\n",
       " '-2,-4,0': 1,\n",
       " '-2,-3,0': 1,\n",
       " '-2,-2,0': 1,\n",
       " '-2,-1,0': 1,\n",
       " '-2,2,0': 1,\n",
       " '-2,3,0': 1,\n",
       " '-1,-4,0': 1,\n",
       " '-1,-3,0': 1,\n",
       " '0,-2,0': 1,\n",
       " '0,-1,0': 1,\n",
       " '0,1,0': 1,\n",
       " '0,2,0': 1,\n",
       " '1,-4,0': 1,\n",
       " '1,-2,0': 1,\n",
       " '1,-1,0': 1,\n",
       " '1,3,0': 1,\n",
       " '2,0,0': 1,\n",
       " '2,1,0': 1,\n",
       " '2,3,0': 1,\n",
       " '3,-3,0': 1,\n",
       " '3,-2,0': 1,\n",
       " '3,0,0': 1,\n",
       " '3,2,0': 1}"
      ]
     },
     "execution_count": 8,
     "metadata": {},
     "output_type": "execute_result"
    }
   ],
   "source": [
    "cube0"
   ]
  },
  {
   "cell_type": "code",
   "execution_count": 9,
   "metadata": {},
   "outputs": [],
   "source": [
    "def count26(xyz: str, cube) -> int:\n",
    "    x, y, z = xyz.split(',')\n",
    "    x, y, z = int(x), int(y), int(z)\n",
    "    ct = 0\n",
    "    neighbors = []\n",
    "    for i in [-1, 0, 1]:\n",
    "        for j in [-1, 0, 1]:\n",
    "            for k in [-1, 0, 1]:\n",
    "                if (i == 0) and (j == 0) and (k == 0):\n",
    "                    continue\n",
    "                neighbors.append(f'{x+i},{y+j},{z+k}')\n",
    "    for key in neighbors:\n",
    "        if key in cube:\n",
    "            ct += cube[key]\n",
    "    return ct"
   ]
  },
  {
   "cell_type": "code",
   "execution_count": 10,
   "metadata": {},
   "outputs": [
    {
     "data": {
      "text/plain": [
       "['####...#',\n",
       " '......##',\n",
       " '####..##',\n",
       " '##......',\n",
       " '..##.##.',\n",
       " '#.##...#',\n",
       " '....##.#',\n",
       " '.##.#.#.']"
      ]
     },
     "execution_count": 10,
     "metadata": {},
     "output_type": "execute_result"
    }
   ],
   "source": [
    "data"
   ]
  },
  {
   "cell_type": "code",
   "execution_count": 11,
   "metadata": {},
   "outputs": [],
   "source": [
    "cycle_n = 1\n",
    "Nx = N + 2*cycle_n\n",
    "Nz = 1 + 2*cycle_n\n",
    "tmp = 0\n",
    "new_cube = dict(cube0)\n",
    "for i in range(Nx):\n",
    "    for j in range(Nx):\n",
    "        for k in range(Nz):\n",
    "            tmp += 1\n",
    "            xyz = f'{i-int(Nx/2)},{j-int(Nx/2)},{k-int(Nz/2)}'\n",
    "#             print(xyz)\n",
    "            ct = count26(xyz, cube0)\n",
    "            \n",
    "            if xyz in cube0:\n",
    "                if cube0[xyz] == 1:\n",
    "                    if 1<ct<4:\n",
    "                        new_cube[xyz] = 1\n",
    "                    else:\n",
    "                        new_cube[xyz] = 0\n",
    "                else:\n",
    "                    if ct == 3:\n",
    "                        new_cube[xyz] = 1\n",
    "                    else:\n",
    "                        new_cube[xyz] = 0\n",
    "            else:\n",
    "                if ct == 3:\n",
    "                    new_cube[xyz] = 1\n",
    "                else:\n",
    "                    new_cube[xyz] = 0"
   ]
  },
  {
   "cell_type": "code",
   "execution_count": 12,
   "metadata": {
    "scrolled": true
   },
   "outputs": [
    {
     "data": {
      "text/plain": [
       "{'-4,-4,0': 0,\n",
       " '-4,-3,0': 1,\n",
       " '-4,-2,0': 1,\n",
       " '-4,-1,0': 0,\n",
       " '-4,3,0': 1,\n",
       " '-3,2,0': 0,\n",
       " '-3,3,0': 0,\n",
       " '-2,-4,0': 1,\n",
       " '-2,-3,0': 0,\n",
       " '-2,-2,0': 1,\n",
       " '-2,-1,0': 0,\n",
       " '-2,2,0': 1,\n",
       " '-2,3,0': 1,\n",
       " '-1,-4,0': 1,\n",
       " '-1,-3,0': 0,\n",
       " '0,-2,0': 0,\n",
       " '0,-1,0': 1,\n",
       " '0,1,0': 0,\n",
       " '0,2,0': 1,\n",
       " '1,-4,0': 0,\n",
       " '1,-2,0': 1,\n",
       " '1,-1,0': 0,\n",
       " '1,3,0': 1,\n",
       " '2,0,0': 1,\n",
       " '2,1,0': 1,\n",
       " '2,3,0': 1,\n",
       " '3,-3,0': 0,\n",
       " '3,-2,0': 0,\n",
       " '3,0,0': 1,\n",
       " '3,2,0': 1,\n",
       " '-5,-5,-1': 0,\n",
       " '-5,-5,0': 0,\n",
       " '-5,-5,1': 0,\n",
       " '-5,-4,-1': 0,\n",
       " '-5,-4,0': 0,\n",
       " '-5,-4,1': 0,\n",
       " '-5,-3,-1': 1,\n",
       " '-5,-3,0': 1,\n",
       " '-5,-3,1': 1,\n",
       " '-5,-2,-1': 1,\n",
       " '-5,-2,0': 1,\n",
       " '-5,-2,1': 1,\n",
       " '-5,-1,-1': 0,\n",
       " '-5,-1,0': 0,\n",
       " '-5,-1,1': 0,\n",
       " '-5,0,-1': 0,\n",
       " '-5,0,0': 0,\n",
       " '-5,0,1': 0,\n",
       " '-5,1,-1': 0,\n",
       " '-5,1,0': 0,\n",
       " '-5,1,1': 0,\n",
       " '-5,2,-1': 0,\n",
       " '-5,2,0': 0,\n",
       " '-5,2,1': 0,\n",
       " '-5,3,-1': 0,\n",
       " '-5,3,0': 0,\n",
       " '-5,3,1': 0,\n",
       " '-5,4,-1': 0,\n",
       " '-5,4,0': 0,\n",
       " '-5,4,1': 0,\n",
       " '-4,-5,-1': 0,\n",
       " '-4,-5,0': 0,\n",
       " '-4,-5,1': 0,\n",
       " '-4,-4,-1': 0,\n",
       " '-4,-4,1': 0,\n",
       " '-4,-3,-1': 1,\n",
       " '-4,-3,1': 1,\n",
       " '-4,-2,-1': 1,\n",
       " '-4,-2,1': 1,\n",
       " '-4,-1,-1': 0,\n",
       " '-4,-1,1': 0,\n",
       " '-4,0,-1': 0,\n",
       " '-4,0,0': 0,\n",
       " '-4,0,1': 0,\n",
       " '-4,1,-1': 0,\n",
       " '-4,1,0': 0,\n",
       " '-4,1,1': 0,\n",
       " '-4,2,-1': 1,\n",
       " '-4,2,0': 1,\n",
       " '-4,2,1': 1,\n",
       " '-4,3,-1': 1,\n",
       " '-4,3,1': 1,\n",
       " '-4,4,-1': 0,\n",
       " '-4,4,0': 0,\n",
       " '-4,4,1': 0,\n",
       " '-3,-5,-1': 0,\n",
       " '-3,-5,0': 0,\n",
       " '-3,-5,1': 0,\n",
       " '-3,-4,-1': 0,\n",
       " '-3,-4,0': 0,\n",
       " '-3,-4,1': 0,\n",
       " '-3,-3,-1': 0,\n",
       " '-3,-3,0': 0,\n",
       " '-3,-3,1': 0,\n",
       " '-3,-2,-1': 0,\n",
       " '-3,-2,0': 0,\n",
       " '-3,-2,1': 0,\n",
       " '-3,-1,-1': 0,\n",
       " '-3,-1,0': 0,\n",
       " '-3,-1,1': 0,\n",
       " '-3,0,-1': 0,\n",
       " '-3,0,0': 0,\n",
       " '-3,0,1': 0,\n",
       " '-3,1,-1': 0,\n",
       " '-3,1,0': 0,\n",
       " '-3,1,1': 0,\n",
       " '-3,2,-1': 0,\n",
       " '-3,2,1': 0,\n",
       " '-3,3,-1': 0,\n",
       " '-3,3,1': 0,\n",
       " '-3,4,-1': 1,\n",
       " '-3,4,0': 1,\n",
       " '-3,4,1': 1,\n",
       " '-2,-5,-1': 0,\n",
       " '-2,-5,0': 0,\n",
       " '-2,-5,1': 0,\n",
       " '-2,-4,-1': 0,\n",
       " '-2,-4,1': 0,\n",
       " '-2,-3,-1': 0,\n",
       " '-2,-3,1': 0,\n",
       " '-2,-2,-1': 0,\n",
       " '-2,-2,1': 0,\n",
       " '-2,-1,-1': 0,\n",
       " '-2,-1,1': 0,\n",
       " '-2,0,-1': 0,\n",
       " '-2,0,0': 0,\n",
       " '-2,0,1': 0,\n",
       " '-2,1,-1': 0,\n",
       " '-2,1,0': 0,\n",
       " '-2,1,1': 0,\n",
       " '-2,2,-1': 0,\n",
       " '-2,2,1': 0,\n",
       " '-2,3,-1': 0,\n",
       " '-2,3,1': 0,\n",
       " '-2,4,-1': 0,\n",
       " '-2,4,0': 0,\n",
       " '-2,4,1': 0,\n",
       " '-1,-5,-1': 0,\n",
       " '-1,-5,0': 0,\n",
       " '-1,-5,1': 0,\n",
       " '-1,-4,-1': 0,\n",
       " '-1,-4,1': 0,\n",
       " '-1,-3,-1': 0,\n",
       " '-1,-3,1': 0,\n",
       " '-1,-2,-1': 0,\n",
       " '-1,-2,0': 0,\n",
       " '-1,-2,1': 0,\n",
       " '-1,-1,-1': 0,\n",
       " '-1,-1,0': 0,\n",
       " '-1,-1,1': 0,\n",
       " '-1,0,-1': 1,\n",
       " '-1,0,0': 1,\n",
       " '-1,0,1': 1,\n",
       " '-1,1,-1': 1,\n",
       " '-1,1,0': 1,\n",
       " '-1,1,1': 1,\n",
       " '-1,2,-1': 0,\n",
       " '-1,2,0': 0,\n",
       " '-1,2,1': 0,\n",
       " '-1,3,-1': 1,\n",
       " '-1,3,0': 1,\n",
       " '-1,3,1': 1,\n",
       " '-1,4,-1': 0,\n",
       " '-1,4,0': 0,\n",
       " '-1,4,1': 0,\n",
       " '0,-5,-1': 0,\n",
       " '0,-5,0': 0,\n",
       " '0,-5,1': 0,\n",
       " '0,-4,-1': 1,\n",
       " '0,-4,0': 1,\n",
       " '0,-4,1': 1,\n",
       " '0,-3,-1': 0,\n",
       " '0,-3,0': 0,\n",
       " '0,-3,1': 0,\n",
       " '0,-2,-1': 0,\n",
       " '0,-2,1': 0,\n",
       " '0,-1,-1': 0,\n",
       " '0,-1,1': 0,\n",
       " '0,0,-1': 1,\n",
       " '0,0,0': 1,\n",
       " '0,0,1': 1,\n",
       " '0,1,-1': 0,\n",
       " '0,1,1': 0,\n",
       " '0,2,-1': 1,\n",
       " '0,2,1': 1,\n",
       " '0,3,-1': 0,\n",
       " '0,3,0': 0,\n",
       " '0,3,1': 0,\n",
       " '0,4,-1': 0,\n",
       " '0,4,0': 0,\n",
       " '0,4,1': 0,\n",
       " '1,-5,-1': 0,\n",
       " '1,-5,0': 0,\n",
       " '1,-5,1': 0,\n",
       " '1,-4,-1': 0,\n",
       " '1,-4,1': 0,\n",
       " '1,-3,-1': 1,\n",
       " '1,-3,0': 1,\n",
       " '1,-3,1': 1,\n",
       " '1,-2,-1': 0,\n",
       " '1,-2,1': 0,\n",
       " '1,-1,-1': 0,\n",
       " '1,-1,1': 0,\n",
       " '1,0,-1': 0,\n",
       " '1,0,0': 0,\n",
       " '1,0,1': 0,\n",
       " '1,1,-1': 0,\n",
       " '1,1,0': 0,\n",
       " '1,1,1': 0,\n",
       " '1,2,-1': 0,\n",
       " '1,2,0': 0,\n",
       " '1,2,1': 0,\n",
       " '1,3,-1': 1,\n",
       " '1,3,1': 1,\n",
       " '1,4,-1': 0,\n",
       " '1,4,0': 0,\n",
       " '1,4,1': 0,\n",
       " '2,-5,-1': 0,\n",
       " '2,-5,0': 0,\n",
       " '2,-5,1': 0,\n",
       " '2,-4,-1': 0,\n",
       " '2,-4,0': 0,\n",
       " '2,-4,1': 0,\n",
       " '2,-3,-1': 0,\n",
       " '2,-3,0': 0,\n",
       " '2,-3,1': 0,\n",
       " '2,-2,-1': 0,\n",
       " '2,-2,0': 0,\n",
       " '2,-2,1': 0,\n",
       " '2,-1,-1': 0,\n",
       " '2,-1,0': 0,\n",
       " '2,-1,1': 0,\n",
       " '2,0,-1': 0,\n",
       " '2,0,1': 0,\n",
       " '2,1,-1': 0,\n",
       " '2,1,1': 0,\n",
       " '2,2,-1': 0,\n",
       " '2,2,0': 0,\n",
       " '2,2,1': 0,\n",
       " '2,3,-1': 1,\n",
       " '2,3,1': 1,\n",
       " '2,4,-1': 0,\n",
       " '2,4,0': 0,\n",
       " '2,4,1': 0,\n",
       " '3,-5,-1': 0,\n",
       " '3,-5,0': 0,\n",
       " '3,-5,1': 0,\n",
       " '3,-4,-1': 0,\n",
       " '3,-4,0': 0,\n",
       " '3,-4,1': 0,\n",
       " '3,-3,-1': 0,\n",
       " '3,-3,1': 0,\n",
       " '3,-2,-1': 0,\n",
       " '3,-2,1': 0,\n",
       " '3,-1,-1': 1,\n",
       " '3,-1,0': 1,\n",
       " '3,-1,1': 1,\n",
       " '3,0,-1': 1,\n",
       " '3,0,1': 1,\n",
       " '3,1,-1': 0,\n",
       " '3,1,0': 0,\n",
       " '3,1,1': 0,\n",
       " '3,2,-1': 1,\n",
       " '3,2,1': 1,\n",
       " '3,3,-1': 0,\n",
       " '3,3,0': 0,\n",
       " '3,3,1': 0,\n",
       " '3,4,-1': 0,\n",
       " '3,4,0': 0,\n",
       " '3,4,1': 0,\n",
       " '4,-5,-1': 0,\n",
       " '4,-5,0': 0,\n",
       " '4,-5,1': 0,\n",
       " '4,-4,-1': 0,\n",
       " '4,-4,0': 0,\n",
       " '4,-4,1': 0,\n",
       " '4,-3,-1': 0,\n",
       " '4,-3,0': 0,\n",
       " '4,-3,1': 0,\n",
       " '4,-2,-1': 0,\n",
       " '4,-2,0': 0,\n",
       " '4,-2,1': 0,\n",
       " '4,-1,-1': 0,\n",
       " '4,-1,0': 0,\n",
       " '4,-1,1': 0,\n",
       " '4,0,-1': 0,\n",
       " '4,0,0': 0,\n",
       " '4,0,1': 0,\n",
       " '4,1,-1': 0,\n",
       " '4,1,0': 0,\n",
       " '4,1,1': 0,\n",
       " '4,2,-1': 0,\n",
       " '4,2,0': 0,\n",
       " '4,2,1': 0,\n",
       " '4,3,-1': 0,\n",
       " '4,3,0': 0,\n",
       " '4,3,1': 0,\n",
       " '4,4,-1': 0,\n",
       " '4,4,0': 0,\n",
       " '4,4,1': 0}"
      ]
     },
     "execution_count": 12,
     "metadata": {},
     "output_type": "execute_result"
    }
   ],
   "source": [
    "new_cube"
   ]
  },
  {
   "cell_type": "code",
   "execution_count": 13,
   "metadata": {},
   "outputs": [
    {
     "name": "stdout",
     "output_type": "stream",
     "text": [
      "-4,-3,0\n",
      "-4,-2,0\n",
      "-4,3,0\n",
      "-2,-4,0\n",
      "-2,-2,0\n",
      "-2,2,0\n",
      "-2,3,0\n",
      "-1,-4,0\n",
      "0,-1,0\n",
      "0,2,0\n",
      "1,-2,0\n",
      "1,3,0\n",
      "2,0,0\n",
      "2,1,0\n",
      "2,3,0\n",
      "3,0,0\n",
      "3,2,0\n",
      "-5,-3,-1\n",
      "-5,-3,0\n",
      "-5,-3,1\n",
      "-5,-2,-1\n",
      "-5,-2,0\n",
      "-5,-2,1\n",
      "-4,-3,-1\n",
      "-4,-3,1\n",
      "-4,-2,-1\n",
      "-4,-2,1\n",
      "-4,2,-1\n",
      "-4,2,0\n",
      "-4,2,1\n",
      "-4,3,-1\n",
      "-4,3,1\n",
      "-3,4,-1\n",
      "-3,4,0\n",
      "-3,4,1\n",
      "-1,0,-1\n",
      "-1,0,0\n",
      "-1,0,1\n",
      "-1,1,-1\n",
      "-1,1,0\n",
      "-1,1,1\n",
      "-1,3,-1\n",
      "-1,3,0\n",
      "-1,3,1\n",
      "0,-4,-1\n",
      "0,-4,0\n",
      "0,-4,1\n",
      "0,0,-1\n",
      "0,0,0\n",
      "0,0,1\n",
      "0,2,-1\n",
      "0,2,1\n",
      "1,-3,-1\n",
      "1,-3,0\n",
      "1,-3,1\n",
      "1,3,-1\n",
      "1,3,1\n",
      "2,3,-1\n",
      "2,3,1\n",
      "3,-1,-1\n",
      "3,-1,0\n",
      "3,-1,1\n",
      "3,0,-1\n",
      "3,0,1\n",
      "3,2,-1\n",
      "3,2,1\n",
      "66\n"
     ]
    }
   ],
   "source": [
    "ct = 0\n",
    "for k in new_cube:\n",
    "    if new_cube[k] == 1:\n",
    "        print(f'{k}')\n",
    "        ct += 1\n",
    "print(ct)"
   ]
  },
  {
   "cell_type": "code",
   "execution_count": null,
   "metadata": {},
   "outputs": [],
   "source": []
  },
  {
   "cell_type": "code",
   "execution_count": 14,
   "metadata": {},
   "outputs": [],
   "source": [
    "cube0 = dict(new_cube)\n",
    "cycle_n = 2\n",
    "Nx = N + 2*cycle_n\n",
    "Nz = 1 + 2*cycle_n\n",
    "tmp = 0\n",
    "new_cube = dict(cube0)\n",
    "for i in range(Nx):\n",
    "    for j in range(Nx):\n",
    "        for k in range(Nz):\n",
    "            tmp += 1\n",
    "            xyz = f'{i-int(Nx/2)},{j-int(Nx/2)},{k-int(Nz/2)}'\n",
    "#             print(xyz)\n",
    "            ct = count26(xyz, cube0)\n",
    "            \n",
    "            if xyz in cube0:\n",
    "                if cube0[xyz] == 1:\n",
    "                    if 1<ct<4:\n",
    "                        new_cube[xyz] = 1\n",
    "                    else:\n",
    "                        new_cube[xyz] = 0\n",
    "                else:\n",
    "                    if ct == 3:\n",
    "                        new_cube[xyz] = 1\n",
    "                    else:\n",
    "                        new_cube[xyz] = 0\n",
    "            else:\n",
    "                if ct == 3:\n",
    "                    new_cube[xyz] = 1\n",
    "                else:\n",
    "                    new_cube[xyz] = 0"
   ]
  },
  {
   "cell_type": "code",
   "execution_count": 15,
   "metadata": {},
   "outputs": [
    {
     "name": "stdout",
     "output_type": "stream",
     "text": [
      "54\n"
     ]
    }
   ],
   "source": [
    "ct = 0\n",
    "for k in new_cube:\n",
    "    if new_cube[k] == 1:\n",
    "#         print(f'{k}')\n",
    "        ct += 1\n",
    "print(ct)"
   ]
  },
  {
   "cell_type": "code",
   "execution_count": 16,
   "metadata": {},
   "outputs": [],
   "source": [
    "cycle_n = 3\n",
    "Nx = N + 2*cycle_n\n",
    "Nz = 1 + 2*cycle_n\n",
    "tmp = 0\n",
    "cube0 = dict(new_cube)\n",
    "new_cube = dict(cube0)\n",
    "for i in range(Nx):\n",
    "    for j in range(Nx):\n",
    "        for k in range(Nz):\n",
    "            tmp += 1\n",
    "            xyz = f'{i-int(Nx/2)},{j-int(Nx/2)},{k-int(Nz/2)}'\n",
    "#             print(xyz)\n",
    "            ct = count26(xyz, cube0)\n",
    "            \n",
    "            if xyz in cube0:\n",
    "                if cube0[xyz] == 1:\n",
    "                    if 1<ct<4:\n",
    "                        new_cube[xyz] = 1\n",
    "                    else:\n",
    "                        new_cube[xyz] = 0\n",
    "                else:\n",
    "                    if ct == 3:\n",
    "                        new_cube[xyz] = 1\n",
    "                    else:\n",
    "                        new_cube[xyz] = 0\n",
    "            else:\n",
    "                if ct == 3:\n",
    "                    new_cube[xyz] = 1\n",
    "                else:\n",
    "                    new_cube[xyz] = 0"
   ]
  },
  {
   "cell_type": "code",
   "execution_count": 17,
   "metadata": {},
   "outputs": [
    {
     "name": "stdout",
     "output_type": "stream",
     "text": [
      "137\n"
     ]
    }
   ],
   "source": [
    "ct = 0\n",
    "for k in new_cube:\n",
    "    if new_cube[k] == 1:\n",
    "#         print(f'{k}')\n",
    "        ct += 1\n",
    "print(ct)"
   ]
  },
  {
   "cell_type": "code",
   "execution_count": 18,
   "metadata": {},
   "outputs": [
    {
     "name": "stdout",
     "output_type": "stream",
     "text": [
      "111\n"
     ]
    }
   ],
   "source": [
    "cycle_n = 4\n",
    "Nx = N + 2*cycle_n\n",
    "Nz = 1 + 2*cycle_n\n",
    "tmp = 0\n",
    "cube0 = dict(new_cube)\n",
    "new_cube = dict(cube0)\n",
    "for i in range(Nx):\n",
    "    for j in range(Nx):\n",
    "        for k in range(Nz):\n",
    "            tmp += 1\n",
    "            xyz = f'{i-int(Nx/2)},{j-int(Nx/2)},{k-int(Nz/2)}'\n",
    "#             print(xyz)\n",
    "            ct = count26(xyz, cube0)\n",
    "            \n",
    "            if xyz in cube0:\n",
    "                if cube0[xyz] == 1:\n",
    "                    if 1<ct<4:\n",
    "                        new_cube[xyz] = 1\n",
    "                    else:\n",
    "                        new_cube[xyz] = 0\n",
    "                else:\n",
    "                    if ct == 3:\n",
    "                        new_cube[xyz] = 1\n",
    "                    else:\n",
    "                        new_cube[xyz] = 0\n",
    "            else:\n",
    "                if ct == 3:\n",
    "                    new_cube[xyz] = 1\n",
    "                else:\n",
    "                    new_cube[xyz] = 0\n",
    "ct = 0\n",
    "for k in new_cube:\n",
    "    if new_cube[k] == 1:\n",
    "#         print(f'{k}')\n",
    "        ct += 1\n",
    "print(ct)"
   ]
  },
  {
   "cell_type": "code",
   "execution_count": 19,
   "metadata": {},
   "outputs": [
    {
     "name": "stdout",
     "output_type": "stream",
     "text": [
      "239\n"
     ]
    }
   ],
   "source": [
    "cycle_n = 5\n",
    "Nx = N + 2*cycle_n\n",
    "Nz = 1 + 2*cycle_n\n",
    "tmp = 0\n",
    "cube0 = dict(new_cube)\n",
    "new_cube = dict(cube0)\n",
    "for i in range(Nx):\n",
    "    for j in range(Nx):\n",
    "        for k in range(Nz):\n",
    "            tmp += 1\n",
    "            xyz = f'{i-int(Nx/2)},{j-int(Nx/2)},{k-int(Nz/2)}'\n",
    "#             print(xyz)\n",
    "            ct = count26(xyz, cube0)\n",
    "            \n",
    "            if xyz in cube0:\n",
    "                if cube0[xyz] == 1:\n",
    "                    if 1<ct<4:\n",
    "                        new_cube[xyz] = 1\n",
    "                    else:\n",
    "                        new_cube[xyz] = 0\n",
    "                else:\n",
    "                    if ct == 3:\n",
    "                        new_cube[xyz] = 1\n",
    "                    else:\n",
    "                        new_cube[xyz] = 0\n",
    "            else:\n",
    "                if ct == 3:\n",
    "                    new_cube[xyz] = 1\n",
    "                else:\n",
    "                    new_cube[xyz] = 0\n",
    "ct = 0\n",
    "for k in new_cube:\n",
    "    if new_cube[k] == 1:\n",
    "#         print(f'{k}')\n",
    "        ct += 1\n",
    "print(ct)"
   ]
  },
  {
   "cell_type": "code",
   "execution_count": 20,
   "metadata": {},
   "outputs": [
    {
     "name": "stdout",
     "output_type": "stream",
     "text": [
      "237\n"
     ]
    }
   ],
   "source": [
    "cycle_n = 6\n",
    "Nx = N + 2*cycle_n\n",
    "Nz = 1 + 2*cycle_n\n",
    "tmp = 0\n",
    "cube0 = dict(new_cube)\n",
    "new_cube = dict(cube0)\n",
    "for i in range(Nx):\n",
    "    for j in range(Nx):\n",
    "        for k in range(Nz):\n",
    "            tmp += 1\n",
    "            xyz = f'{i-int(Nx/2)},{j-int(Nx/2)},{k-int(Nz/2)}'\n",
    "#             print(xyz)\n",
    "            ct = count26(xyz, cube0)\n",
    "            \n",
    "            if xyz in cube0:\n",
    "                if cube0[xyz] == 1:\n",
    "                    if 1<ct<4:\n",
    "                        new_cube[xyz] = 1\n",
    "                    else:\n",
    "                        new_cube[xyz] = 0\n",
    "                else:\n",
    "                    if ct == 3:\n",
    "                        new_cube[xyz] = 1\n",
    "                    else:\n",
    "                        new_cube[xyz] = 0\n",
    "            else:\n",
    "                if ct == 3:\n",
    "                    new_cube[xyz] = 1\n",
    "                else:\n",
    "                    new_cube[xyz] = 0\n",
    "ct = 0\n",
    "for k in new_cube:\n",
    "    if new_cube[k] == 1:\n",
    "#         print(f'{k}')\n",
    "        ct += 1\n",
    "print(ct)"
   ]
  },
  {
   "cell_type": "code",
   "execution_count": null,
   "metadata": {},
   "outputs": [],
   "source": []
  },
  {
   "cell_type": "markdown",
   "metadata": {},
   "source": [
    "# Part 2"
   ]
  },
  {
   "cell_type": "code",
   "execution_count": 21,
   "metadata": {},
   "outputs": [],
   "source": [
    "def count26_4D(xyzw: str, cube) -> int:\n",
    "    x, y, z, w = xyzw.split(',')\n",
    "    x, y, z, w = int(x), int(y), int(z), int(w)\n",
    "    ct = 0\n",
    "    neighbors = []\n",
    "    for i in [-1, 0, 1]:\n",
    "        for j in [-1, 0, 1]:\n",
    "            for k in [-1, 0, 1]:\n",
    "                for m in [-1, 0, 1]:\n",
    "                    if (i == 0) and (j == 0) and (k == 0) and (m == 0):\n",
    "                        continue\n",
    "                    neighbors.append(f'{x+i},{y+j},{z+k},{w+m}')\n",
    "    for key in neighbors:\n",
    "        if key in cube:\n",
    "            ct += cube[key]\n",
    "    return ct"
   ]
  },
  {
   "cell_type": "code",
   "execution_count": 22,
   "metadata": {},
   "outputs": [
    {
     "name": "stdout",
     "output_type": "stream",
     "text": [
      "defaultdict(<function <lambda> at 0x0000020376E84EE0>, {'-4,-4,0,0': 1, '-4,-3,0,0': 1, '-4,-2,0,0': 1, '-4,-1,0,0': 1, '-4,3,0,0': 1, '-3,2,0,0': 1, '-3,3,0,0': 1, '-2,-4,0,0': 1, '-2,-3,0,0': 1, '-2,-2,0,0': 1, '-2,-1,0,0': 1, '-2,2,0,0': 1, '-2,3,0,0': 1, '-1,-4,0,0': 1, '-1,-3,0,0': 1, '0,-2,0,0': 1, '0,-1,0,0': 1, '0,1,0,0': 1, '0,2,0,0': 1, '1,-4,0,0': 1, '1,-2,0,0': 1, '1,-1,0,0': 1, '1,3,0,0': 1, '2,0,0,0': 1, '2,1,0,0': 1, '2,3,0,0': 1, '3,-3,0,0': 1, '3,-2,0,0': 1, '3,0,0,0': 1, '3,2,0,0': 1})\n"
     ]
    }
   ],
   "source": [
    "cube = defaultdict(lambda:0)\n",
    "data = data_raw\n",
    "N = len(data)\n",
    "for x in range(N):\n",
    "    for y in range(N):\n",
    "        key = f'{x-int(N/2+0.1)},{y-int(N/2+0.1)},0,0'\n",
    "\n",
    "        if data[x][y] == '#':\n",
    "            cube[key] = 1\n",
    "print(cube)"
   ]
  },
  {
   "cell_type": "code",
   "execution_count": 23,
   "metadata": {},
   "outputs": [],
   "source": [
    "new_cube = dict(cube)"
   ]
  },
  {
   "cell_type": "code",
   "execution_count": 24,
   "metadata": {},
   "outputs": [
    {
     "name": "stdout",
     "output_type": "stream",
     "text": [
      "180\n",
      "165\n",
      "872\n",
      "492\n",
      "2168\n",
      "2448\n"
     ]
    }
   ],
   "source": [
    "for cycle_n in range(1,7):\n",
    "    Nx = N + 2*cycle_n\n",
    "    Nz = 1 + 2*cycle_n\n",
    "    tmp = 0\n",
    "    cube0 = dict(new_cube)\n",
    "    new_cube = dict(cube0)\n",
    "    for i in range(Nx):\n",
    "        for j in range(Nx):\n",
    "            for k in range(Nz):\n",
    "                for m in range(Nz):\n",
    "                    tmp += 1\n",
    "                    xyzw = f'{i-int(Nx/2)},{j-int(Nx/2)},{k-int(Nz/2)},{m-int(Nz/2)}'\n",
    "#                     print(xyzw)\n",
    "                    ct = count26_4D(xyzw, cube0)\n",
    "\n",
    "                    if xyzw in cube0:\n",
    "                        if cube0[xyzw] == 1:\n",
    "                            if 1<ct<4:\n",
    "                                new_cube[xyzw] = 1\n",
    "                            else:\n",
    "                                new_cube[xyzw] = 0\n",
    "                        else:\n",
    "                            if ct == 3:\n",
    "                                new_cube[xyzw] = 1\n",
    "                            else:\n",
    "                                new_cube[xyzw] = 0\n",
    "                    else:\n",
    "                        if ct == 3:\n",
    "                            new_cube[xyzw] = 1\n",
    "                        else:\n",
    "                            new_cube[xyzw] = 0\n",
    "    ct = 0\n",
    "    for k in new_cube:\n",
    "        if new_cube[k] == 1:\n",
    "    #         print(f'{k}')\n",
    "            ct += 1\n",
    "    print(ct)"
   ]
  },
  {
   "cell_type": "code",
   "execution_count": null,
   "metadata": {},
   "outputs": [],
   "source": []
  },
  {
   "cell_type": "code",
   "execution_count": null,
   "metadata": {},
   "outputs": [],
   "source": []
  },
  {
   "cell_type": "code",
   "execution_count": null,
   "metadata": {},
   "outputs": [],
   "source": []
  },
  {
   "cell_type": "code",
   "execution_count": null,
   "metadata": {},
   "outputs": [],
   "source": []
  },
  {
   "cell_type": "code",
   "execution_count": null,
   "metadata": {},
   "outputs": [],
   "source": []
  },
  {
   "cell_type": "code",
   "execution_count": null,
   "metadata": {},
   "outputs": [],
   "source": []
  },
  {
   "cell_type": "code",
   "execution_count": null,
   "metadata": {},
   "outputs": [],
   "source": []
  },
  {
   "cell_type": "code",
   "execution_count": null,
   "metadata": {},
   "outputs": [],
   "source": []
  },
  {
   "cell_type": "code",
   "execution_count": null,
   "metadata": {},
   "outputs": [],
   "source": []
  },
  {
   "cell_type": "code",
   "execution_count": null,
   "metadata": {},
   "outputs": [],
   "source": []
  },
  {
   "cell_type": "code",
   "execution_count": 26,
   "metadata": {},
   "outputs": [],
   "source": [
    "import numpy as np"
   ]
  },
  {
   "cell_type": "code",
   "execution_count": 27,
   "metadata": {},
   "outputs": [
    {
     "data": {
      "text/plain": [
       "array([  4.7628866 , -12.40206186,  14.21649485])"
      ]
     },
     "execution_count": 27,
     "metadata": {},
     "output_type": "execute_result"
    }
   ],
   "source": [
    "np.polyfit([1,2,3,4,6], [5, 11, 21, 38, 112], 2)"
   ]
  },
  {
   "cell_type": "code",
   "execution_count": 28,
   "metadata": {},
   "outputs": [
    {
     "data": {
      "text/plain": [
       "97.92"
      ]
     },
     "execution_count": 28,
     "metadata": {},
     "output_type": "execute_result"
    }
   ],
   "source": [
    "6*21.32-30"
   ]
  },
  {
   "cell_type": "code",
   "execution_count": 29,
   "metadata": {},
   "outputs": [
    {
     "data": {
      "text/plain": [
       "[6.57731959, 8.46391753, 19.876288670000005, 40.81443301, 111.26804129000001]"
      ]
     },
     "execution_count": 29,
     "metadata": {},
     "output_type": "execute_result"
    }
   ],
   "source": [
    "[4.7628866*x*x-12.40206186*x+14.21649485 for x in[1,2,3,4,6]]"
   ]
  },
  {
   "cell_type": "code",
   "execution_count": 30,
   "metadata": {},
   "outputs": [
    {
     "data": {
      "text/plain": [
       "30"
      ]
     },
     "execution_count": 30,
     "metadata": {},
     "output_type": "execute_result"
    }
   ],
   "source": [
    "30"
   ]
  },
  {
   "cell_type": "code",
   "execution_count": 31,
   "metadata": {},
   "outputs": [
    {
     "data": {
      "text/plain": [
       "448"
      ]
     },
     "execution_count": 31,
     "metadata": {},
     "output_type": "execute_result"
    }
   ],
   "source": [
    "112*4"
   ]
  },
  {
   "cell_type": "code",
   "execution_count": 32,
   "metadata": {},
   "outputs": [
    {
     "data": {
      "text/plain": [
       "4032"
      ]
     },
     "execution_count": 32,
     "metadata": {},
     "output_type": "execute_result"
    }
   ],
   "source": [
    "112*6*6"
   ]
  },
  {
   "cell_type": "code",
   "execution_count": 33,
   "metadata": {},
   "outputs": [
    {
     "data": {
      "text/plain": [
       "array([1., 1.])"
      ]
     },
     "execution_count": 33,
     "metadata": {},
     "output_type": "execute_result"
    }
   ],
   "source": [
    "np.polyfit([1,2,3,4,6], [2,3,4,5,7], 1)"
   ]
  },
  {
   "cell_type": "code",
   "execution_count": 34,
   "metadata": {},
   "outputs": [],
   "source": [
    "import matplotlib.pyplot as plt"
   ]
  },
  {
   "cell_type": "code",
   "execution_count": 35,
   "metadata": {},
   "outputs": [
    {
     "data": {
      "text/plain": [
       "[<matplotlib.lines.Line2D at 0x20379abea90>]"
      ]
     },
     "execution_count": 35,
     "metadata": {},
     "output_type": "execute_result"
    },
    {
     "data": {
      "image/png": "[encoded data removed]",
      "text/plain": [
       "<Figure size 432x288 with 1 Axes>"
      ]
     },
     "metadata": {
      "needs_background": "light"
     },
     "output_type": "display_data"
    }
   ],
   "source": [
    "plt.plot([1,2,3,4,6], [5, 11, 21, 38, 112])"
   ]
  },
  {
   "cell_type": "code",
   "execution_count": null,
   "metadata": {},
   "outputs": [],
   "source": []
  }
 ],
 "metadata": {
  "kernelspec": {
   "display_name": "Python 3",
   "language": "python",
   "name": "python3"
  },
  "language_info": {
   "codemirror_mode": {
    "name": "ipython",
    "version": 3
   },
   "file_extension": ".py",
   "mimetype": "text/x-python",
   "name": "python",
   "nbconvert_exporter": "python",
   "pygments_lexer": "ipython3",
   "version": "3.8.5"
  }
 },
 "nbformat": 4,
 "nbformat_minor": 4
}
