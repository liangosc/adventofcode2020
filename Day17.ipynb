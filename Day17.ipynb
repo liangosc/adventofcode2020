{
 "cells": [
  {
   "cell_type": "code",
   "execution_count": 1,
   "metadata": {},
   "outputs": [],
   "source": [
    "from collections import defaultdict\n",
    "from itertools import product\n",
    "import time"
   ]
  },
  {
   "cell_type": "code",
   "execution_count": 2,
   "metadata": {},
   "outputs": [],
   "source": [
    "f = open('day17_input.txt')\n",
    "lines = f.readlines()\n",
    "f.close()\n",
    "data = [(line[0:-1]) for line in lines]"
   ]
  },
  {
   "cell_type": "code",
   "execution_count": 3,
   "metadata": {},
   "outputs": [
    {
     "name": "stdout",
     "output_type": "stream",
     "text": [
      "Data:\n"
     ]
    },
    {
     "data": {
      "text/plain": [
       "['####...#',\n",
       " '......##',\n",
       " '####..##',\n",
       " '##......',\n",
       " '..##.##.',\n",
       " '#.##...#',\n",
       " '....##.#',\n",
       " '.##.#.#.']"
      ]
     },
     "execution_count": 3,
     "metadata": {},
     "output_type": "execute_result"
    }
   ],
   "source": [
    "print('Data:')\n",
    "data"
   ]
  },
  {
   "cell_type": "markdown",
   "metadata": {},
   "source": [
    "# Part 1"
   ]
  },
  {
   "cell_type": "markdown",
   "metadata": {},
   "source": [
    "This is another questions similar to Conway's Game of Life (https://en.wikipedia.org/wiki/Conway%27s_Game_of_Life#).\n",
    "\n",
    "Because it's in 3D, there are **26** neighbors. \"#\" means active, and \".\" means inactive.\n",
    "\n",
    "The rules are:\n",
    "- If a cube is active and exactly 2 or 3 of its neighbors are also active, the cube remains active. Otherwise, the cube becomes inactive.\n",
    "- If a cube is inactive but exactly 3 of its neighbors are active, the cube becomes active. Otherwise, the cube remains inactive."
   ]
  },
  {
   "cell_type": "markdown",
   "metadata": {},
   "source": [
    "First, I'll define a function which counts the status of the 26 neighbors:"
   ]
  },
  {
   "cell_type": "code",
   "execution_count": 4,
   "metadata": {},
   "outputs": [],
   "source": [
    "def count_neighbors(xyz: str, cube) -> int:\n",
    "    \"\"\"\n",
    "    args:\n",
    "        xyz: the 3d coordinates (x, y, z) in string format \"x,y,z\"\n",
    "        cube: the previous state of the 3D cube\n",
    "    returns:\n",
    "        number of active neighbors out of the 26 neighbors.\n",
    "    \"\"\"\n",
    "    x, y, z = [int(n) for n in xyz.split(',')]\n",
    "    ct = -cube[xyz] if xyz in cube else 0\n",
    "    neighbors = []\n",
    "    for i, j, k in product([-1, 0, 1], [-1, 0, 1], [-1, 0, 1]):\n",
    "        neighbor = f'{x+i},{y+j},{z+k}'\n",
    "        if neighbor in cube:\n",
    "            ct += cube[neighbor]\n",
    "    return ct"
   ]
  },
  {
   "cell_type": "markdown",
   "metadata": {},
   "source": [
    "The initial state is:"
   ]
  },
  {
   "cell_type": "code",
   "execution_count": 5,
   "metadata": {},
   "outputs": [
    {
     "data": {
      "text/plain": [
       "defaultdict(<function __main__.<lambda>()>,\n",
       "            {'-4,-4,0': 1,\n",
       "             '-4,-3,0': 1,\n",
       "             '-4,-2,0': 1,\n",
       "             '-4,-1,0': 1,\n",
       "             '-4,3,0': 1,\n",
       "             '-3,2,0': 1,\n",
       "             '-3,3,0': 1,\n",
       "             '-2,-4,0': 1,\n",
       "             '-2,-3,0': 1,\n",
       "             '-2,-2,0': 1,\n",
       "             '-2,-1,0': 1,\n",
       "             '-2,2,0': 1,\n",
       "             '-2,3,0': 1,\n",
       "             '-1,-4,0': 1,\n",
       "             '-1,-3,0': 1,\n",
       "             '0,-2,0': 1,\n",
       "             '0,-1,0': 1,\n",
       "             '0,1,0': 1,\n",
       "             '0,2,0': 1,\n",
       "             '1,-4,0': 1,\n",
       "             '1,-2,0': 1,\n",
       "             '1,-1,0': 1,\n",
       "             '1,3,0': 1,\n",
       "             '2,0,0': 1,\n",
       "             '2,1,0': 1,\n",
       "             '2,3,0': 1,\n",
       "             '3,-3,0': 1,\n",
       "             '3,-2,0': 1,\n",
       "             '3,0,0': 1,\n",
       "             '3,2,0': 1})"
      ]
     },
     "execution_count": 5,
     "metadata": {},
     "output_type": "execute_result"
    }
   ],
   "source": [
    "cube0 = defaultdict(lambda:0)\n",
    "N = len(data)\n",
    "for x in range(N):\n",
    "    for y in range(N):\n",
    "        xyz = f'{x - N//2},{y - N//2},0'   # I prefer to put the (0, 0, 0) at the center\n",
    "        if data[x][y] == '#':\n",
    "            cube0[xyz] += 1\n",
    "cube0"
   ]
  },
  {
   "cell_type": "markdown",
   "metadata": {},
   "source": [
    "In the \"cube\" dictionary, for example, \"'1,-4,0': 1,\" means the grid at x = 1, y = -4, z = 0 is active."
   ]
  },
  {
   "cell_type": "code",
   "execution_count": 6,
   "metadata": {},
   "outputs": [
    {
     "name": "stdout",
     "output_type": "stream",
     "text": [
      "There are 237 active cubes in the active state after 6 cycles.\n",
      "This step cost 0.46 sec.\n"
     ]
    }
   ],
   "source": [
    "cycle = 0\n",
    "cube = dict(cube0)\n",
    "t0 = time.time()\n",
    "while cycle < 6:\n",
    "    cycle += 1\n",
    "\n",
    "    # expand the x, y, and z range by 2 (+/-1) each cycle\n",
    "    Nx = N + 2*cycle    \n",
    "    Nz = 1 + 2*cycle\n",
    "    \n",
    "    # we should not modify the previous state, so a new cube is created:\n",
    "    new_cube = dict(cube)\n",
    "    \n",
    "    for i, j, k in product(range(Nx), range(Nx), range(Nz)):\n",
    "        xyz = f'{i - Nx//2},{j- Nx//2},{k - Nz//2}'\n",
    "        ct = count_neighbors(xyz, cube)\n",
    "\n",
    "        if (xyz in cube) and (cube[xyz] == 1):\n",
    "            if (ct == 2) or (ct == 3):\n",
    "                new_cube[xyz] = 1\n",
    "            else:\n",
    "                new_cube[xyz] = 0\n",
    "        else:\n",
    "            if ct == 3:\n",
    "                new_cube[xyz] = 1\n",
    "            else:\n",
    "                new_cube[xyz] = 0\n",
    "    cube = new_cube\n",
    "\n",
    "print(f'There are {sum(new_cube.values())} active cubes in the active state after {cycle} cycles.')\n",
    "print(f'This step cost {round(time.time() - t0, 2)} sec.')"
   ]
  },
  {
   "cell_type": "markdown",
   "metadata": {},
   "source": [
    "# Part 2"
   ]
  },
  {
   "cell_type": "markdown",
   "metadata": {},
   "source": [
    "3D -> 4D"
   ]
  },
  {
   "cell_type": "markdown",
   "metadata": {},
   "source": [
    "We need to modify the count_neighbor funciton so that it counts 4D:"
   ]
  },
  {
   "cell_type": "code",
   "execution_count": 7,
   "metadata": {},
   "outputs": [],
   "source": [
    "def count_neighbors4D(xyzw: str, cube) -> int:\n",
    "    \"\"\"\n",
    "    args:\n",
    "        xyzw: the 4d coordinates (x, y, z) in string format \"x,y,z,w\"\n",
    "        cube: the previous state of the 4D cube\n",
    "    returns:\n",
    "        number of active neighbors out of the 26 neighbors.\n",
    "    \"\"\"\n",
    "    x, y, z, w = [int(n) for n in xyzw.split(',')]\n",
    "    ct = -cube[xyzw] if xyzw in cube else 0\n",
    "    neighbors = []\n",
    "    for i, j, k, l in product([-1, 0, 1], [-1, 0, 1], [-1, 0, 1], [-1, 0, 1]):\n",
    "        neighbor = f'{x+i},{y+j},{z+k},{w+l}'\n",
    "        if neighbor in cube:\n",
    "            ct += cube[neighbor]\n",
    "    return ct"
   ]
  },
  {
   "cell_type": "markdown",
   "metadata": {},
   "source": [
    "And do the same for the rest:"
   ]
  },
  {
   "cell_type": "code",
   "execution_count": 8,
   "metadata": {},
   "outputs": [],
   "source": [
    "cube0 = defaultdict(lambda:0)\n",
    "N = len(data)\n",
    "for x in range(N):\n",
    "    for y in range(N):\n",
    "        xyzw = f'{x - N//2},{y - N//2},0,0'   # I prefer to put the (0, 0, 0, 0) at the center\n",
    "        if data[x][y] == '#':\n",
    "            cube0[xyzw] += 1"
   ]
  },
  {
   "cell_type": "code",
   "execution_count": 9,
   "metadata": {},
   "outputs": [
    {
     "name": "stdout",
     "output_type": "stream",
     "text": [
      "There are 2448 active cubes in the active state after 6 cycles.\n",
      "This step cost 12.65 sec.\n"
     ]
    }
   ],
   "source": [
    "cycle = 0\n",
    "cube = dict(cube0)\n",
    "t0 = time.time()\n",
    "while cycle < 6:\n",
    "    cycle += 1\n",
    "\n",
    "    # expand the x, y, and z range by 2 (+/-1) each cycle\n",
    "    Nx = N + 2*cycle    \n",
    "    Nz = 1 + 2*cycle\n",
    "    \n",
    "    # we should not modify the previous state, so a new cube is created:\n",
    "    new_cube = dict(cube)\n",
    "    \n",
    "    for i, j, k, w in product(range(Nx), range(Nx), range(Nz), range(Nz)):\n",
    "        xyzw = f'{i - Nx//2},{j- Nx//2},{k - Nz//2},{w - Nz//2}'\n",
    "        ct = count_neighbors4D(xyzw, cube)\n",
    "\n",
    "        if (xyzw in cube) and (cube[xyzw] == 1):\n",
    "            if (ct == 2) or (ct == 3):\n",
    "                new_cube[xyzw] = 1\n",
    "            else:\n",
    "                new_cube[xyzw] = 0\n",
    "        else:\n",
    "            if ct == 3:\n",
    "                new_cube[xyzw] = 1\n",
    "            else:\n",
    "                new_cube[xyzw] = 0\n",
    "    cube = new_cube\n",
    "\n",
    "print(f'There are {sum(new_cube.values())} active cubes in the active state after {cycle} cycles.')\n",
    "print(f'This step cost {round(time.time() - t0, 2)} sec.')"
   ]
  },
  {
   "cell_type": "code",
   "execution_count": null,
   "metadata": {},
   "outputs": [],
   "source": []
  }
 ],
 "metadata": {
  "kernelspec": {
   "display_name": "Python 3",
   "language": "python",
   "name": "python3"
  },
  "language_info": {
   "codemirror_mode": {
    "name": "ipython",
    "version": 3
   },
   "file_extension": ".py",
   "mimetype": "text/x-python",
   "name": "python",
   "nbconvert_exporter": "python",
   "pygments_lexer": "ipython3",
   "version": "3.8.5"
  }
 },
 "nbformat": 4,
 "nbformat_minor": 4
}
