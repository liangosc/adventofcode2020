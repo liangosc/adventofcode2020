{
 "cells": [
  {
   "cell_type": "code",
   "execution_count": 1,
   "metadata": {},
   "outputs": [],
   "source": [
    "from itertools import product"
   ]
  },
  {
   "cell_type": "code",
   "execution_count": 2,
   "metadata": {},
   "outputs": [],
   "source": [
    "f = open('day14_input.txt')\n",
    "lines = f.readlines()\n",
    "f.close()\n",
    "data = [(line[0:-1]) for line in lines]"
   ]
  },
  {
   "cell_type": "code",
   "execution_count": 3,
   "metadata": {},
   "outputs": [
    {
     "name": "stdout",
     "output_type": "stream",
     "text": [
      "The first few lines of data are:\n"
     ]
    },
    {
     "data": {
      "text/plain": [
       "['mask = 000001001011XX1XX100X0001011X0001101',\n",
       " 'mem[54977] = 194579',\n",
       " 'mem[29691] = 71157948',\n",
       " 'mem[27205] = 122030256',\n",
       " 'mem[43160] = 91267',\n",
       " 'mem[45028] = 254793847',\n",
       " 'mem[27137] = 1696',\n",
       " 'mask = 1000011X10X10X1X1100101X00X011010001',\n",
       " 'mem[20727] = 25071621',\n",
       " 'mem[37927] = 626522009']"
      ]
     },
     "execution_count": 3,
     "metadata": {},
     "output_type": "execute_result"
    }
   ],
   "source": [
    "print('The first few lines of data are:')\n",
    "data[0:10]"
   ]
  },
  {
   "cell_type": "markdown",
   "metadata": {},
   "source": [
    "# Part 1"
   ]
  },
  {
   "cell_type": "markdown",
   "metadata": {},
   "source": [
    "The 'mask' will overwrite the bits that are not 'X's, for the following mem assignments. Once a new mask is present, the previous one stops working."
   ]
  },
  {
   "cell_type": "markdown",
   "metadata": {},
   "source": [
    "For part 1, we want to get the sum of all the values left in the memory.\n",
    "\n",
    "No shortcuts, just go through all the cmds: (save all the used memory address in a dictionary)"
   ]
  },
  {
   "cell_type": "code",
   "execution_count": 4,
   "metadata": {},
   "outputs": [
    {
     "name": "stdout",
     "output_type": "stream",
     "text": [
      "The sume of all values left in momory is 2346881602152.\n"
     ]
    }
   ],
   "source": [
    "memory = {}\n",
    "curr_mask = None\n",
    "for line in data:\n",
    "    cmd, val = line.split(' = ')\n",
    "    if cmd == 'mask':\n",
    "        curr_mask = val\n",
    "        n = len(curr_mask)\n",
    "    else:\n",
    "        address = cmd[4:-1]\n",
    "        val_bin = list(bin(int(val))[2:].zfill(n))\n",
    "        \n",
    "        for i in range(n):\n",
    "            if curr_mask[i] != 'X':\n",
    "                val_bin[i] = curr_mask[i]\n",
    "                \n",
    "        memory[address] = int(''.join(val_bin), 2)\n",
    "\n",
    "print(f'The sume of all values left in momory is {sum(memory.values())}.')        "
   ]
  },
  {
   "cell_type": "markdown",
   "metadata": {},
   "source": [
    "# Part 2"
   ]
  },
  {
   "cell_type": "markdown",
   "metadata": {},
   "source": [
    "\"Mask\" works in a different way! It changes the address, instead of the value:\n",
    "\n",
    "- If the bitmask bit is 0, the corresponding memory address bit is unchanged.\n",
    "- If the bitmask bit is 1, the corresponding memory address bit is overwritten with 1.\n",
    "- If the bitmask bit is X, the corresponding memory address bit is floating."
   ]
  },
  {
   "cell_type": "markdown",
   "metadata": {},
   "source": [
    "As a result, 'X1101X' means:"
   ]
  },
  {
   "cell_type": "code",
   "execution_count": 5,
   "metadata": {},
   "outputs": [
    {
     "name": "stdout",
     "output_type": "stream",
     "text": [
      "011010\n",
      "011011\n",
      "111010\n",
      "111011\n"
     ]
    }
   ],
   "source": [
    "p = [['0', '1'], ['1101'], ['0', '1']]\n",
    "for address in product(*p):\n",
    "    print(''.join(address))"
   ]
  },
  {
   "cell_type": "markdown",
   "metadata": {},
   "source": [
    "A function is made to return all the possible address with given mask:"
   ]
  },
  {
   "cell_type": "code",
   "execution_count": 6,
   "metadata": {},
   "outputs": [],
   "source": [
    "def get_addresses(address: str, mask: str) -> list:\n",
    "    p = []\n",
    "    tmp = ''\n",
    "    for i in range(len(mask)):\n",
    "        if mask[i] == '0':\n",
    "            tmp += address[i]\n",
    "        elif mask[i] == '1':\n",
    "            tmp += '1'\n",
    "        else:  # mask[i] == 'X':\n",
    "            if tmp != '':\n",
    "                p.append([tmp])\n",
    "                tmp = ''\n",
    "            p.append(['0', '1'])\n",
    "    if tmp != '':\n",
    "        p.append([tmp])\n",
    "    addresses = []\n",
    "    for address in product(*p):\n",
    "        addresses.append(''.join(address))\n",
    "    return addresses"
   ]
  },
  {
   "cell_type": "code",
   "execution_count": 7,
   "metadata": {},
   "outputs": [
    {
     "data": {
      "text/plain": [
       "['011010', '011011', '111010', '111011']"
      ]
     },
     "execution_count": 7,
     "metadata": {},
     "output_type": "execute_result"
    }
   ],
   "source": [
    "get_addresses('101010', 'X1001X')"
   ]
  },
  {
   "cell_type": "markdown",
   "metadata": {},
   "source": [
    "Now let's go through the cmds:"
   ]
  },
  {
   "cell_type": "code",
   "execution_count": 8,
   "metadata": {},
   "outputs": [
    {
     "name": "stdout",
     "output_type": "stream",
     "text": [
      "The sume of all values left in momory is 3885232834169.\n"
     ]
    }
   ],
   "source": [
    "memory = {}\n",
    "curr_mask = None\n",
    "for line in data:\n",
    "    cmd, val = line.split(' = ')\n",
    "    if cmd == 'mask':\n",
    "        curr_mask = val\n",
    "    else:\n",
    "        address = bin(int(cmd[4:-1]))[2:]\n",
    "        addresses = get_addresses(address.zfill(36), curr_mask)\n",
    "        for address in addresses:\n",
    "            memory[address] = int(val)\n",
    "\n",
    "print(f'The sume of all values left in momory is {sum(memory.values())}.')        "
   ]
  },
  {
   "cell_type": "code",
   "execution_count": null,
   "metadata": {},
   "outputs": [],
   "source": []
  }
 ],
 "metadata": {
  "kernelspec": {
   "display_name": "Python 3",
   "language": "python",
   "name": "python3"
  },
  "language_info": {
   "codemirror_mode": {
    "name": "ipython",
    "version": 3
   },
   "file_extension": ".py",
   "mimetype": "text/x-python",
   "name": "python",
   "nbconvert_exporter": "python",
   "pygments_lexer": "ipython3",
   "version": "3.8.5"
  }
 },
 "nbformat": 4,
 "nbformat_minor": 4
}
