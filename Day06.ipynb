{
 "cells": [
  {
   "cell_type": "code",
   "execution_count": 1,
   "metadata": {},
   "outputs": [],
   "source": [
    "f = open('day06_input.txt')\n",
    "lines = f.readlines()\n",
    "f.close()\n",
    "data = [line[0:-1] for line in lines]"
   ]
  },
  {
   "cell_type": "code",
   "execution_count": 2,
   "metadata": {},
   "outputs": [
    {
     "name": "stdout",
     "output_type": "stream",
     "text": [
      "The data looks like the following\n"
     ]
    },
    {
     "data": {
      "text/plain": [
       "['clvxybjp',\n",
       " 'kripatlzy',\n",
       " '',\n",
       " 'yrn',\n",
       " 'labirzd',\n",
       " 'noypr',\n",
       " '',\n",
       " 'ioluwteykdrcavfgqh',\n",
       " 'ioevhcfnwjduqyagkr',\n",
       " 'syjgrehokavfdqwuic']"
      ]
     },
     "execution_count": 2,
     "metadata": {},
     "output_type": "execute_result"
    }
   ],
   "source": [
    "print(f'The data looks like the following')\n",
    "data[0:10]"
   ]
  },
  {
   "cell_type": "markdown",
   "metadata": {},
   "source": [
    "# Part 1"
   ]
  },
  {
   "cell_type": "markdown",
   "metadata": {},
   "source": [
    "For part 1, we need to count the distinct letters in each group. (groups are separated by a blank line.)"
   ]
  },
  {
   "cell_type": "code",
   "execution_count": 3,
   "metadata": {},
   "outputs": [
    {
     "name": "stdout",
     "output_type": "stream",
     "text": [
      "6457\n"
     ]
    }
   ],
   "source": [
    "ans = 0\n",
    "group = ''\n",
    "for person in data:\n",
    "    if person != '':\n",
    "        group += person\n",
    "    else:\n",
    "        ans += len(set(group))\n",
    "        group = ''\n",
    "ans += len(set(group))\n",
    "print(ans)"
   ]
  },
  {
   "cell_type": "markdown",
   "metadata": {},
   "source": [
    "# Part 2"
   ]
  },
  {
   "cell_type": "markdown",
   "metadata": {},
   "source": [
    "For part 2, we need to count the common letters (instead of distinct letters) in each group."
   ]
  },
  {
   "cell_type": "code",
   "execution_count": 4,
   "metadata": {},
   "outputs": [
    {
     "name": "stdout",
     "output_type": "stream",
     "text": [
      "3260\n"
     ]
    }
   ],
   "source": [
    "ans = 0\n",
    "group = []\n",
    "for person in data+['']:\n",
    "    if person != '':\n",
    "        group.append(person)\n",
    "    else:\n",
    "        common_ones = set(group[0])\n",
    "        for p in group[1:]:\n",
    "            common_ones &= set(p)\n",
    "        ans += len(common_ones)\n",
    "        group = []\n",
    "ans += len(group)\n",
    "print(ans)"
   ]
  },
  {
   "cell_type": "code",
   "execution_count": null,
   "metadata": {},
   "outputs": [],
   "source": []
  }
 ],
 "metadata": {
  "kernelspec": {
   "display_name": "Python 3",
   "language": "python",
   "name": "python3"
  },
  "language_info": {
   "codemirror_mode": {
    "name": "ipython",
    "version": 3
   },
   "file_extension": ".py",
   "mimetype": "text/x-python",
   "name": "python",
   "nbconvert_exporter": "python",
   "pygments_lexer": "ipython3",
   "version": "3.8.5"
  }
 },
 "nbformat": 4,
 "nbformat_minor": 4
}
