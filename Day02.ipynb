{
 "cells": [
  {
   "cell_type": "code",
   "execution_count": 3,
   "metadata": {},
   "outputs": [],
   "source": [
    "f = open('day2_input.txt')\n",
    "lines = f.readlines()\n",
    "f.close()\n",
    "pws = [line[0:-1] for line in lines]"
   ]
  },
  {
   "cell_type": "code",
   "execution_count": 10,
   "metadata": {},
   "outputs": [
    {
     "name": "stdout",
     "output_type": "stream",
     "text": [
      "There are 1000 possword, and the first 3 are:\n",
      "['1-14 b: bbbbbbbbbbbbbbbbbbb', '3-14 v: vvpvvvmvvvvvvvv', '2-5 m: mfvxmmm']\n"
     ]
    }
   ],
   "source": [
    "print(f'There are {len(pws)} possword, and the first 3 are:')\n",
    "print(pws[0:3])"
   ]
  },
  {
   "cell_type": "markdown",
   "metadata": {},
   "source": [
    "# Part 1"
   ]
  },
  {
   "cell_type": "markdown",
   "metadata": {},
   "source": [
    "The problem is to check if each password are valid according to its policy. For example:\n",
    "\n",
    "The first entry '1-14 b: bbbbbbbbbbbbbbbbbbb' means the password is 'bbbbbbbbbbbbbbbbbbb', and the policy is: there should be at least 1, but at most 14 b's in the password. So, according to the policy, the password 'bbbbbbbbbbbbbbbbbbb' is NOT valid because there are 19 b's.\n",
    "\n",
    "The second entry, '3-14 v: vvpvvvmvvvvvvvv' has the policy of \"having at least 3, and at most 14 v's\", so 'vvpvvvmvvvvvvvv' is actually valid."
   ]
  },
  {
   "cell_type": "code",
   "execution_count": 12,
   "metadata": {},
   "outputs": [],
   "source": [
    "from collections import Counter"
   ]
  },
  {
   "cell_type": "markdown",
   "metadata": {},
   "source": [
    "(I'm going to use \"Counter\" function to count the appearance of each character.)"
   ]
  },
  {
   "cell_type": "code",
   "execution_count": 6,
   "metadata": {},
   "outputs": [],
   "source": [
    "# example_pws = ['1-3 a: abcde','1-3 b: cdefg','2-9 c: ccccccccc']"
   ]
  },
  {
   "cell_type": "code",
   "execution_count": 17,
   "metadata": {},
   "outputs": [
    {
     "name": "stdout",
     "output_type": "stream",
     "text": [
      "There are 548 valid passwards.\n"
     ]
    }
   ],
   "source": [
    "good_ones = 0\n",
    "for line in pws:\n",
    "    policy, pw = line.split(':')  # I'm sure there is a better way if use regular expression for the following tasks\n",
    "    nums, char = policy.split(' ')\n",
    "    min_n, max_n = nums.split('-')\n",
    "    min_n = int(min_n)\n",
    "    max_n = int(max_n)\n",
    "    pw = pw.strip()\n",
    "    \n",
    "#     print(f'min{min_n}, max{max_n} for letter {char} in --{pw}--')\n",
    "    \n",
    "    ct = Counter(pw)\n",
    "    good_ones += int(min_n <= ct[char] <= max_n)\n",
    "\n",
    "#     if not min_n <= ct[char] <= max_n:\n",
    "#         print(f'min{min_n}, max{max_n} for letter \"{char}\" in --{pw}--, actual {ct[char]}')\n",
    "print(f'There are {good_ones} valid passwards.')"
   ]
  },
  {
   "cell_type": "markdown",
   "metadata": {},
   "source": [
    "# Part 2"
   ]
  },
  {
   "cell_type": "markdown",
   "metadata": {},
   "source": [
    "Oops, wrong explanation about the policy. '1-14 b' actually means position 1 or 14 must be the letter 'b' (but not both, so XOR), so 'bbbbbbbbbbbbbbbbbbb' IS valid. Now let's change the solution a little, no need to count the appearances for part 2:\n",
    "\n",
    "(note: positions start from index 1, so no index 0)"
   ]
  },
  {
   "cell_type": "code",
   "execution_count": 20,
   "metadata": {},
   "outputs": [
    {
     "name": "stdout",
     "output_type": "stream",
     "text": [
      "There are 502 valid passwards.\n"
     ]
    }
   ],
   "source": [
    "good_ones = 0\n",
    "for line in pws:\n",
    "    policy, pw = line.split(':')\n",
    "    nums, char = policy.split(' ')\n",
    "    n1, n2 = nums.split('-')\n",
    "    n1 = int(n1)\n",
    "    n2 = int(n2)\n",
    "    pw = pw.strip()\n",
    "    \n",
    "    good_ones += int((pw[n1-1] == char) ^ (pw[n2-1] == char))\n",
    "    \n",
    "#     if not ((pw[n1-1] == char) ^ (pw[n2-1] == char)):\n",
    "#         print(f'at{n1}, at{n2} for letter \"{char}\" in --{pw}--, actual {pw[n1-1]} and {pw[n2-1]}')\n",
    "print(f'There are {good_ones} valid passwards.')"
   ]
  },
  {
   "cell_type": "code",
   "execution_count": null,
   "metadata": {},
   "outputs": [],
   "source": []
  }
 ],
 "metadata": {
  "kernelspec": {
   "display_name": "Python 3",
   "language": "python",
   "name": "python3"
  },
  "language_info": {
   "codemirror_mode": {
    "name": "ipython",
    "version": 3
   },
   "file_extension": ".py",
   "mimetype": "text/x-python",
   "name": "python",
   "nbconvert_exporter": "python",
   "pygments_lexer": "ipython3",
   "version": "3.8.5"
  }
 },
 "nbformat": 4,
 "nbformat_minor": 2
}
