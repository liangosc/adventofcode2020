{
 "cells": [
  {
   "cell_type": "code",
   "execution_count": 1,
   "metadata": {},
   "outputs": [],
   "source": [
    "data = [11,18,0,20,1,7,16]"
   ]
  },
  {
   "cell_type": "markdown",
   "metadata": {},
   "source": [
    "The rule of this \"memory game\" is simple: players take turns saying a number, starting from the numbers in the data input ([11,18,0,20,1,7,16]), after the last one is spoken, each turn consists of considering the most recently spoken number:\n",
    "\n",
    "- If that was the first time the number has been spoken, the current player says 0.\n",
    "- Otherwise, the number had been spoken before; the current player announces how many turns apart the number is from when it was previously spoken."
   ]
  },
  {
   "cell_type": "markdown",
   "metadata": {},
   "source": [
    "# Part 1"
   ]
  },
  {
   "cell_type": "markdown",
   "metadata": {},
   "source": [
    "what is the 2020th number spoken?\n",
    "\n",
    "So the first to the seventh number are 11,18,0,20,1,7,16.\n",
    "\n",
    "- For the eighth number, because the previous one (16) was spoken the first time, the eighth number would be 0.\n",
    "- For the nineth number, because the previous one (the eighth number, 0) was spoken before (as the third number), the nineth number would be 8-3 = 5\n",
    "\n",
    "...\n",
    "\n",
    "to get the 2020th number, we can do the following:"
   ]
  },
  {
   "cell_type": "code",
   "execution_count": 2,
   "metadata": {},
   "outputs": [],
   "source": [
    "from collections import defaultdict"
   ]
  },
  {
   "cell_type": "code",
   "execution_count": 3,
   "metadata": {},
   "outputs": [
    {
     "name": "stdout",
     "output_type": "stream",
     "text": [
      "The 2020th number is 639.\n"
     ]
    }
   ],
   "source": [
    "last_spoken = defaultdict(lambda: None)\n",
    "\n",
    "i = 0\n",
    "for num in data:\n",
    "    i += 1\n",
    "    last_spoken[num] = [i]\n",
    "\n",
    "previous_num = num\n",
    "    \n",
    "while i < 2020:\n",
    "    i += 1\n",
    "    if len(last_spoken[previous_num]) == 1:\n",
    "        new_number = 0\n",
    "    else:\n",
    "        new_number = last_spoken[previous_num][1] - last_spoken[previous_num][0]\n",
    "    \n",
    "    if last_spoken[new_number]:\n",
    "        last_spoken[new_number] = [last_spoken[new_number][-1], i]\n",
    "    else:\n",
    "        last_spoken[new_number] = [i]\n",
    "    \n",
    "    previous_num = new_number\n",
    "\n",
    "print(f'The {i}th number is {new_number}.')"
   ]
  },
  {
   "cell_type": "markdown",
   "metadata": {},
   "source": [
    "# Part 2"
   ]
  },
  {
   "cell_type": "markdown",
   "metadata": {},
   "source": [
    "What about the 30000000th number? Let's see how long it'll take:"
   ]
  },
  {
   "cell_type": "code",
   "execution_count": 4,
   "metadata": {},
   "outputs": [],
   "source": [
    "import time"
   ]
  },
  {
   "cell_type": "code",
   "execution_count": 5,
   "metadata": {},
   "outputs": [
    {
     "name": "stdout",
     "output_type": "stream",
     "text": [
      "The 30000000th number is 266.\n",
      "The run time is 113.31526470184326 sec.\n"
     ]
    }
   ],
   "source": [
    "last_spoken = defaultdict(lambda: None)\n",
    "\n",
    "i = 0\n",
    "for num in data:\n",
    "    i += 1\n",
    "    last_spoken[num] = [i]\n",
    "\n",
    "previous_num = num\n",
    "\n",
    "t0 = time.time()\n",
    "\n",
    "while i < 30000000:\n",
    "    i += 1\n",
    "    if len(last_spoken[previous_num]) == 1:\n",
    "        new_number = 0\n",
    "    else:\n",
    "        new_number = last_spoken[previous_num][1] - last_spoken[previous_num][0]\n",
    "    \n",
    "    if last_spoken[new_number]:\n",
    "        last_spoken[new_number] = [last_spoken[new_number][-1], i]\n",
    "    else:\n",
    "        last_spoken[new_number] = [i]\n",
    "    \n",
    "    previous_num = new_number\n",
    "\n",
    "print(f'The {i}th number is {new_number}.')\n",
    "print(f'The run time is {time.time() - t0} sec.')"
   ]
  },
  {
   "cell_type": "markdown",
   "metadata": {},
   "source": [
    "Well... not the end of the world. :D"
   ]
  },
  {
   "cell_type": "code",
   "execution_count": null,
   "metadata": {},
   "outputs": [],
   "source": []
  }
 ],
 "metadata": {
  "kernelspec": {
   "display_name": "Python 3",
   "language": "python",
   "name": "python3"
  },
  "language_info": {
   "codemirror_mode": {
    "name": "ipython",
    "version": 3
   },
   "file_extension": ".py",
   "mimetype": "text/x-python",
   "name": "python",
   "nbconvert_exporter": "python",
   "pygments_lexer": "ipython3",
   "version": "3.8.5"
  }
 },
 "nbformat": 4,
 "nbformat_minor": 4
}
