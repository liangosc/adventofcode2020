{
 "cells": [
  {
   "cell_type": "code",
   "execution_count": 1,
   "metadata": {},
   "outputs": [],
   "source": [
    "# f = open('day15_input.txt')\n",
    "# lines = f.readlines()\n",
    "# f.close()"
   ]
  },
  {
   "cell_type": "code",
   "execution_count": 2,
   "metadata": {},
   "outputs": [],
   "source": [
    "# data_raw = [(line[0:-1]) for line in lines]\n",
    "# print(data_raw)"
   ]
  },
  {
   "cell_type": "code",
   "execution_count": 3,
   "metadata": {},
   "outputs": [],
   "source": [
    "data_raw = [11,18,0,20,1,7,16]"
   ]
  },
  {
   "cell_type": "code",
   "execution_count": 4,
   "metadata": {},
   "outputs": [],
   "source": [
    "data0 = [0,3,6]"
   ]
  },
  {
   "cell_type": "code",
   "execution_count": 5,
   "metadata": {},
   "outputs": [],
   "source": [
    "from collections import defaultdict\n",
    "import time"
   ]
  },
  {
   "cell_type": "code",
   "execution_count": 6,
   "metadata": {},
   "outputs": [
    {
     "name": "stdout",
     "output_type": "stream",
     "text": [
      "7\n",
      "...........\n",
      "the 2020th num is 639\n"
     ]
    }
   ],
   "source": [
    "data = data_raw\n",
    "\n",
    "d_idx0 = defaultdict(lambda: None)\n",
    "d_idx1 = defaultdict(lambda: None)\n",
    "d_reps = defaultdict(lambda: 0)\n",
    "i = 0\n",
    "for num in data:\n",
    "    i += 1\n",
    "    d_idx0[num] = i\n",
    "    d_reps[num] = 1\n",
    "    \n",
    "print(i)\n",
    "print('...........')\n",
    "previous_num = data[-1]\n",
    "\n",
    "while i < 2020:\n",
    "    i += 1\n",
    "    if d_reps[previous_num] == 1:\n",
    "        new_num = 0\n",
    "    else:\n",
    "        new_num = d_idx0[previous_num] - d_idx1[previous_num]\n",
    "    d_idx1[new_num], d_idx0[new_num] = d_idx0[new_num], i\n",
    "    d_reps[new_num] += 1\n",
    "    previous_num = new_num\n",
    "\n",
    "print(f'the {i}th num is {new_num}')"
   ]
  },
  {
   "cell_type": "code",
   "execution_count": 7,
   "metadata": {},
   "outputs": [
    {
     "name": "stdout",
     "output_type": "stream",
     "text": [
      "...........\n",
      "the 30000000th num is 266\n",
      "took 50.782987117767334s\n"
     ]
    }
   ],
   "source": [
    "data = data_raw\n",
    "\n",
    "d_idx0 = defaultdict(lambda: None)\n",
    "d_idx1 = defaultdict(lambda: None)\n",
    "d_reps = defaultdict(lambda: 0)\n",
    "i = 0\n",
    "for num in data:\n",
    "    i += 1\n",
    "    d_idx0[num] = i\n",
    "    d_reps[num] = 1\n",
    "    \n",
    "# print(i)\n",
    "print('...........')\n",
    "previous_num = data[-1]\n",
    "\n",
    "t0 = time.time()\n",
    "\n",
    "while i < 30000000:\n",
    "    i += 1\n",
    "    if d_reps[previous_num] == 1:\n",
    "        new_num = 0\n",
    "    else:\n",
    "        new_num = d_idx0[previous_num] - d_idx1[previous_num]\n",
    "    d_idx1[new_num], d_idx0[new_num] = d_idx0[new_num], i\n",
    "    d_reps[new_num] += 1\n",
    "    previous_num = new_num\n",
    "\n",
    "print(f'the {i}th num is {new_num}')\n",
    "print(f'took {time.time() - t0}s')"
   ]
  },
  {
   "cell_type": "code",
   "execution_count": 8,
   "metadata": {},
   "outputs": [
    {
     "data": {
      "text/plain": [
       "266"
      ]
     },
     "execution_count": 8,
     "metadata": {},
     "output_type": "execute_result"
    }
   ],
   "source": [
    "266"
   ]
  },
  {
   "cell_type": "code",
   "execution_count": null,
   "metadata": {},
   "outputs": [],
   "source": []
  }
 ],
 "metadata": {
  "kernelspec": {
   "display_name": "Python 3",
   "language": "python",
   "name": "python3"
  },
  "language_info": {
   "codemirror_mode": {
    "name": "ipython",
    "version": 3
   },
   "file_extension": ".py",
   "mimetype": "text/x-python",
   "name": "python",
   "nbconvert_exporter": "python",
   "pygments_lexer": "ipython3",
   "version": "3.8.5"
  }
 },
 "nbformat": 4,
 "nbformat_minor": 4
}
