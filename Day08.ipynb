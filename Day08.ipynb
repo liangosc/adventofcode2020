{
 "cells": [
  {
   "cell_type": "code",
   "execution_count": 1,
   "metadata": {},
   "outputs": [],
   "source": [
    "f = open('day08_input.txt')\n",
    "lines = f.readlines()\n",
    "f.close()\n",
    "data = [line[0:-1] for line in lines]"
   ]
  },
  {
   "cell_type": "code",
   "execution_count": 2,
   "metadata": {},
   "outputs": [
    {
     "name": "stdout",
     "output_type": "stream",
     "text": [
      "There are 619 lines of code in the program, and the first few lines are:\n"
     ]
    },
    {
     "data": {
      "text/plain": [
       "['jmp +27',\n",
       " 'acc +32',\n",
       " 'acc +10',\n",
       " 'acc +23',\n",
       " 'jmp +88',\n",
       " 'acc +46',\n",
       " 'acc -3',\n",
       " 'jmp +209',\n",
       " 'acc +1',\n",
       " 'jmp +159']"
      ]
     },
     "execution_count": 2,
     "metadata": {},
     "output_type": "execute_result"
    }
   ],
   "source": [
    "print(f'There are {len(data)} lines of code in the program, and the first few lines are:')\n",
    "data[0:10]"
   ]
  },
  {
   "cell_type": "markdown",
   "metadata": {},
   "source": [
    "- 'acc' increases or decreases a single global value called the accumulator by the value given in the argument. \n",
    "- 'jmp' jumps to a new instruction relative to itself.\n",
    "- 'nop' stands for No OPeration - it does nothing. The instruction immediately below it is executed next."
   ]
  },
  {
   "cell_type": "markdown",
   "metadata": {},
   "source": [
    "# Part 1"
   ]
  },
  {
   "cell_type": "markdown",
   "metadata": {},
   "source": [
    "There is a point at which the program will start an infinite loop. We are asked to find the value of the accumulator before that point. (the accumulator starts with value 0)"
   ]
  },
  {
   "cell_type": "code",
   "execution_count": 3,
   "metadata": {},
   "outputs": [
    {
     "name": "stdout",
     "output_type": "stream",
     "text": [
      "The infinite loop starts at line 398 (it has already been executed before).\n",
      "The previous line is 124\n",
      "The accumulator is 1487\n"
     ]
    }
   ],
   "source": [
    "i = 0\n",
    "pre_i = 0\n",
    "ex_lines = set([i])   # lines that have been executed.\n",
    "acc = 0\n",
    "while True:\n",
    "    cmd, num = data[i].split(' ')\n",
    "    if cmd == 'nop':\n",
    "        pre_i = i\n",
    "        i += 1\n",
    "    elif cmd == 'acc':\n",
    "        pre_i = i\n",
    "        i += 1\n",
    "        acc += int(num)\n",
    "    else: # cmd == 'jmp'\n",
    "        pre_i = i\n",
    "        i += int(num)\n",
    "    if i in ex_lines:\n",
    "        print(f'The infinite loop starts at line {i} (it has already been executed before).')\n",
    "        print(f'The previous line is {pre_i}')\n",
    "        print(f'The accumulator is {acc}')\n",
    "        break\n",
    "    else:\n",
    "        ex_lines.add(i)"
   ]
  },
  {
   "cell_type": "markdown",
   "metadata": {},
   "source": [
    "# Part 2"
   ]
  },
  {
   "cell_type": "markdown",
   "metadata": {},
   "source": [
    "To fix the infinite loop, we need to change a \"jmp\" to \"nop\", or a \"nop\" to \"jmp\"."
   ]
  },
  {
   "cell_type": "markdown",
   "metadata": {},
   "source": [
    "A function is created to check if the program can reach the end:"
   ]
  },
  {
   "cell_type": "code",
   "execution_count": 4,
   "metadata": {},
   "outputs": [],
   "source": [
    "def reached_last(dataset) -> bool:\n",
    "    i = 0\n",
    "    pre_i = 0\n",
    "    ex_lines = set([i])\n",
    "    acc = 0\n",
    "    while i < len(dataset):\n",
    "        cmd, num = new_data[i].split(' ')\n",
    "        if cmd == 'nop':\n",
    "            pre_i = i\n",
    "            i += 1\n",
    "        elif cmd == 'acc':\n",
    "            pre_i = i\n",
    "            i += 1\n",
    "            acc += int(num)\n",
    "        else: # cmd == 'jmp'\n",
    "            pre_i = i\n",
    "            i += int(num)\n",
    "        if i in ex_lines:\n",
    "            return False\n",
    "        else:\n",
    "            ex_lines.add(i)\n",
    "    print(f'The accumulator is {acc} when the program reaches the end.')\n",
    "    return True"
   ]
  },
  {
   "cell_type": "markdown",
   "metadata": {},
   "source": [
    "And the brutal force way is to change \"jmp\" to \"nop\" or \"nop\" to \"jmp\", one by one:"
   ]
  },
  {
   "cell_type": "code",
   "execution_count": 5,
   "metadata": {},
   "outputs": [
    {
     "name": "stdout",
     "output_type": "stream",
     "text": [
      "The accumulator is 1607 when the program reaches the end.\n",
      "The line needs to be modified is line 469: jmp -377.\n"
     ]
    }
   ],
   "source": [
    "for i in range(len(data)):\n",
    "    line = data[i]\n",
    "    cmd, num = line.split(' ')\n",
    "    if cmd == 'acc':\n",
    "        continue\n",
    "    elif cmd == 'nop':\n",
    "        new_data = list(data)\n",
    "        new_data[i] = 'jmp ' + num\n",
    "        if reached_last(new_data):\n",
    "            print(f'The line needs to be modified is line {i}: {line}.')\n",
    "            break\n",
    "    else: # cmd == 'jmp'\n",
    "        new_data = list(data)\n",
    "        new_data[i] = 'nop ' + num\n",
    "        if reached_last(new_data):\n",
    "            print(f'The line needs to be modified is line {i}: {line}.')\n",
    "            break"
   ]
  },
  {
   "cell_type": "code",
   "execution_count": null,
   "metadata": {},
   "outputs": [],
   "source": []
  }
 ],
 "metadata": {
  "kernelspec": {
   "display_name": "Python 3",
   "language": "python",
   "name": "python3"
  },
  "language_info": {
   "codemirror_mode": {
    "name": "ipython",
    "version": 3
   },
   "file_extension": ".py",
   "mimetype": "text/x-python",
   "name": "python",
   "nbconvert_exporter": "python",
   "pygments_lexer": "ipython3",
   "version": "3.8.5"
  }
 },
 "nbformat": 4,
 "nbformat_minor": 4
}
