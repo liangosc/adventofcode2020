{
 "cells": [
  {
   "cell_type": "code",
   "execution_count": 1,
   "metadata": {},
   "outputs": [],
   "source": [
    "f = open('day07_input.txt')\n",
    "lines = f.readlines()\n",
    "f.close()\n",
    "data = [line[0:-1] for line in lines]"
   ]
  },
  {
   "cell_type": "code",
   "execution_count": 2,
   "metadata": {},
   "outputs": [
    {
     "name": "stdout",
     "output_type": "stream",
     "text": [
      "There are 594 rules. The first few ruls are:\n"
     ]
    },
    {
     "data": {
      "text/plain": [
       "['muted lime bags contain 1 wavy lime bag, 1 vibrant green bag, 3 light yellow bags.',\n",
       " 'light red bags contain 2 clear indigo bags, 3 light lime bags.',\n",
       " 'wavy beige bags contain 4 faded chartreuse bags.',\n",
       " 'muted blue bags contain 3 mirrored tan bags.',\n",
       " 'vibrant cyan bags contain 4 drab beige bags, 4 vibrant maroon bags, 2 dull coral bags.',\n",
       " 'posh indigo bags contain 1 dim cyan bag, 4 striped violet bags, 2 posh olive bags.',\n",
       " 'dark black bags contain 5 dotted purple bags, 3 dotted orange bags, 5 shiny gold bags, 3 wavy brown bags.',\n",
       " 'dull teal bags contain 1 posh aqua bag.',\n",
       " 'dim aqua bags contain 3 muted indigo bags, 5 vibrant green bags, 3 dotted teal bags.',\n",
       " 'clear bronze bags contain 1 plaid gold bag, 4 pale tan bags, 1 light teal bag, 5 dim lavender bags.']"
      ]
     },
     "execution_count": 2,
     "metadata": {},
     "output_type": "execute_result"
    }
   ],
   "source": [
    "print(f'There are {len(data)} rules. The first few ruls are:')\n",
    "data[0:10]"
   ]
  },
  {
   "cell_type": "markdown",
   "metadata": {},
   "source": [
    "# Part 1"
   ]
  },
  {
   "cell_type": "markdown",
   "metadata": {},
   "source": [
    "For part one, the problem is to find \"how many colors can, eventually, contain at least one shiny gold bag\"."
   ]
  },
  {
   "cell_type": "code",
   "execution_count": 3,
   "metadata": {},
   "outputs": [
    {
     "name": "stdout",
     "output_type": "stream",
     "text": [
      "dark black bags contain 5 dotted purple bags, 3 dotted orange bags, 5 shiny gold bags, 3 wavy brown bags.\n",
      "dim beige bags contain 5 shiny gold bags, 2 wavy brown bags.\n",
      "mirrored red bags contain 5 dotted coral bags, 3 shiny gold bags, 2 clear plum bags.\n",
      "posh brown bags contain 2 bright cyan bags, 3 shiny gold bags.\n",
      "shiny gray bags contain 5 pale salmon bags, 4 shiny gold bags.\n",
      "\n",
      "The following 5 bags include at least one shiny gold bag directly inside:\n"
     ]
    },
    {
     "data": {
      "text/plain": [
       "{'dark black', 'dim beige', 'mirrored red', 'posh brown', 'shiny gray'}"
      ]
     },
     "execution_count": 3,
     "metadata": {},
     "output_type": "execute_result"
    }
   ],
   "source": [
    "bags = set()\n",
    "for rule in data:\n",
    "    if \"shiny gold\" in rule:\n",
    "        if rule.startswith('shiny gold'):\n",
    "            continue\n",
    "        else:\n",
    "            tmp = rule.split('bags')    # These few lines are trying to get the name of the \"host bag\" in each rule.\n",
    "            tmp_bag = tmp[0].strip()    # (Of course, there are many ways to do it. RE would be a better way, for example.)\n",
    "            bags.add(tmp_bag)\n",
    "            print(rule)\n",
    "print('')\n",
    "print(f'The following {len(bags)} bags include at least one shiny gold bag directly inside:')\n",
    "bags"
   ]
  },
  {
   "cell_type": "markdown",
   "metadata": {},
   "source": [
    "My approach (brutal force) here is to loop over all the rules, and find which bags would include the bags in the set \"bags\", then added those new bags to the set \"bags\", until no more bag is added to the set."
   ]
  },
  {
   "cell_type": "code",
   "execution_count": 4,
   "metadata": {},
   "outputs": [],
   "source": [
    "new_bag_added = True\n",
    "while new_bag_added:\n",
    "    new_bag_added = False\n",
    "    current_bags = set(bags)\n",
    "    for bag in current_bags:\n",
    "        for rule in data:\n",
    "            if bag in rule:\n",
    "                if rule.startswith(bag):\n",
    "                    continue\n",
    "                else:\n",
    "                    tmp = rule.split('bags')\n",
    "                    tmp_bag = tmp[0].strip() \n",
    "                    if tmp_bag not in bags:\n",
    "                        bags.add(tmp_bag)\n",
    "                        new_bag_added = True    "
   ]
  },
  {
   "cell_type": "code",
   "execution_count": 5,
   "metadata": {},
   "outputs": [
    {
     "name": "stdout",
     "output_type": "stream",
     "text": [
      "There are 139 bags contain at lest one shiny gold bag.\n"
     ]
    }
   ],
   "source": [
    "print(f'There are {len(bags)} bags contain at lest one shiny gold bag.')"
   ]
  },
  {
   "cell_type": "markdown",
   "metadata": {},
   "source": [
    "# Part 2"
   ]
  },
  {
   "cell_type": "markdown",
   "metadata": {},
   "source": [
    "Part 2 is to find \"how many individual bags are required inside your single shiny gold bag\". Sounds like a recursion problem:"
   ]
  },
  {
   "cell_type": "code",
   "execution_count": 6,
   "metadata": {},
   "outputs": [],
   "source": [
    "def bags_in_bag(bag):\n",
    "    for rule in data:\n",
    "        if rule.startswith(bag):\n",
    "            if rule.endswith('no other bags.'):\n",
    "                return 1\n",
    "            else:\n",
    "                p1, p2 = rule.split('contain')\n",
    "                new_bags = [b.strip('s. ')[0:-4] for b in p2.split(', ')]\n",
    "                ans = 0\n",
    "                for new_bag in new_bags:\n",
    "                    try:\n",
    "                        n = int(new_bag[0])\n",
    "                    except ValueError:\n",
    "                        print(new_bags)\n",
    "                    name = new_bag[2:]\n",
    "                    ans += n * bags_in_bag(name)\n",
    "                return ans + 1"
   ]
  },
  {
   "cell_type": "code",
   "execution_count": 7,
   "metadata": {},
   "outputs": [
    {
     "name": "stdout",
     "output_type": "stream",
     "text": [
      "There are 58175 bags in one single shiny gold bag.\n"
     ]
    }
   ],
   "source": [
    "print(f\"There are {bags_in_bag('shiny gold') - 1} bags in one single shiny gold bag.\")"
   ]
  },
  {
   "cell_type": "code",
   "execution_count": null,
   "metadata": {},
   "outputs": [],
   "source": []
  }
 ],
 "metadata": {
  "kernelspec": {
   "display_name": "Python 3",
   "language": "python",
   "name": "python3"
  },
  "language_info": {
   "codemirror_mode": {
    "name": "ipython",
    "version": 3
   },
   "file_extension": ".py",
   "mimetype": "text/x-python",
   "name": "python",
   "nbconvert_exporter": "python",
   "pygments_lexer": "ipython3",
   "version": "3.8.5"
  }
 },
 "nbformat": 4,
 "nbformat_minor": 4
}
