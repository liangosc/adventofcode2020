{
 "cells": [
  {
   "cell_type": "code",
   "execution_count": 1,
   "metadata": {},
   "outputs": [],
   "source": [
    "f = open('day1_input.txt')\n",
    "lines = f.readlines()\n",
    "nums = [int(num) for num in lines]\n",
    "f.close()"
   ]
  },
  {
   "cell_type": "markdown",
   "metadata": {},
   "source": [
    "# Part 1"
   ]
  },
  {
   "cell_type": "markdown",
   "metadata": {},
   "source": [
    "This is a \"**two-sum**\" problem: to find two numbers that sum to 2020, from the input as following:"
   ]
  },
  {
   "cell_type": "code",
   "execution_count": 2,
   "metadata": {},
   "outputs": [
    {
     "name": "stdout",
     "output_type": "stream",
     "text": [
      "There are 200 numbers in the input, the first 10 numbers are:\n",
      "[997, 1582, 1790, 1798, 1094, 1831, 1879, 1730, 1995, 1702]\n"
     ]
    }
   ],
   "source": [
    "print(f'There are {len(nums)} numbers in the input, the first 10 numbers are:')\n",
    "print(nums[0:10])"
   ]
  },
  {
   "cell_type": "markdown",
   "metadata": {},
   "source": [
    "There are many ways to do it, and one is as following:"
   ]
  },
  {
   "cell_type": "code",
   "execution_count": 3,
   "metadata": {},
   "outputs": [
    {
     "name": "stdout",
     "output_type": "stream",
     "text": [
      "679 + 1341 = 2020\n",
      "1341 + 679 = 2020\n"
     ]
    }
   ],
   "source": [
    "for n1 in nums:\n",
    "    n2 = 2020-n1\n",
    "    if n2 in nums:\n",
    "        print(f'{n1} + {n2} = {n1 + n2}')"
   ]
  },
  {
   "cell_type": "markdown",
   "metadata": {},
   "source": [
    "Looks like there is only one pair of numbers which sum to 2020: 679 and 1341."
   ]
  },
  {
   "cell_type": "markdown",
   "metadata": {},
   "source": [
    "For Day 1 part 1, we need to multiply the two:"
   ]
  },
  {
   "cell_type": "code",
   "execution_count": 4,
   "metadata": {},
   "outputs": [
    {
     "data": {
      "text/plain": [
       "910539"
      ]
     },
     "execution_count": 4,
     "metadata": {},
     "output_type": "execute_result"
    }
   ],
   "source": [
    "679*1341"
   ]
  },
  {
   "cell_type": "markdown",
   "metadata": {},
   "source": [
    "# Part 2"
   ]
  },
  {
   "cell_type": "markdown",
   "metadata": {},
   "source": [
    "Now it's a \"**Three-sum**\" problem: to find three numbers that sum to 2020, from the same input. A lazy way is simply to add one more layer to the two-sum solution above, considering the input is not that large (only 200 entries):"
   ]
  },
  {
   "cell_type": "code",
   "execution_count": 5,
   "metadata": {},
   "outputs": [
    {
     "name": "stdout",
     "output_type": "stream",
     "text": [
      "912 + 977 + 131 = 2020\n",
      "912 + 131 + 977 = 2020\n",
      "977 + 912 + 131 = 2020\n",
      "977 + 131 + 912 = 2020\n",
      "131 + 912 + 977 = 2020\n",
      "131 + 977 + 912 = 2020\n"
     ]
    }
   ],
   "source": [
    "for n1 in nums:\n",
    "    two_sum = 2020-n1\n",
    "    for n2 in nums:\n",
    "        n3 = two_sum - n2\n",
    "        if n3 in nums:\n",
    "            print(f'{n1} + {n2} + {n3} = {n1+n2+n3}')"
   ]
  },
  {
   "cell_type": "markdown",
   "metadata": {},
   "source": [
    "Well, looks like there is only one set of numbers will sum to 2020: 131, 912, and 977."
   ]
  },
  {
   "cell_type": "markdown",
   "metadata": {},
   "source": [
    "And the product of the three are:"
   ]
  },
  {
   "cell_type": "code",
   "execution_count": 6,
   "metadata": {},
   "outputs": [
    {
     "data": {
      "text/plain": [
       "116724144"
      ]
     },
     "execution_count": 6,
     "metadata": {},
     "output_type": "execute_result"
    }
   ],
   "source": [
    "131 * 912 * 977"
   ]
  }
 ],
 "metadata": {
  "kernelspec": {
   "display_name": "Python 3",
   "language": "python",
   "name": "python3"
  },
  "language_info": {
   "codemirror_mode": {
    "name": "ipython",
    "version": 3
   },
   "file_extension": ".py",
   "mimetype": "text/x-python",
   "name": "python",
   "nbconvert_exporter": "python",
   "pygments_lexer": "ipython3",
   "version": "3.8.5"
  }
 },
 "nbformat": 4,
 "nbformat_minor": 2
}
