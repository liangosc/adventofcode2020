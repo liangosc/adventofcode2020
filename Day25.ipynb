{
 "cells": [
  {
   "cell_type": "code",
   "execution_count": 1,
   "metadata": {},
   "outputs": [],
   "source": [
    "f = open('day25_input.txt')\n",
    "lines = f.readlines()\n",
    "f.close()"
   ]
  },
  {
   "cell_type": "code",
   "execution_count": 2,
   "metadata": {},
   "outputs": [
    {
     "name": "stdout",
     "output_type": "stream",
     "text": [
      "['9717666', '20089533']\n"
     ]
    }
   ],
   "source": [
    "data_raw = [(line[0:-1]) for line in lines]\n",
    "print(data_raw)"
   ]
  },
  {
   "cell_type": "code",
   "execution_count": 1,
   "metadata": {},
   "outputs": [
    {
     "name": "stdout",
     "output_type": "stream",
     "text": [
      "8\n",
      "8\n"
     ]
    }
   ],
   "source": [
    "num = 1\n",
    "sub_num = 7\n",
    "for n in range(1, 100):\n",
    "    num = num * sub_num\n",
    "    num = num%20201227\n",
    "    if num == 5764801:\n",
    "#     if str(num).endswith('5764801'):\n",
    "        print(n)\n",
    "        break\n",
    "print(n)"
   ]
  },
  {
   "cell_type": "code",
   "execution_count": 2,
   "metadata": {},
   "outputs": [
    {
     "data": {
      "text/plain": [
       "14897079"
      ]
     },
     "execution_count": 2,
     "metadata": {},
     "output_type": "execute_result"
    }
   ],
   "source": [
    "num = 1\n",
    "sub_num = 17807724\n",
    "for n in range(1,9):\n",
    "    num = num * sub_num\n",
    "    num = num%20201227\n",
    "num"
   ]
  },
  {
   "cell_type": "code",
   "execution_count": null,
   "metadata": {},
   "outputs": [],
   "source": []
  },
  {
   "cell_type": "code",
   "execution_count": 21,
   "metadata": {},
   "outputs": [
    {
     "name": "stdout",
     "output_type": "stream",
     "text": [
      "4266498\n",
      "asdf\n",
      "4266498\n",
      "19717666\n"
     ]
    }
   ],
   "source": [
    "num = 1\n",
    "sub_num = 7\n",
    "for n in range(1, 10000000):\n",
    "    num = num * sub_num\n",
    "    num = num%20201227\n",
    "    if str(num).endswith('9717666'):\n",
    "        print(n)\n",
    "        print('asdf')\n",
    "        break\n",
    "print(n)\n",
    "print(num)"
   ]
  },
  {
   "cell_type": "code",
   "execution_count": 3,
   "metadata": {},
   "outputs": [
    {
     "name": "stdout",
     "output_type": "stream",
     "text": [
      "17167199\n",
      "asdf\n",
      "17167199\n",
      "9717666\n"
     ]
    }
   ],
   "source": [
    "num = 1\n",
    "sub_num = 7\n",
    "for n in range(1, 100000000):\n",
    "    num = num * sub_num\n",
    "    num = num%20201227\n",
    "    if num == 9717666:\n",
    "#     if str(num).endswith('9717666:'):\n",
    "        print(n)\n",
    "        print('asdf')\n",
    "        break\n",
    "print(n)\n",
    "print(num)"
   ]
  },
  {
   "cell_type": "code",
   "execution_count": 5,
   "metadata": {},
   "outputs": [
    {
     "data": {
      "text/plain": [
       "19924389"
      ]
     },
     "execution_count": 5,
     "metadata": {},
     "output_type": "execute_result"
    }
   ],
   "source": [
    "num = 1\n",
    "sub_num = 20089533\n",
    "for n in range(1,n+1):\n",
    "    num = num * sub_num\n",
    "    num = num%20201227\n",
    "num"
   ]
  },
  {
   "cell_type": "code",
   "execution_count": null,
   "metadata": {},
   "outputs": [],
   "source": []
  },
  {
   "cell_type": "code",
   "execution_count": 6,
   "metadata": {},
   "outputs": [
    {
     "name": "stdout",
     "output_type": "stream",
     "text": [
      "19814867\n",
      "asdf\n",
      "19814867\n",
      "20089533\n"
     ]
    }
   ],
   "source": [
    "num = 1\n",
    "sub_num = 7\n",
    "for n in range(1, 100000000):\n",
    "    num = num * sub_num\n",
    "    num = num%20201227\n",
    "    if num == 20089533:\n",
    "        print(n)\n",
    "        print('asdf')\n",
    "        break\n",
    "print(n)\n",
    "print(num)"
   ]
  },
  {
   "cell_type": "code",
   "execution_count": 7,
   "metadata": {},
   "outputs": [
    {
     "data": {
      "text/plain": [
       "19924389"
      ]
     },
     "execution_count": 7,
     "metadata": {},
     "output_type": "execute_result"
    }
   ],
   "source": [
    "num = 1\n",
    "sub_num = 9717666\n",
    "for n in range(1,n+1):\n",
    "    num = num * sub_num\n",
    "    num = num%20201227\n",
    "num"
   ]
  },
  {
   "cell_type": "code",
   "execution_count": null,
   "metadata": {},
   "outputs": [],
   "source": []
  },
  {
   "cell_type": "code",
   "execution_count": null,
   "metadata": {},
   "outputs": [],
   "source": []
  },
  {
   "cell_type": "code",
   "execution_count": null,
   "metadata": {},
   "outputs": [],
   "source": []
  },
  {
   "cell_type": "code",
   "execution_count": null,
   "metadata": {},
   "outputs": [],
   "source": []
  },
  {
   "cell_type": "code",
   "execution_count": null,
   "metadata": {},
   "outputs": [],
   "source": []
  },
  {
   "cell_type": "code",
   "execution_count": null,
   "metadata": {},
   "outputs": [],
   "source": []
  },
  {
   "cell_type": "code",
   "execution_count": null,
   "metadata": {},
   "outputs": [],
   "source": []
  },
  {
   "cell_type": "code",
   "execution_count": null,
   "metadata": {},
   "outputs": [],
   "source": []
  },
  {
   "cell_type": "code",
   "execution_count": null,
   "metadata": {},
   "outputs": [],
   "source": []
  }
 ],
 "metadata": {
  "kernelspec": {
   "display_name": "Python 3",
   "language": "python",
   "name": "python3"
  },
  "language_info": {
   "codemirror_mode": {
    "name": "ipython",
    "version": 3
   },
   "file_extension": ".py",
   "mimetype": "text/x-python",
   "name": "python",
   "nbconvert_exporter": "python",
   "pygments_lexer": "ipython3",
   "version": "3.8.5"
  }
 },
 "nbformat": 4,
 "nbformat_minor": 4
}
