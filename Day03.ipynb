{
 "cells": [
  {
   "cell_type": "code",
   "execution_count": 1,
   "metadata": {},
   "outputs": [],
   "source": [
    "f = open('day3_input.txt')\n",
    "lines = f.readlines()\n",
    "f.close()"
   ]
  },
  {
   "cell_type": "code",
   "execution_count": 2,
   "metadata": {
    "scrolled": true
   },
   "outputs": [
    {
     "name": "stdout",
     "output_type": "stream",
     "text": [
      "There are 323 rows in the map, \".\" means open ground, and \"#\"s are trees. The first 10 rows are as following:\n"
     ]
    },
    {
     "data": {
      "text/plain": [
       "['........#..#.##.#..............',\n",
       " '...#...............#.#.........',\n",
       " '...#..#...#..##....#...........',\n",
       " '...#.............#....#.....#..',\n",
       " '..#......#..#...#.......#......',\n",
       " '..............##...............',\n",
       " '#.......#.........#......#....#',\n",
       " '.#.....###.....#...#.#.#...#...',\n",
       " '#.....................#....#.#.',\n",
       " '.......#...................#...']"
      ]
     },
     "execution_count": 2,
     "metadata": {},
     "output_type": "execute_result"
    }
   ],
   "source": [
    "day3_map = [line[0:-1] for line in lines]\n",
    "print(f'There are {len(day3_map)} rows in the map, \".\" means open ground, and \"#\"s are trees. The first 10 rows are as following:')\n",
    "day3_map[0:10]"
   ]
  },
  {
   "cell_type": "markdown",
   "metadata": {},
   "source": [
    "(Note: The same patter repeats to the right many times.)"
   ]
  },
  {
   "cell_type": "markdown",
   "metadata": {},
   "source": [
    "# Part 1"
   ]
  },
  {
   "cell_type": "markdown",
   "metadata": {},
   "source": [
    "You start on the open ground in the top-left corner (row 0, column 0), and need to reach the bottom (row 322). The movement is along a slope: right 3, down 1. In other words, start at x = 0, y =0, then add dx = 3, dy = 1 for every next movoment."
   ]
  },
  {
   "cell_type": "markdown",
   "metadata": {},
   "source": [
    "The question is: how many trees will you hit until you reach the bottom row?"
   ]
  },
  {
   "cell_type": "code",
   "execution_count": 3,
   "metadata": {},
   "outputs": [],
   "source": [
    "nx = len(day3_map[0])\n",
    "ny = len(day3_map)"
   ]
  },
  {
   "cell_type": "code",
   "execution_count": 4,
   "metadata": {},
   "outputs": [
    {
     "name": "stdout",
     "output_type": "stream",
     "text": [
      "You will encounter 250 trees.\n"
     ]
    }
   ],
   "source": [
    "x, y, trees = 0, 0, 0  # actually there is no need to define y here\n",
    "dx, dy = 3, 1\n",
    "\n",
    "for y in range(dy, ny, dy):\n",
    "    x += dx\n",
    "    x = x%nx\n",
    "    if day3_map[y][x] == '#':s\n",
    "        trees += 1\n",
    "\n",
    "print(f'You will encounter {trees} trees.')"
   ]
  },
  {
   "cell_type": "markdown",
   "metadata": {},
   "source": [
    "# Part 2"
   ]
  },
  {
   "cell_type": "markdown",
   "metadata": {},
   "source": [
    "In addition to the (right, down) = (3, 1), how about other movements? After all, the less trees encountered, the better."
   ]
  },
  {
   "cell_type": "markdown",
   "metadata": {},
   "source": [
    "It'll be convenient if we use a function:"
   ]
  },
  {
   "cell_type": "code",
   "execution_count": 5,
   "metadata": {},
   "outputs": [],
   "source": [
    "def count_trees(field_map: list, right: int, down: int) -> int:\n",
    "    nx = len(field_map[0])\n",
    "    ny = len(day3_map)\n",
    "    x, trees = 0, 0\n",
    "    for y in range(down, ny, down):\n",
    "        x += right\n",
    "        x = x%nx\n",
    "        if day3_map[y][x] == '#':\n",
    "            trees += 1\n",
    "    \n",
    "    return trees"
   ]
  },
  {
   "cell_type": "code",
   "execution_count": 6,
   "metadata": {},
   "outputs": [
    {
     "name": "stdout",
     "output_type": "stream",
     "text": [
      "for right 1, down 1, there will be 55.\n",
      "for right 3, down 1, there will be 250.\n",
      "for right 5, down 1, there will be 54.\n",
      "for right 7, down 1, there will be 55.\n",
      "for right 1, down 2, there will be 39.\n"
     ]
    }
   ],
   "source": [
    "combos_to_check = [[1, 1], [3, 1], [5, 1], [7, 1], [1, 2]]\n",
    "\n",
    "for combo in combos_to_check:\n",
    "    right, down = combo\n",
    "    trees = count_trees(day3_map, right, down)\n",
    "    print(f'for right {right}, down {down}, there will be {trees}.')"
   ]
  },
  {
   "cell_type": "code",
   "execution_count": 7,
   "metadata": {},
   "outputs": [
    {
     "data": {
      "text/plain": [
       "1592662500"
      ]
     },
     "execution_count": 7,
     "metadata": {},
     "output_type": "execute_result"
    }
   ],
   "source": [
    "55*250*54*55*39"
   ]
  },
  {
   "cell_type": "code",
   "execution_count": null,
   "metadata": {},
   "outputs": [],
   "source": []
  }
 ],
 "metadata": {
  "kernelspec": {
   "display_name": "Python 3",
   "language": "python",
   "name": "python3"
  },
  "language_info": {
   "codemirror_mode": {
    "name": "ipython",
    "version": 3
   },
   "file_extension": ".py",
   "mimetype": "text/x-python",
   "name": "python",
   "nbconvert_exporter": "python",
   "pygments_lexer": "ipython3",
   "version": "3.8.5"
  }
 },
 "nbformat": 4,
 "nbformat_minor": 2
}
