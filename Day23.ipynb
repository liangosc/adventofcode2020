{
 "cells": [
  {
   "cell_type": "code",
   "execution_count": 1,
   "metadata": {},
   "outputs": [],
   "source": [
    "data_raw = [3,8,9,5,4,7,6,1,2]"
   ]
  },
  {
   "cell_type": "code",
   "execution_count": 2,
   "metadata": {},
   "outputs": [],
   "source": [
    "data1 = [3,8,9,1,2,5,4,6,7]"
   ]
  },
  {
   "cell_type": "code",
   "execution_count": 4,
   "metadata": {
    "scrolled": true
   },
   "outputs": [
    {
     "name": "stdout",
     "output_type": "stream",
     "text": [
      "[4, 5, 2, 8, 6, 3, 9, 7, 1]\n"
     ]
    }
   ],
   "source": [
    "data = list(data_raw)\n",
    "ct = 0\n",
    "curr_idx = 0\n",
    "N = len(data)\n",
    "while ct < 100:\n",
    "    current_cup = data[curr_idx]\n",
    "    step1_idx = [(curr_idx+1)%N, (curr_idx+2)%N, (curr_idx+3)%N]\n",
    "    step1_cups = [data[i] for i in step1_idx]\n",
    "#     print(step1_cups)\n",
    "    for cup in step1_cups:\n",
    "        data.remove(cup)\n",
    "        \n",
    "   \n",
    "    dest_cup = current_cup - 1\n",
    "    if dest_cup in step1_cups:\n",
    "        while True:\n",
    "            if dest_cup in step1_cups:\n",
    "                dest_cup -= 1\n",
    "            else:\n",
    "                break\n",
    "\n",
    "    if dest_cup < min(data):\n",
    "        dest_cup = max(data)\n",
    "\n",
    "#     print(dest_cup)\n",
    "\n",
    "    dest_cup_idx = data.index(dest_cup)\n",
    "    new_cups = data[0:dest_cup_idx+1] + step1_cups + data[dest_cup_idx+1:]\n",
    "    data = list(new_cups)\n",
    "    curr_idx = (data.index(current_cup) + 1)%N\n",
    "    ct += 1\n",
    "#     print(data)\n",
    "print(data)"
   ]
  },
  {
   "cell_type": "code",
   "execution_count": 5,
   "metadata": {},
   "outputs": [],
   "source": [
    "data_p2 = data_raw + list(range(10, 1000001))"
   ]
  },
  {
   "cell_type": "code",
   "execution_count": 6,
   "metadata": {},
   "outputs": [
    {
     "ename": "KeyboardInterrupt",
     "evalue": "",
     "output_type": "error",
     "traceback": [
      "\u001b[1;31m---------------------------------------------------------------------------\u001b[0m",
      "\u001b[1;31mKeyboardInterrupt\u001b[0m                         Traceback (most recent call last)",
      "\u001b[1;32m<ipython-input-6-6a55b3ce0741>\u001b[0m in \u001b[0;36m<module>\u001b[1;34m\u001b[0m\n\u001b[0;32m     28\u001b[0m     \u001b[0mnew_cups\u001b[0m \u001b[1;33m=\u001b[0m \u001b[0mdata\u001b[0m\u001b[1;33m[\u001b[0m\u001b[1;36m0\u001b[0m\u001b[1;33m:\u001b[0m\u001b[0mdest_cup_idx\u001b[0m\u001b[1;33m+\u001b[0m\u001b[1;36m1\u001b[0m\u001b[1;33m]\u001b[0m \u001b[1;33m+\u001b[0m \u001b[0mstep1_cups\u001b[0m \u001b[1;33m+\u001b[0m \u001b[0mdata\u001b[0m\u001b[1;33m[\u001b[0m\u001b[0mdest_cup_idx\u001b[0m\u001b[1;33m+\u001b[0m\u001b[1;36m1\u001b[0m\u001b[1;33m:\u001b[0m\u001b[1;33m]\u001b[0m\u001b[1;33m\u001b[0m\u001b[1;33m\u001b[0m\u001b[0m\n\u001b[0;32m     29\u001b[0m     \u001b[0mdata\u001b[0m \u001b[1;33m=\u001b[0m \u001b[0mlist\u001b[0m\u001b[1;33m(\u001b[0m\u001b[0mnew_cups\u001b[0m\u001b[1;33m)\u001b[0m\u001b[1;33m\u001b[0m\u001b[1;33m\u001b[0m\u001b[0m\n\u001b[1;32m---> 30\u001b[1;33m     \u001b[0mcurr_idx\u001b[0m \u001b[1;33m=\u001b[0m \u001b[1;33m(\u001b[0m\u001b[0mdata\u001b[0m\u001b[1;33m.\u001b[0m\u001b[0mindex\u001b[0m\u001b[1;33m(\u001b[0m\u001b[0mcurrent_cup\u001b[0m\u001b[1;33m)\u001b[0m \u001b[1;33m+\u001b[0m \u001b[1;36m1\u001b[0m\u001b[1;33m)\u001b[0m\u001b[1;33m%\u001b[0m\u001b[0mN\u001b[0m\u001b[1;33m\u001b[0m\u001b[1;33m\u001b[0m\u001b[0m\n\u001b[0m\u001b[0;32m     31\u001b[0m     \u001b[0mct\u001b[0m \u001b[1;33m+=\u001b[0m \u001b[1;36m1\u001b[0m\u001b[1;33m\u001b[0m\u001b[1;33m\u001b[0m\u001b[0m\n\u001b[0;32m     32\u001b[0m     \u001b[1;32mif\u001b[0m \u001b[0mct\u001b[0m\u001b[1;33m%\u001b[0m\u001b[1;36m100000\u001b[0m \u001b[1;33m==\u001b[0m \u001b[1;36m0\u001b[0m\u001b[1;33m:\u001b[0m\u001b[1;33m\u001b[0m\u001b[1;33m\u001b[0m\u001b[0m\n",
      "\u001b[1;31mKeyboardInterrupt\u001b[0m: "
     ]
    }
   ],
   "source": [
    "data = list(data_p2)\n",
    "ct = 0\n",
    "curr_idx = 0\n",
    "N = len(data)\n",
    "while ct < 10000000:\n",
    "    current_cup = data[curr_idx]\n",
    "    step1_idx = [(curr_idx+1)%N, (curr_idx+2)%N, (curr_idx+3)%N]\n",
    "    step1_cups = [data[i] for i in step1_idx]\n",
    "#     print(step1_cups)\n",
    "    for cup in step1_cups:\n",
    "        data.remove(cup)\n",
    "        \n",
    "   \n",
    "    dest_cup = current_cup - 1\n",
    "    if dest_cup in step1_cups:\n",
    "        while True:\n",
    "            if dest_cup in step1_cups:\n",
    "                dest_cup -= 1\n",
    "            else:\n",
    "                break\n",
    "\n",
    "    if dest_cup < min(data):\n",
    "        dest_cup = max(data)\n",
    "\n",
    "#     print(dest_cup)\n",
    "\n",
    "    dest_cup_idx = data.index(dest_cup)\n",
    "    new_cups = data[0:dest_cup_idx+1] + step1_cups + data[dest_cup_idx+1:]\n",
    "    data = list(new_cups)\n",
    "    curr_idx = (data.index(current_cup) + 1)%N\n",
    "    ct += 1\n",
    "    if ct%100000 == 0:\n",
    "        print(ct)\n",
    "#     print(data)"
   ]
  },
  {
   "cell_type": "code",
   "execution_count": 7,
   "metadata": {},
   "outputs": [
    {
     "data": {
      "text/plain": [
       "27515"
      ]
     },
     "execution_count": 7,
     "metadata": {},
     "output_type": "execute_result"
    }
   ],
   "source": [
    "ct"
   ]
  },
  {
   "cell_type": "code",
   "execution_count": null,
   "metadata": {},
   "outputs": [],
   "source": []
  },
  {
   "cell_type": "code",
   "execution_count": null,
   "metadata": {},
   "outputs": [],
   "source": []
  },
  {
   "cell_type": "code",
   "execution_count": null,
   "metadata": {},
   "outputs": [],
   "source": []
  }
 ],
 "metadata": {
  "kernelspec": {
   "display_name": "Python 3",
   "language": "python",
   "name": "python3"
  },
  "language_info": {
   "codemirror_mode": {
    "name": "ipython",
    "version": 3
   },
   "file_extension": ".py",
   "mimetype": "text/x-python",
   "name": "python",
   "nbconvert_exporter": "python",
   "pygments_lexer": "ipython3",
   "version": "3.8.5"
  }
 },
 "nbformat": 4,
 "nbformat_minor": 4
}
