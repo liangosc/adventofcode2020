{
 "cells": [
  {
   "cell_type": "code",
   "execution_count": 1,
   "metadata": {},
   "outputs": [],
   "source": [
    "from collections import defaultdict"
   ]
  },
  {
   "cell_type": "code",
   "execution_count": 2,
   "metadata": {},
   "outputs": [],
   "source": [
    "f = open('day16_input.txt')\n",
    "lines = f.readlines()\n",
    "f.close()\n",
    "data = [(line[0:-1]) for line in lines]"
   ]
  },
  {
   "cell_type": "code",
   "execution_count": 3,
   "metadata": {},
   "outputs": [
    {
     "name": "stdout",
     "output_type": "stream",
     "text": [
      "The data looks like this:\n"
     ]
    },
    {
     "data": {
      "text/plain": [
       "['departure location: 36-626 or 651-973',\n",
       " 'departure station: 38-134 or 142-966',\n",
       " 'departure platform: 32-465 or 489-972',\n",
       " 'departure track: 40-420 or 446-973',\n",
       " 'departure date: 38-724 or 738-961',\n",
       " 'departure time: 30-358 or 377-971',\n",
       " 'arrival location: 48-154 or 166-965',\n",
       " 'arrival station: 48-669 or 675-968',\n",
       " 'arrival platform: 27-255 or 276-965',\n",
       " 'arrival track: 37-700 or 720-955',\n",
       " 'class: 50-319 or 332-958',\n",
       " 'duration: 35-822 or 835-949',\n",
       " 'price: 40-791 or 802-951',\n",
       " 'route: 42-56 or 82-968',\n",
       " 'row: 40-531 or 555-968',\n",
       " 'seat: 49-681 or 695-962',\n",
       " 'train: 31-567 or 593-953',\n",
       " 'type: 42-840 or 855-949',\n",
       " 'wagon: 31-165 or 176-962',\n",
       " 'zone: 48-870 or 896-970',\n",
       " '',\n",
       " 'your ticket:',\n",
       " '127,89,149,113,181,131,53,199,103,107,97,179,109,193,151,83,197,101,211,191',\n",
       " '',\n",
       " 'nearby tickets:',\n",
       " '835,933,819,240,276,334,830,786,120,791,301,770,249,767,177,84,838,85,596,352',\n",
       " '193,697,654,130,5,907,754,925,817,663,938,595,930,868,56,128,598,197,381,452',\n",
       " '922,462,747,775,599,787,765,815,298,930,198,89,654,353,56,285,571,411,560,419',\n",
       " '515,287,391,452,91,319,143,614,50,910,450,926,617,288,922,137,738,761,248,751',\n",
       " '50,945,117,899,420,675,177,521,774,677,56,279,768,391,282,151,107,920,904,976']"
      ]
     },
     "execution_count": 3,
     "metadata": {},
     "output_type": "execute_result"
    }
   ],
   "source": [
    "print(f'The data looks like this:')\n",
    "data[0:30]"
   ]
  },
  {
   "cell_type": "code",
   "execution_count": 4,
   "metadata": {},
   "outputs": [],
   "source": [
    "rules = data[0:20]\n",
    "my_ticket = data[22]\n",
    "nearby_tickets = data[25:]"
   ]
  },
  {
   "cell_type": "code",
   "execution_count": 5,
   "metadata": {},
   "outputs": [
    {
     "name": "stdout",
     "output_type": "stream",
     "text": [
      "There are 242 nearby tickets.\n"
     ]
    }
   ],
   "source": [
    "print(f'There are {len(nearby_tickets)} nearby tickets.')"
   ]
  },
  {
   "cell_type": "markdown",
   "metadata": {},
   "source": [
    "# Part 1"
   ]
  },
  {
   "cell_type": "markdown",
   "metadata": {},
   "source": [
    "Part 1 is to check which tickets are invalid. By \"invalid\", it means at least one of those numbers on that ticket doesn't fit any of the fields listed as the rules. For example, if an entry has the number 2, it won't be fit any of the fields, and we'll call that entry an invalid ticket."
   ]
  },
  {
   "cell_type": "markdown",
   "metadata": {},
   "source": [
    "As the first step, let me reformat the \"rules\":"
   ]
  },
  {
   "cell_type": "code",
   "execution_count": 6,
   "metadata": {},
   "outputs": [
    {
     "name": "stdout",
     "output_type": "stream",
     "text": [
      "[[36, 626], [651, 973], [38, 134], [142, 966], [32, 465], [489, 972], [40, 420], [446, 973], [38, 724], [738, 961], [30, 358], [377, 971], [48, 154], [166, 965], [48, 669], [675, 968], [27, 255], [276, 965], [37, 700], [720, 955], [50, 319], [332, 958], [35, 822], [835, 949], [40, 791], [802, 951], [42, 56], [82, 968], [40, 531], [555, 968], [49, 681], [695, 962], [31, 567], [593, 953], [42, 840], [855, 949], [31, 165], [176, 962], [48, 870], [896, 970]]\n"
     ]
    }
   ],
   "source": [
    "zones = []\n",
    "for rule in rules:\n",
    "    elements = rule.split(' ')\n",
    "    zone1 = elements[-3].split('-')\n",
    "    zones.append([int(zone1[0]), int(zone1[1])])\n",
    "    zone2 = elements[-1].split('-')\n",
    "    zones.append([int(zone2[0]), int(zone2[1])])\n",
    "\n",
    "print(zones)"
   ]
  },
  {
   "cell_type": "markdown",
   "metadata": {},
   "source": [
    "to combine all the zones (apparently there are many overlaps), use two-pointers:"
   ]
  },
  {
   "cell_type": "code",
   "execution_count": 7,
   "metadata": {},
   "outputs": [
    {
     "name": "stdout",
     "output_type": "stream",
     "text": [
      "[[27, 973]]\n"
     ]
    }
   ],
   "source": [
    "zones.sort()\n",
    "left, right = zones[0]\n",
    "combined_zones = []\n",
    "for zone in zones[1:]:\n",
    "    new_left, new_right = zone\n",
    "    if new_left > right:\n",
    "        combined_zones.append([left, right])\n",
    "        left, right = new_left, new_right\n",
    "    else:\n",
    "        right = max(right, new_right)\n",
    "combined_zones.append([left, right])\n",
    "print(combined_zones)"
   ]
  },
  {
   "cell_type": "markdown",
   "metadata": {},
   "source": [
    "So instead of several small zones, there is actually only one zone."
   ]
  },
  {
   "cell_type": "code",
   "execution_count": 8,
   "metadata": {},
   "outputs": [
    {
     "name": "stdout",
     "output_type": "stream",
     "text": [
      "30869\n"
     ]
    }
   ],
   "source": [
    "invalid_nums_sum = 0\n",
    "good_tickets = []\n",
    "for i, ticket in enumerate(nearby_tickets):\n",
    "    good_ticket = True\n",
    "    for num in ticket.split(','):\n",
    "        if not 27 < int(num) < 973:  # or we can loop over all the zones, in case there are more than one in the combined_zones\n",
    "            invalid_nums_sum += int(num)\n",
    "            good_ticket = False\n",
    "    if good_ticket:\n",
    "        good_tickets.append(i)\n",
    "\n",
    "print(invalid_nums_sum)"
   ]
  },
  {
   "cell_type": "code",
   "execution_count": 9,
   "metadata": {},
   "outputs": [
    {
     "name": "stdout",
     "output_type": "stream",
     "text": [
      "There are 190 good tickets.\n"
     ]
    }
   ],
   "source": [
    "print(f'There are {len(good_tickets)} good tickets.')"
   ]
  },
  {
   "cell_type": "markdown",
   "metadata": {},
   "source": [
    "# Part 2"
   ]
  },
  {
   "cell_type": "markdown",
   "metadata": {},
   "source": [
    "By doing what we did in part 1, we found out all the valid tickets. Now for part 2, we need to look at those good tickets, and try to figure out which field is which."
   ]
  },
  {
   "cell_type": "markdown",
   "metadata": {},
   "source": [
    "We can't look at all the rules as a whole now, instead:"
   ]
  },
  {
   "cell_type": "code",
   "execution_count": 10,
   "metadata": {},
   "outputs": [
    {
     "data": {
      "text/plain": [
       "{'departure location': [[36, 626], [651, 973]],\n",
       " 'departure station': [[38, 134], [142, 966]],\n",
       " 'departure platform': [[32, 465], [489, 972]],\n",
       " 'departure track': [[40, 420], [446, 973]],\n",
       " 'departure date': [[38, 724], [738, 961]],\n",
       " 'departure time': [[30, 358], [377, 971]],\n",
       " 'arrival location': [[48, 154], [166, 965]],\n",
       " 'arrival station': [[48, 669], [675, 968]],\n",
       " 'arrival platform': [[27, 255], [276, 965]],\n",
       " 'arrival track': [[37, 700], [720, 955]],\n",
       " 'class': [[50, 319], [332, 958]],\n",
       " 'duration': [[35, 822], [835, 949]],\n",
       " 'price': [[40, 791], [802, 951]],\n",
       " 'route': [[42, 56], [82, 968]],\n",
       " 'row': [[40, 531], [555, 968]],\n",
       " 'seat': [[49, 681], [695, 962]],\n",
       " 'train': [[31, 567], [593, 953]],\n",
       " 'type': [[42, 840], [855, 949]],\n",
       " 'wagon': [[31, 165], [176, 962]],\n",
       " 'zone': [[48, 870], [896, 970]]}"
      ]
     },
     "execution_count": 10,
     "metadata": {},
     "output_type": "execute_result"
    }
   ],
   "source": [
    "rules_dict = {}\n",
    "for rule in rules:\n",
    "    elements = rule.split(':')\n",
    "    key = elements[0]\n",
    "    zone1, zone2 = elements[1].split(' or ')\n",
    "    zone1 = [int(n) for n in zone1.split('-')]\n",
    "    zone2 = [int(n) for n in zone2.split('-')]\n",
    "    rules_dict[key] = [zone1, zone2]\n",
    "rules_dict"
   ]
  },
  {
   "cell_type": "code",
   "execution_count": 11,
   "metadata": {},
   "outputs": [],
   "source": [
    "def num_fit_field(num: int, field: str, rules_dict: dict) -> bool:\n",
    "    zone1 = rules_dict[field][0]\n",
    "    zone2 = rules_dict[field][1]\n",
    "    return (zone1[0]<=num<=zone1[1]) or (zone2[0]<=num<=zone2[1])    "
   ]
  },
  {
   "cell_type": "code",
   "execution_count": 12,
   "metadata": {},
   "outputs": [],
   "source": [
    "possible_fields = defaultdict(lambda: set())\n",
    "for i in good_tickets:\n",
    "    ticket = nearby_tickets[i]\n",
    "    current_possible_fields = defaultdict(lambda: set())\n",
    "    for j, num in enumerate(ticket.split(',')):\n",
    "        for field in rules_dict:\n",
    "            if num_fit_field(int(num), field, rules_dict):\n",
    "                current_possible_fields[field].add(j)\n",
    "    if i == good_tickets[0]:\n",
    "        possible_fields = current_possible_fields\n",
    "    else:\n",
    "        for field in possible_fields:\n",
    "            possible_fields[field] = possible_fields[field].intersection(current_possible_fields[field])"
   ]
  },
  {
   "cell_type": "code",
   "execution_count": 13,
   "metadata": {
    "scrolled": false
   },
   "outputs": [
    {
     "name": "stdout",
     "output_type": "stream",
     "text": [
      "The \"departure location\" field can be at the idx:\n",
      "{1, 3, 4, 8, 9, 10, 11, 12, 13, 17, 18}\n",
      "The \"departure station\" field can be at the idx:\n",
      "{1, 3, 4, 8, 9, 10, 12, 13, 18}\n",
      "The \"departure platform\" field can be at the idx:\n",
      "{1, 3, 4, 9, 10, 12, 13, 18}\n",
      "The \"departure track\" field can be at the idx:\n",
      "{1, 3, 4, 8, 9, 10, 11, 12, 13, 18}\n",
      "The \"departure date\" field can be at the idx:\n",
      "{0, 1, 3, 4, 8, 9, 10, 11, 12, 13, 17, 18, 19}\n",
      "The \"departure time\" field can be at the idx:\n",
      "{1, 3, 4, 8, 9, 10, 11, 12, 13, 17, 18, 19}\n",
      "The \"arrival location\" field can be at the idx:\n",
      "{18, 3, 12, 13}\n",
      "The \"arrival station\" field can be at the idx:\n",
      "{0, 1, 2, 3, 4, 6, 8, 9, 10, 11, 12, 13, 14, 15, 17, 18, 19}\n",
      "The \"arrival platform\" field can be at the idx:\n",
      "{1, 3, 4, 9, 12, 13, 18}\n",
      "The \"arrival track\" field can be at the idx:\n",
      "{1, 3, 4, 12, 13, 18}\n",
      "The \"class\" field can be at the idx:\n",
      "{0, 1, 2, 3, 4, 5, 6, 8, 9, 10, 11, 12, 13, 14, 15, 17, 18, 19}\n",
      "The \"duration\" field can be at the idx:\n",
      "{3, 4, 12, 13, 18}\n",
      "The \"price\" field can be at the idx:\n",
      "{0, 1, 3, 4, 6, 8, 9, 10, 11, 12, 13, 14, 17, 18, 19}\n",
      "The \"route\" field can be at the idx:\n",
      "{0, 1, 3, 4, 6, 8, 9, 10, 11, 12, 13, 17, 18, 19}\n",
      "The \"row\" field can be at the idx:\n",
      "{0, 1, 3, 4, 6, 8, 9, 10, 11, 12, 13, 14, 15, 17, 18, 19}\n",
      "The \"seat\" field can be at the idx:\n",
      "{18, 12}\n",
      "The \"train\" field can be at the idx:\n",
      "{18}\n",
      "The \"type\" field can be at the idx:\n",
      "{0, 1, 2, 3, 4, 5, 6, 7, 8, 9, 10, 11, 12, 13, 14, 15, 16, 17, 18, 19}\n",
      "The \"wagon\" field can be at the idx:\n",
      "{18, 12, 13}\n",
      "The \"zone\" field can be at the idx:\n",
      "{0, 1, 2, 3, 4, 5, 6, 7, 8, 9, 10, 11, 12, 13, 14, 15, 17, 18, 19}\n"
     ]
    }
   ],
   "source": [
    "for k, v in possible_fields.items():\n",
    "    print(f'The \"{k}\" field can be at the idx:')\n",
    "    print(v)"
   ]
  },
  {
   "cell_type": "markdown",
   "metadata": {},
   "source": [
    "We can comb through what we got above and get one-to-one correspondence:\n",
    "\n",
    "For example, from the following two:\n",
    "- The \"seat\" field can be at the idx:\n",
    "{18, 12}\n",
    "- The \"train\" field can be at the idx:\n",
    "{18}\n",
    "\n",
    "we know that the \"seat\" field has to be at idx 12."
   ]
  },
  {
   "cell_type": "code",
   "execution_count": 14,
   "metadata": {},
   "outputs": [],
   "source": [
    "changed = set()\n",
    "while len(changed) < 20:   # there are 20 fields in total\n",
    "    for key in possible_fields:\n",
    "        if len(possible_fields[key]) == 1:          \n",
    "            changed.add(list(possible_fields[key])[0])\n",
    "        else:\n",
    "            for field in changed:\n",
    "                if field in possible_fields[key]:\n",
    "                    possible_fields[key].remove(field)"
   ]
  },
  {
   "cell_type": "markdown",
   "metadata": {},
   "source": [
    "Finall, we get the 1-to-1 correspondence:"
   ]
  },
  {
   "cell_type": "code",
   "execution_count": 15,
   "metadata": {},
   "outputs": [
    {
     "data": {
      "text/plain": [
       "defaultdict(<function __main__.<lambda>()>,\n",
       "            {'departure location': {17},\n",
       "             'departure station': {8},\n",
       "             'departure platform': {10},\n",
       "             'departure track': {11},\n",
       "             'departure date': {0},\n",
       "             'departure time': {19},\n",
       "             'arrival location': {3},\n",
       "             'arrival station': {2},\n",
       "             'arrival platform': {9},\n",
       "             'arrival track': {1},\n",
       "             'class': {5},\n",
       "             'duration': {4},\n",
       "             'price': {14},\n",
       "             'route': {6},\n",
       "             'row': {15},\n",
       "             'seat': {12},\n",
       "             'train': {18},\n",
       "             'type': {16},\n",
       "             'wagon': {13},\n",
       "             'zone': {7}})"
      ]
     },
     "execution_count": 15,
     "metadata": {},
     "output_type": "execute_result"
    }
   ],
   "source": [
    "possible_fields"
   ]
  },
  {
   "cell_type": "markdown",
   "metadata": {},
   "source": [
    "To get the required answer (what do we get if we multiply the six fields started with the word \"departure\"):"
   ]
  },
  {
   "cell_type": "code",
   "execution_count": 16,
   "metadata": {},
   "outputs": [
    {
     "name": "stdout",
     "output_type": "stream",
     "text": [
      "4381476149273\n"
     ]
    }
   ],
   "source": [
    "field_of_interests = []\n",
    "for field, idx in possible_fields.items():\n",
    "    if field.startswith('departure'):\n",
    "        field_of_interests.append(list(idx)[0])\n",
    "\n",
    "ans = 1\n",
    "nums_of_my_ticket = [int(num) for num in my_ticket.split(',')]\n",
    "for i in field_of_interests:\n",
    "    ans *= nums_of_my_ticket[i]\n",
    "\n",
    "print(ans)    "
   ]
  },
  {
   "cell_type": "code",
   "execution_count": null,
   "metadata": {},
   "outputs": [],
   "source": []
  }
 ],
 "metadata": {
  "kernelspec": {
   "display_name": "Python 3",
   "language": "python",
   "name": "python3"
  },
  "language_info": {
   "codemirror_mode": {
    "name": "ipython",
    "version": 3
   },
   "file_extension": ".py",
   "mimetype": "text/x-python",
   "name": "python",
   "nbconvert_exporter": "python",
   "pygments_lexer": "ipython3",
   "version": "3.8.5"
  }
 },
 "nbformat": 4,
 "nbformat_minor": 4
}
