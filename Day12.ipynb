{
 "cells": [
  {
   "cell_type": "code",
   "execution_count": 1,
   "metadata": {},
   "outputs": [],
   "source": [
    "f = open('day12_input.txt')\n",
    "lines = f.readlines()\n",
    "f.close()\n",
    "data = [(line[0:-1]) for line in lines]"
   ]
  },
  {
   "cell_type": "code",
   "execution_count": 2,
   "metadata": {},
   "outputs": [
    {
     "name": "stdout",
     "output_type": "stream",
     "text": [
      "There are 783 actions. The first few are:\n",
      "['F36', 'L90', 'S5', 'F67', 'W3', 'R90', 'F67', 'R90', 'E1', 'S5']\n"
     ]
    }
   ],
   "source": [
    "print(f'There are {len(data)} actions. The first few are:')\n",
    "print(data[0:10])"
   ]
  },
  {
   "cell_type": "markdown",
   "metadata": {},
   "source": [
    "# Part 1"
   ]
  },
  {
   "cell_type": "markdown",
   "metadata": {},
   "source": [
    "We start at (x, y) = (0, 0), facing \"east\" (or =x), then to follow the rules:\n",
    "\n",
    "- Action N means to move the waypoint north by the given value.\n",
    "- Action S means to move the waypoint south by the given value.\n",
    "- Action E means to move the waypoint east by the given value.\n",
    "- Action W means to move the waypoint west by the given value.\n",
    "- Action L means to rotate the waypoint around the ship left (counter-clockwise) the given number of degrees.\n",
    "- Action R means to rotate the waypoint around the ship right (clockwise) the given number of degrees.\n",
    "- Action F means to move forward to the waypoint a number of times equal to the given value."
   ]
  },
  {
   "cell_type": "code",
   "execution_count": 3,
   "metadata": {},
   "outputs": [
    {
     "name": "stdout",
     "output_type": "stream",
     "text": [
      "We are at x = -525, y = 627.\n"
     ]
    }
   ],
   "source": [
    "x, y = 0, 0\n",
    "F = 'E'\n",
    "R_list = ['E', 'S', 'W', 'N']  # clockwise rotate orders\n",
    "L_list = ['E', 'N', 'W', 'S']  # counter-clockwise rotate orders\n",
    "for cmd in data:\n",
    "    direction = cmd[0]\n",
    "    num = int(cmd[1:])\n",
    "    if direction == 'N':\n",
    "        y += num\n",
    "    elif direction == 'S':\n",
    "        y -= num\n",
    "    elif direction == 'E':\n",
    "        x += num\n",
    "    elif direction == 'W':\n",
    "        x -= num\n",
    "    elif direction == 'L':\n",
    "        n = num//90\n",
    "        F = L_list[n]\n",
    "        L_list = L_list[n:] + L_list[0:n]   # need to adjust both rotate orders based on current facing\n",
    "        R_list = [L_list[0], L_list[3], L_list[2], L_list[1]]\n",
    "    elif direction == 'R':\n",
    "        n = num//90\n",
    "        F = R_list[n]\n",
    "        R_list = R_list[n:] + R_list[0:n]\n",
    "        L_list = [R_list[0], R_list[3], R_list[2], R_list[1]]\n",
    "    elif direction == 'F':\n",
    "        if F == 'N':\n",
    "            y += num\n",
    "        elif F == 'S':\n",
    "            y -= num\n",
    "        elif F == 'E':\n",
    "            x += num\n",
    "        elif F == 'W':\n",
    "            x -= num\n",
    "\n",
    "print(f'We are at x = {x}, y = {y}.')"
   ]
  },
  {
   "cell_type": "markdown",
   "metadata": {},
   "source": [
    "To get the result for part 1:"
   ]
  },
  {
   "cell_type": "code",
   "execution_count": 4,
   "metadata": {},
   "outputs": [
    {
     "name": "stdout",
     "output_type": "stream",
     "text": [
      "1152\n"
     ]
    }
   ],
   "source": [
    "print(abs(x)+abs(y))"
   ]
  },
  {
   "cell_type": "markdown",
   "metadata": {},
   "source": [
    "# Part 2"
   ]
  },
  {
   "cell_type": "markdown",
   "metadata": {},
   "source": [
    "New rule: almost all of the actions indicate how to move a **\"waypoint\"** which is relative to the ship's position:\n",
    "\n",
    "- Action N means to move the waypoint north by the given value.\n",
    "- Action S means to move the waypoint south by the given value.\n",
    "- Action E means to move the waypoint east by the given value.\n",
    "- Action W means to move the waypoint west by the given value.\n",
    "- Action L means to rotate the waypoint around the ship left (counter-clockwise) the given number of degrees.\n",
    "- Action R means to rotate the waypoint around the ship right (clockwise) the given number of degrees.\n",
    "- Action F means to move forward to the waypoint a number of times equal to the given value.\n",
    "\n",
    "And the waypoint starts 10 units east and 1 unit north."
   ]
  },
  {
   "cell_type": "code",
   "execution_count": 7,
   "metadata": {},
   "outputs": [
    {
     "name": "stdout",
     "output_type": "stream",
     "text": [
      "We are at x = 20153, y = -38484.\n"
     ]
    }
   ],
   "source": [
    "x, y = 0, 0\n",
    "dx, dy = 10, 1\n",
    "\n",
    "for action in data:\n",
    "    cmd = action[0]\n",
    "    num = int(action[1:])\n",
    "    if cmd == 'N':\n",
    "        dy += num\n",
    "    elif cmd == 'S':\n",
    "        dy -= num\n",
    "    elif cmd == 'E':\n",
    "        dx += num\n",
    "    elif cmd == 'W':\n",
    "        dx -= num\n",
    "    elif cmd == 'L':\n",
    "        n = num//90\n",
    "        if n == 1:\n",
    "            dx, dy = -dy, dx\n",
    "        elif n == 2:\n",
    "            dx, dy = -dx, -dy\n",
    "        elif n == 3:\n",
    "            dx, dy = dy, -dx\n",
    "    elif cmd == 'R':\n",
    "        n = num//90\n",
    "        if n == 1:\n",
    "            dx, dy = dy, -dx\n",
    "        elif n == 2:\n",
    "            dx, dy = -dx, -dy\n",
    "        elif n == 3:\n",
    "            dx, dy = -dy, dx\n",
    "    elif cmd == 'F':\n",
    "        x += num*dx\n",
    "        y += num*dy\n",
    "\n",
    "print(f'We are at x = {x}, y = {y}.')"
   ]
  },
  {
   "cell_type": "markdown",
   "metadata": {},
   "source": [
    "The result for part 2:"
   ]
  },
  {
   "cell_type": "code",
   "execution_count": 8,
   "metadata": {},
   "outputs": [
    {
     "name": "stdout",
     "output_type": "stream",
     "text": [
      "58637\n"
     ]
    }
   ],
   "source": [
    "print(abs(x) + abs(y))"
   ]
  },
  {
   "cell_type": "code",
   "execution_count": null,
   "metadata": {},
   "outputs": [],
   "source": []
  }
 ],
 "metadata": {
  "kernelspec": {
   "display_name": "Python 3",
   "language": "python",
   "name": "python3"
  },
  "language_info": {
   "codemirror_mode": {
    "name": "ipython",
    "version": 3
   },
   "file_extension": ".py",
   "mimetype": "text/x-python",
   "name": "python",
   "nbconvert_exporter": "python",
   "pygments_lexer": "ipython3",
   "version": "3.8.5"
  }
 },
 "nbformat": 4,
 "nbformat_minor": 4
}
