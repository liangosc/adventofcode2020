{
 "cells": [
  {
   "cell_type": "code",
   "execution_count": 1,
   "metadata": {},
   "outputs": [],
   "source": [
    "f = open('day05_input.txt')\n",
    "lines = f.readlines()\n",
    "f.close()\n",
    "tickets = [line[0:-1] for line in lines]"
   ]
  },
  {
   "cell_type": "code",
   "execution_count": 2,
   "metadata": {
    "scrolled": true
   },
   "outputs": [
    {
     "name": "stdout",
     "output_type": "stream",
     "text": [
      "There are 817 tickets. The first 5 are:\n"
     ]
    },
    {
     "data": {
      "text/plain": [
       "['FBFFFFBRLL', 'FFBFFFFRLR', 'BFBBFFBRLL', 'FBBBBFFLLR', 'BFFFBFFLRL']"
      ]
     },
     "execution_count": 2,
     "metadata": {},
     "output_type": "execute_result"
    }
   ],
   "source": [
    "print(f'There are {len(tickets)} tickets. The first 5 are:')\n",
    "tickets[0:5]"
   ]
  },
  {
   "cell_type": "markdown",
   "metadata": {},
   "source": [
    "# Part 1"
   ]
  },
  {
   "cell_type": "markdown",
   "metadata": {},
   "source": [
    "This is a 2D binary search problem. 'F'/'B' means front/back half (for rows), and 'R'/'L' means right/left half (for columns). There are 128 rows (0-127), and 8 columns (0-7).\n",
    "\n",
    "The first 7 letters are either F or B, for rows, and the last three letters are either R or L, for columns."
   ]
  },
  {
   "cell_type": "code",
   "execution_count": 3,
   "metadata": {},
   "outputs": [
    {
     "name": "stdout",
     "output_type": "stream",
     "text": [
      "The max ID is 901.\n"
     ]
    }
   ],
   "source": [
    "ans = 0\n",
    "for ticket in tickets:\n",
    "    i, j = 0, 127\n",
    "    for ch in ticket[0:7]:\n",
    "        size = j - i + 1\n",
    "        if ch == 'F':\n",
    "            j -= size//2\n",
    "        else:\n",
    "            i += size//2\n",
    "    m, n = 0, 7\n",
    "    for ch in ticket[-3:]:\n",
    "        size = n - m + 1\n",
    "        if ch == 'L':\n",
    "            n -= size//2\n",
    "        else:\n",
    "            m += size//2\n",
    "    ans = max(ans, i*8 + m)\n",
    "print(f'The max ID is {ans}.')"
   ]
  },
  {
   "cell_type": "markdown",
   "metadata": {},
   "source": [
    "# Part 2"
   ]
  },
  {
   "cell_type": "markdown",
   "metadata": {},
   "source": [
    "Looks like one of the missing seats is yours. But it can't be at the very front or back, and the seats with +1 and -1 from yours should also be in the \"tickets\"."
   ]
  },
  {
   "cell_type": "markdown",
   "metadata": {},
   "source": [
    "From the way the \"ID\" is calculated, the small IDs are the seats in the front, and the larger ones are in the back. First of all, we need to find out the missing seats:"
   ]
  },
  {
   "cell_type": "code",
   "execution_count": 4,
   "metadata": {},
   "outputs": [
    {
     "name": "stdout",
     "output_type": "stream",
     "text": [
      "The missing (or empty) seats are:\n",
      "[1, 2, 3, 4, 5, 6, 7, 8, 9, 10, 11, 12, 13, 14, 15, 16, 17, 18, 19, 20, 21, 22, 23, 24, 25, 26, 27, 28, 29, 30, 31, 32, 33, 34, 35, 36, 37, 38, 39, 40, 41, 42, 43, 44, 45, 46, 47, 48, 49, 50, 51, 52, 53, 54, 55, 56, 57, 58, 59, 60, 61, 62, 63, 64, 65, 66, 67, 68, 69, 70, 71, 72, 73, 74, 75, 76, 77, 78, 79, 80, 81, 82, 83, 661]\n"
     ]
    }
   ],
   "source": [
    "all_seats = list(range(1,902))\n",
    "for ticket in tickets:\n",
    "    i, j = 0, 127\n",
    "    for ch in ticket[0:7]:\n",
    "        size = j - i + 1\n",
    "        if ch == 'F':\n",
    "            j -= size//2\n",
    "        else:\n",
    "            i += size//2\n",
    "    m, n = 0, 7\n",
    "    for ch in ticket[-3:]:\n",
    "        size = n - m + 1\n",
    "        if ch == 'L':\n",
    "            n -= size//2\n",
    "        else:\n",
    "            m += size//2\n",
    "    id = i*8 + m\n",
    "    all_seats.remove(id)\n",
    "\n",
    "print('The missing (or empty) seats are:')\n",
    "print(all_seats)"
   ]
  },
  {
   "cell_type": "markdown",
   "metadata": {},
   "source": [
    "By only looking at the list above, we know that seat **661** is the one."
   ]
  },
  {
   "cell_type": "markdown",
   "metadata": {},
   "source": [
    "To double check, we can remove all the consecutive seats from the list above:"
   ]
  },
  {
   "cell_type": "code",
   "execution_count": 5,
   "metadata": {},
   "outputs": [
    {
     "name": "stdout",
     "output_type": "stream",
     "text": [
      "{661}\n"
     ]
    }
   ],
   "source": [
    "previous_num = all_seats[0]\n",
    "available_seats = set(all_seats)\n",
    "ans = []\n",
    "for num in all_seats[1:]:\n",
    "    if num == previous_num + 1:\n",
    "        available_seats.remove(num)\n",
    "        if previous_num in available_seats:\n",
    "            available_seats.remove(previous_num)\n",
    "    previous_num = num\n",
    "    \n",
    "print(available_seats)"
   ]
  },
  {
   "cell_type": "code",
   "execution_count": null,
   "metadata": {},
   "outputs": [],
   "source": []
  }
 ],
 "metadata": {
  "kernelspec": {
   "display_name": "Python 3",
   "language": "python",
   "name": "python3"
  },
  "language_info": {
   "codemirror_mode": {
    "name": "ipython",
    "version": 3
   },
   "file_extension": ".py",
   "mimetype": "text/x-python",
   "name": "python",
   "nbconvert_exporter": "python",
   "pygments_lexer": "ipython3",
   "version": "3.8.5"
  }
 },
 "nbformat": 4,
 "nbformat_minor": 4
}
