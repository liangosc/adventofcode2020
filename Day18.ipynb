{
 "cells": [
  {
   "cell_type": "code",
   "execution_count": 1,
   "metadata": {},
   "outputs": [],
   "source": [
    "f = open('day18_input.txt')\n",
    "lines = f.readlines()\n",
    "f.close()\n",
    "data = [(line[0:-1]) for line in lines]"
   ]
  },
  {
   "cell_type": "code",
   "execution_count": 2,
   "metadata": {},
   "outputs": [
    {
     "name": "stdout",
     "output_type": "stream",
     "text": [
      "There are 377 lines of data, and the first few lines are:\n"
     ]
    },
    {
     "data": {
      "text/plain": [
       "['6 * 6 * (9 + 4) + (8 * 7)',\n",
       " '3 * 7 + 3 * (3 + 6 * 7 + 9 + 4) * 9',\n",
       " '2 + 5 + (8 * 7) * 4 + 4 + 7',\n",
       " '6 + 3 + 4',\n",
       " '2 * 8 * 5 * ((6 + 9 + 3 * 6) * 4 * 6 + 3) * 7',\n",
       " '7 + 3 + 4 * 6 + ((8 + 6 * 5 * 6 * 2 * 4) * 9 * 9 * 3)',\n",
       " '(5 * 6 + 9 + 7 + 8) + 9 * (7 * 9 + 6 * 2 + 3)',\n",
       " '(7 + 6 * 3 + 5) + (2 * 3 + 6 * (9 * 2 * 6 * 3 + 6 * 3))',\n",
       " '3 * 8 * ((9 + 4 + 2 * 2) * 9)',\n",
       " '6 * (2 + (7 + 4 + 3)) * 9 * 8 * 7']"
      ]
     },
     "execution_count": 2,
     "metadata": {},
     "output_type": "execute_result"
    }
   ],
   "source": [
    "print(f'There are {len(data)} lines of data, and the first few lines are:')\n",
    "data[0:10]"
   ]
  },
  {
   "cell_type": "markdown",
   "metadata": {},
   "source": [
    "# Part 1"
   ]
  },
  {
   "cell_type": "markdown",
   "metadata": {},
   "source": [
    "For part 1, we need to modify the way of doing calculation: multiplication has the same precedence as addition:"
   ]
  },
  {
   "cell_type": "code",
   "execution_count": 3,
   "metadata": {},
   "outputs": [],
   "source": [
    "def eval_equations(equ: list) -> str:\n",
    "    num1 = equ.pop(0)\n",
    "    opr = equ.pop(0)\n",
    "    num2 = equ.pop(0)\n",
    "    ans = str(eval(num1+opr+num2))\n",
    "    while len(equ) > 0:\n",
    "        num1 = ans\n",
    "        opr = equ.pop(0)\n",
    "        num2 = equ.pop(0)\n",
    "        ans = str(eval(num1+opr+num2))\n",
    "    return ans"
   ]
  },
  {
   "cell_type": "markdown",
   "metadata": {},
   "source": [
    "As a result:"
   ]
  },
  {
   "cell_type": "code",
   "execution_count": 4,
   "metadata": {},
   "outputs": [
    {
     "data": {
      "text/plain": [
       "'9'"
      ]
     },
     "execution_count": 4,
     "metadata": {},
     "output_type": "execute_result"
    }
   ],
   "source": [
    "cmd = '1 + 2 * 3'\n",
    "eval_equations(cmd.split(' '))"
   ]
  },
  {
   "cell_type": "markdown",
   "metadata": {},
   "source": [
    "Then to perform calculation for each line of the input:"
   ]
  },
  {
   "cell_type": "code",
   "execution_count": 5,
   "metadata": {},
   "outputs": [
    {
     "name": "stdout",
     "output_type": "stream",
     "text": [
      "The sum of all the resulting values is 1408133923393.\n"
     ]
    }
   ],
   "source": [
    "ans = 0\n",
    "for cmd in data:\n",
    "    q = []\n",
    "    for char in cmd:\n",
    "        if char == ' ':\n",
    "            continue\n",
    "        elif char == ')':\n",
    "            tmp_cmd = ''\n",
    "            while True:\n",
    "                new_char = q.pop()\n",
    "                if new_char == '(':\n",
    "                    break\n",
    "                tmp_cmd = new_char + ' ' + tmp_cmd\n",
    "            tmp_cmd = tmp_cmd.strip()\n",
    "            q.append(eval_equations(tmp_cmd.split()))\n",
    "        else:\n",
    "            q.append(char)\n",
    "    ans += int(eval_equations(q))\n",
    "\n",
    "print(f'The sum of all the resulting values is {ans}.')"
   ]
  },
  {
   "cell_type": "markdown",
   "metadata": {},
   "source": [
    "# Part 2"
   ]
  },
  {
   "cell_type": "markdown",
   "metadata": {},
   "source": [
    "For part 2, addition is evaluated before multiplication:"
   ]
  },
  {
   "cell_type": "code",
   "execution_count": 6,
   "metadata": {},
   "outputs": [],
   "source": [
    "def eval_equations_v2(equ: list) -> str:\n",
    "    new_equ = []\n",
    "    while len(equ) > 0:\n",
    "        tmp_chr = equ.pop(0)\n",
    "        if tmp_chr == '+':\n",
    "            n1 = new_equ.pop()\n",
    "            n2 = equ.pop(0)\n",
    "            tmp_result = str(eval(n1+'+'+n2))\n",
    "            new_equ.append(tmp_result)\n",
    "        else:\n",
    "            new_equ.append(tmp_chr)\n",
    "    return str(eval(''.join(new_equ)))"
   ]
  },
  {
   "cell_type": "markdown",
   "metadata": {},
   "source": [
    "As a result:"
   ]
  },
  {
   "cell_type": "code",
   "execution_count": 7,
   "metadata": {},
   "outputs": [
    {
     "data": {
      "text/plain": [
       "'12'"
      ]
     },
     "execution_count": 7,
     "metadata": {},
     "output_type": "execute_result"
    }
   ],
   "source": [
    "cmd = '1 + 2 * 3 + 1'\n",
    "eval_equations_v2(cmd.split(' '))"
   ]
  },
  {
   "cell_type": "markdown",
   "metadata": {},
   "source": [
    "Then to perform calculation for each line of the input:"
   ]
  },
  {
   "cell_type": "code",
   "execution_count": 8,
   "metadata": {},
   "outputs": [
    {
     "name": "stdout",
     "output_type": "stream",
     "text": [
      "The sum of all the resulting values is 314455761823725.\n"
     ]
    }
   ],
   "source": [
    "ans = 0\n",
    "for cmd in data:\n",
    "    q = []\n",
    "    for char in cmd:\n",
    "        if char == ' ':\n",
    "            continue\n",
    "        elif char == ')':\n",
    "            tmp_cmd = ''\n",
    "            while True:\n",
    "                new_char = q.pop()\n",
    "                if new_char == '(':\n",
    "                    break\n",
    "                tmp_cmd = new_char + ' ' + tmp_cmd\n",
    "            tmp_cmd = tmp_cmd.strip()\n",
    "            q.append(eval_equations_v2(tmp_cmd.split()))\n",
    "        else:\n",
    "            q.append(char)\n",
    "    ans += int(eval_equations_v2(q))\n",
    "\n",
    "print(f'The sum of all the resulting values is {ans}.')"
   ]
  },
  {
   "cell_type": "code",
   "execution_count": null,
   "metadata": {},
   "outputs": [],
   "source": []
  }
 ],
 "metadata": {
  "kernelspec": {
   "display_name": "Python 3",
   "language": "python",
   "name": "python3"
  },
  "language_info": {
   "codemirror_mode": {
    "name": "ipython",
    "version": 3
   },
   "file_extension": ".py",
   "mimetype": "text/x-python",
   "name": "python",
   "nbconvert_exporter": "python",
   "pygments_lexer": "ipython3",
   "version": "3.8.5"
  }
 },
 "nbformat": 4,
 "nbformat_minor": 4
}
