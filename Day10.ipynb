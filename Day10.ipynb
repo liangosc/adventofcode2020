{
 "cells": [
  {
   "cell_type": "code",
   "execution_count": 1,
   "metadata": {},
   "outputs": [],
   "source": [
    "f = open('day10_input.txt')\n",
    "lines = f.readlines()\n",
    "f.close()\n",
    "data_raw = [int(line[0:-1]) for line in lines]"
   ]
  },
  {
   "cell_type": "code",
   "execution_count": 2,
   "metadata": {},
   "outputs": [
    {
     "name": "stdout",
     "output_type": "stream",
     "text": [
      "There are 94 \"joltage adapters\" (sorted):\n",
      "[1, 2, 5, 6, 7, 8, 9, 12, 13, 14, 15, 16, 19, 22, 23, 24, 25, 28, 31, 34, 35, 36, 37, 38, 41, 44, 45, 46, 47, 48, 51, 54, 55, 58, 59, 60, 61, 62, 65, 66, 69, 72, 73, 74, 75, 76, 79, 80, 81, 82, 83, 86, 87, 88, 89, 90, 93, 94, 95, 96, 99, 100, 103, 106, 107, 108, 109, 112, 113, 114, 117, 120, 121, 122, 123, 124, 127, 130, 131, 132, 133, 134, 137, 140, 141, 142, 143, 144, 147, 148, 149, 150, 151, 154]\n"
     ]
    }
   ],
   "source": [
    "data = sorted(data_raw)\n",
    "print(f'There are {len(data)} \"joltage adapters\" (sorted):')\n",
    "print(data)"
   ]
  },
  {
   "cell_type": "markdown",
   "metadata": {},
   "source": [
    "# Part 1"
   ]
  },
  {
   "cell_type": "markdown",
   "metadata": {},
   "source": [
    "We are going to connect those \"joltage adapters\" one after another to the charging outlet (starting from the smallest), and find \"the number of 1-jolt differences multiplied by the number of 3-jolt differences\"."
   ]
  },
  {
   "cell_type": "code",
   "execution_count": 3,
   "metadata": {},
   "outputs": [],
   "source": [
    "previous_n = 0\n",
    "ct1 = 0\n",
    "ct2 = 0\n",
    "ct3 = 0\n",
    "for num in data:\n",
    "    diff = num - previous_n\n",
    "    if diff == 1:\n",
    "        ct1 += 1\n",
    "    elif diff == 2:\n",
    "        ct2 += 1\n",
    "    elif diff == 3:\n",
    "        ct3 += 1\n",
    "    else:\n",
    "        print('something wrong')\n",
    "    previous_n = num"
   ]
  },
  {
   "cell_type": "markdown",
   "metadata": {},
   "source": [
    "Becasue our device's built-in adapter is always 3 higher than the highest adapter, so +1 for the ct3:"
   ]
  },
  {
   "cell_type": "code",
   "execution_count": 4,
   "metadata": {},
   "outputs": [
    {
     "data": {
      "text/plain": [
       "1984"
      ]
     },
     "execution_count": 4,
     "metadata": {},
     "output_type": "execute_result"
    }
   ],
   "source": [
    "(ct3+1)*ct1"
   ]
  },
  {
   "cell_type": "markdown",
   "metadata": {},
   "source": [
    "# Part 2"
   ]
  },
  {
   "cell_type": "markdown",
   "metadata": {},
   "source": [
    "For part 2, we are supposed to find \"total number of distinct ways you can arrange the adapters to connect the charging outlet to your device\"."
   ]
  },
  {
   "cell_type": "markdown",
   "metadata": {},
   "source": [
    "Without further explanation, this is what I did:"
   ]
  },
  {
   "cell_type": "markdown",
   "metadata": {},
   "source": [
    "1. find out for each outlet/adapter, how many other adapters can be connected to it (has to be 1, 2, or 3, because \"Any given adapter can take an input 1, 2, or 3 jolts lower than its rating and still produce its rated output joltage.\"). "
   ]
  },
  {
   "cell_type": "markdown",
   "metadata": {},
   "source": [
    "(add the charging outlet, which is \"0\" to the list:)"
   ]
  },
  {
   "cell_type": "code",
   "execution_count": 5,
   "metadata": {},
   "outputs": [],
   "source": [
    "data0 = [0] + data"
   ]
  },
  {
   "cell_type": "code",
   "execution_count": 6,
   "metadata": {},
   "outputs": [],
   "source": [
    "choices = []\n",
    "for i in range(len(data0)-1):\n",
    "    num = data0[i]\n",
    "    j = i + 1\n",
    "    ct = 0\n",
    "    while (j < len(data0)) and (data0[j] - num) <= 3:\n",
    "        ct += 1\n",
    "        j += 1\n",
    "    choices.append(ct)"
   ]
  },
  {
   "cell_type": "code",
   "execution_count": 7,
   "metadata": {},
   "outputs": [
    {
     "name": "stdout",
     "output_type": "stream",
     "text": [
      "[2, 1, 1, 3, 3, 2, 1, 1, 3, 3, 2, 1, 1, 1, 3, 2, 1, 1, 1, 1, 3, 3, 2, 1, 1, 1, 3, 3, 2, 1, 1, 1, 1, 1, 3, 3, 2, 1, 1, 1, 1, 1, 3, 3, 2, 1, 1, 3, 3, 2, 1, 1, 3, 3, 2, 1, 1, 3, 2, 1, 1, 1, 1, 1, 3, 2, 1, 1, 2, 1, 1, 1, 3, 3, 2, 1, 1, 1, 3, 3, 2, 1, 1, 1, 3, 3, 2, 1, 1, 3, 3, 2, 1, 1]\n"
     ]
    }
   ],
   "source": [
    "print(choices)"
   ]
  },
  {
   "cell_type": "markdown",
   "metadata": {},
   "source": [
    "2. There are three kinds of pattern in the list above: [2, 1], [3, 2, 1], and [3, 3, 2, 1]: \n",
    "(note: although 21 is part of 321, we are not including 21 into 321; similarly, 321 is not part of 3321)\n",
    "- For [2, 1] sequence, it simply means there are 2 choices;\n",
    "- For [3, 2, 1] sequence, it means 4 different choices (not 3x2=6);\n",
    "- [3, 3, 2, 1] sequenc means there are actually 7 different choices (not 3x3x2=18).\n",
    "\n",
    "(why? Maybe try to draw a tree to see how many branches for each situation?)"
   ]
  },
  {
   "cell_type": "markdown",
   "metadata": {},
   "source": [
    "we need only to count the number of each patterns and multiply them together:"
   ]
  },
  {
   "cell_type": "code",
   "execution_count": 8,
   "metadata": {},
   "outputs": [
    {
     "name": "stdout",
     "output_type": "stream",
     "text": [
      "There are 3543369523456 distinct ways to arrage the adapters.\n"
     ]
    }
   ],
   "source": [
    "i, j = 0, 0\n",
    "ans = 1\n",
    "while j < len(choices)-1:\n",
    "    j += 1\n",
    "    sub_arr = choices[i:j+1]\n",
    "    if sub_arr[0] > 1:\n",
    "        if sub_arr == [2, 1]:\n",
    "            ans *= 2\n",
    "            i = j\n",
    "        elif sub_arr == [3, 2, 1]:\n",
    "            ans *= 4\n",
    "            i = j\n",
    "        elif sub_arr == [3, 3, 2, 1]:\n",
    "            ans *= 7\n",
    "            i = j\n",
    "    else:\n",
    "        i += 1\n",
    "print(f'There are {ans} distinct ways to arrage the adapters.')"
   ]
  },
  {
   "cell_type": "code",
   "execution_count": null,
   "metadata": {},
   "outputs": [],
   "source": []
  }
 ],
 "metadata": {
  "kernelspec": {
   "display_name": "Python 3",
   "language": "python",
   "name": "python3"
  },
  "language_info": {
   "codemirror_mode": {
    "name": "ipython",
    "version": 3
   },
   "file_extension": ".py",
   "mimetype": "text/x-python",
   "name": "python",
   "nbconvert_exporter": "python",
   "pygments_lexer": "ipython3",
   "version": "3.8.5"
  }
 },
 "nbformat": 4,
 "nbformat_minor": 4
}
