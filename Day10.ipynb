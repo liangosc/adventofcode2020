{
 "cells": [
  {
   "cell_type": "code",
   "execution_count": 1,
   "metadata": {},
   "outputs": [],
   "source": [
    "f = open('day10_input.txt')\n",
    "lines = f.readlines()\n",
    "f.close()"
   ]
  },
  {
   "cell_type": "code",
   "execution_count": 2,
   "metadata": {},
   "outputs": [
    {
     "name": "stdout",
     "output_type": "stream",
     "text": [
      "[38, 23, 31, 16, 141, 2, 124, 25, 37, 147, 86, 150, 99, 75, 81, 121, 93, 120, 96, 55, 48, 58, 108, 22, 132, 62, 107, 54, 69, 51, 7, 134, 143, 122, 28, 60, 123, 82, 95, 14, 6, 106, 41, 131, 109, 90, 112, 1, 103, 44, 127, 9, 83, 59, 117, 8, 140, 151, 89, 35, 148, 76, 100, 114, 130, 19, 72, 36, 133, 12, 34, 46, 15, 45, 87, 144, 80, 13, 142, 149, 88, 94, 61, 154, 24, 66, 113, 5, 73, 79, 74, 65, 137, 47]\n"
     ]
    }
   ],
   "source": [
    "data_raw = [int(line[0:-1]) for line in lines]\n",
    "print(data_raw)"
   ]
  },
  {
   "cell_type": "code",
   "execution_count": 3,
   "metadata": {},
   "outputs": [],
   "source": [
    "data = sorted(data_raw)"
   ]
  },
  {
   "cell_type": "code",
   "execution_count": 4,
   "metadata": {},
   "outputs": [
    {
     "name": "stdout",
     "output_type": "stream",
     "text": [
      "[1, 2, 5, 6, 7, 8, 9, 12, 13, 14, 15, 16, 19, 22, 23, 24, 25, 28, 31, 34, 35, 36, 37, 38, 41, 44, 45, 46, 47, 48, 51, 54, 55, 58, 59, 60, 61, 62, 65, 66, 69, 72, 73, 74, 75, 76, 79, 80, 81, 82, 83, 86, 87, 88, 89, 90, 93, 94, 95, 96, 99, 100, 103, 106, 107, 108, 109, 112, 113, 114, 117, 120, 121, 122, 123, 124, 127, 130, 131, 132, 133, 134, 137, 140, 141, 142, 143, 144, 147, 148, 149, 150, 151, 154]\n"
     ]
    }
   ],
   "source": [
    "print(data)"
   ]
  },
  {
   "cell_type": "code",
   "execution_count": 5,
   "metadata": {},
   "outputs": [],
   "source": [
    "n = 0\n",
    "ct1 = 0\n",
    "ct2 = 0\n",
    "ct3 = 0\n",
    "for num in data:\n",
    "    diff = num - n\n",
    "    if diff == 1:\n",
    "        ct1 += 1\n",
    "    elif diff == 2:\n",
    "        ct2 += 1\n",
    "    elif diff == 3:\n",
    "        ct3 += 1\n",
    "    else:\n",
    "        print(num)\n",
    "    n = num"
   ]
  },
  {
   "cell_type": "code",
   "execution_count": 6,
   "metadata": {},
   "outputs": [
    {
     "data": {
      "text/plain": [
       "64"
      ]
     },
     "execution_count": 6,
     "metadata": {},
     "output_type": "execute_result"
    }
   ],
   "source": [
    "ct1"
   ]
  },
  {
   "cell_type": "code",
   "execution_count": 7,
   "metadata": {},
   "outputs": [
    {
     "data": {
      "text/plain": [
       "0"
      ]
     },
     "execution_count": 7,
     "metadata": {},
     "output_type": "execute_result"
    }
   ],
   "source": [
    "ct2"
   ]
  },
  {
   "cell_type": "code",
   "execution_count": 8,
   "metadata": {},
   "outputs": [
    {
     "data": {
      "text/plain": [
       "30"
      ]
     },
     "execution_count": 8,
     "metadata": {},
     "output_type": "execute_result"
    }
   ],
   "source": [
    "ct3"
   ]
  },
  {
   "cell_type": "code",
   "execution_count": 9,
   "metadata": {},
   "outputs": [
    {
     "data": {
      "text/plain": [
       "1984"
      ]
     },
     "execution_count": 9,
     "metadata": {},
     "output_type": "execute_result"
    }
   ],
   "source": [
    "(ct3+1)*ct1"
   ]
  },
  {
   "cell_type": "code",
   "execution_count": 10,
   "metadata": {},
   "outputs": [
    {
     "data": {
      "text/plain": [
       "94"
      ]
     },
     "execution_count": 10,
     "metadata": {},
     "output_type": "execute_result"
    }
   ],
   "source": [
    "len(data)"
   ]
  },
  {
   "cell_type": "code",
   "execution_count": 11,
   "metadata": {},
   "outputs": [],
   "source": [
    "data0 = [0] + data"
   ]
  },
  {
   "cell_type": "code",
   "execution_count": 12,
   "metadata": {},
   "outputs": [
    {
     "data": {
      "text/plain": [
       "95"
      ]
     },
     "execution_count": 12,
     "metadata": {},
     "output_type": "execute_result"
    }
   ],
   "source": [
    "len(data0)"
   ]
  },
  {
   "cell_type": "code",
   "execution_count": 13,
   "metadata": {},
   "outputs": [],
   "source": [
    "choices = []\n",
    "for i in range(len(data0)):\n",
    "    num = data0[i]\n",
    "    diff = 0\n",
    "    j = i\n",
    "    ct = 0\n",
    "    while diff <= 3 and j < len(data0)-1 :\n",
    "        j += 1\n",
    "        diff = data0[j] - num\n",
    "        if diff <=3:\n",
    "            ct += 1\n",
    "            if diff == 0:\n",
    "                print(num)\n",
    "    choices.append(ct)"
   ]
  },
  {
   "cell_type": "code",
   "execution_count": 14,
   "metadata": {},
   "outputs": [
    {
     "name": "stdout",
     "output_type": "stream",
     "text": [
      "[2, 1, 1, 3, 3, 2, 1, 1, 3, 3, 2, 1, 1, 1, 3, 2, 1, 1, 1, 1, 3, 3, 2, 1, 1, 1, 3, 3, 2, 1, 1, 1, 1, 1, 3, 3, 2, 1, 1, 1, 1, 1, 3, 3, 2, 1, 1, 3, 3, 2, 1, 1, 3, 3, 2, 1, 1, 3, 2, 1, 1, 1, 1, 1, 3, 2, 1, 1, 2, 1, 1, 1, 3, 3, 2, 1, 1, 1, 3, 3, 2, 1, 1, 1, 3, 3, 2, 1, 1, 3, 3, 2, 1, 1, 0]\n"
     ]
    }
   ],
   "source": [
    "print(choices)"
   ]
  },
  {
   "cell_type": "code",
   "execution_count": 16,
   "metadata": {},
   "outputs": [
    {
     "data": {
      "text/plain": [
       "3543369523456"
      ]
     },
     "execution_count": 16,
     "metadata": {},
     "output_type": "execute_result"
    }
   ],
   "source": [
    "2*7*7*4*7*7*7*7*7*7*4*4*2*7*7*7*7"
   ]
  },
  {
   "cell_type": "code",
   "execution_count": 18,
   "metadata": {},
   "outputs": [],
   "source": [
    "import numpy as np"
   ]
  },
  {
   "cell_type": "code",
   "execution_count": 19,
   "metadata": {
    "scrolled": true
   },
   "outputs": [
    {
     "data": {
      "text/plain": [
       "21504256"
      ]
     },
     "execution_count": 19,
     "metadata": {},
     "output_type": "execute_result"
    }
   ],
   "source": [
    "np.prod([2, 7, 7, 4, 7, 7, 7, 7, 7, 7, 4, 4, 2, 7, 7, 7, 7])"
   ]
  },
  {
   "cell_type": "code",
   "execution_count": null,
   "metadata": {},
   "outputs": [],
   "source": []
  },
  {
   "cell_type": "code",
   "execution_count": null,
   "metadata": {},
   "outputs": [],
   "source": []
  },
  {
   "cell_type": "code",
   "execution_count": 85,
   "metadata": {
    "scrolled": true
   },
   "outputs": [
    {
     "data": {
      "text/plain": [
       "8.0"
      ]
     },
     "execution_count": 85,
     "metadata": {},
     "output_type": "execute_result"
    }
   ],
   "source": [
    "19208/7/7/7/7"
   ]
  },
  {
   "cell_type": "code",
   "execution_count": null,
   "metadata": {},
   "outputs": [],
   "source": []
  }
 ],
 "metadata": {
  "kernelspec": {
   "display_name": "Python 3",
   "language": "python",
   "name": "python3"
  },
  "language_info": {
   "codemirror_mode": {
    "name": "ipython",
    "version": 3
   },
   "file_extension": ".py",
   "mimetype": "text/x-python",
   "name": "python",
   "nbconvert_exporter": "python",
   "pygments_lexer": "ipython3",
   "version": "3.8.5"
  }
 },
 "nbformat": 4,
 "nbformat_minor": 4
}
