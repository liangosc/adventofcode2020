{
 "cells": [
  {
   "cell_type": "code",
   "execution_count": 1,
   "metadata": {},
   "outputs": [],
   "source": [
    "f = open('day19_input.txt')\n",
    "lines = f.readlines()\n",
    "f.close()"
   ]
  },
  {
   "cell_type": "code",
   "execution_count": 2,
   "metadata": {},
   "outputs": [
    {
     "name": "stdout",
     "output_type": "stream",
     "text": [
      "['102: 100 47 | 76 84', '23: 60 47 | 73 84', '132: 17 47 | 81 84', '108: 55 100', '18: 116 47 | 26 84', '103: 84 115 | 47 81', '65: 84 113 | 47 50', '128: 107 47 | 125 84', '14: 84 100 | 47 107', '118: 47 17 | 84 57', '2: 47 100 | 84 40', '28: 63 84 | 74 47', '22: 102 84 | 123 47', '123: 84 74', '19: 3 47 | 13 84', '24: 74 47 | 81 84', '115: 55 55', '90: 92 47 | 44 84', '48: 84 94 | 47 96', '109: 17 84 | 100 47', '92: 84 75 | 47 108', '66: 38 47 | 125 84', '83: 66 47 | 108 84', '31: 121 84 | 77 47', '29: 47 61 | 84 111', '45: 47 47 | 47 84', '59: 47 49 | 84 43', '37: 47 30 | 84 95', '36: 107 84 | 125 47', '82: 74 84 | 38 47', '61: 84 10 | 47 110', '79: 47 28 | 84 109', '33: 101 47 | 133 84', '12: 45 47 | 63 84', '91: 122 84 | 93 47', '122: 65 47 | 52 84', '21: 57 84 | 115 47', '8: 42', '67: 102 47 | 64 84', '39: 113 84 | 81 47', '41: 84 124 | 47 10', '50: 47 47 | 84 84', '17: 47 84 | 84 84', '120: 98 84 | 78 47', '113: 55 47 | 47 84', '20: 84 128 | 47 104', '7: 84 1 | 47 20', '51: 84 113 | 47 81', '56: 84 83 | 47 69', '131: 84 127 | 47 97', '0: 8 11', '5: 47 63 | 84 125', '94: 15 84 | 127 47', '121: 99 47 | 27 84', '119: 47 115 | 84 57', '129: 47 80 | 84 131', '15: 47 100 | 84 45', '35: 84 50 | 47 76', '95: 47 115 | 84 107', '68: 127 84 | 51 47', '124: 84 107', '75: 50 55', '57: 47 84 | 84 55', '13: 47 33 | 84 129', '53: 106 47 | 59 84', '106: 16 84 | 118 47', '89: 84 125 | 47 45', '104: 45 84 | 76 47', '99: 47 56 | 84 7', '78: 84 74 | 47 81', '64: 17 47 | 115 84', '32: 50 84 | 40 47', '1: 47 24 | 84 72', '47: \"a\"', '80: 114 47 | 109 84', '88: 47 119 | 84 132', '105: 47 125 | 84 100', '6: 68 84 | 67 47', '110: 76 84 | 63 47', '38: 84 84 | 84 47', '49: 47 63 | 84 76', '26: 55 107', '81: 47 84', '74: 84 47', '96: 84 89 | 47 117', '77: 47 86 | 84 71', '135: 32 84 | 2 47', '133: 47 15 | 84 128', '42: 19 84 | 62 47', '30: 47 100 | 84 74', '27: 6 47 | 91 84', '63: 84 55 | 47 47', '62: 84 87 | 47 23', '76: 84 84', '4: 84 135 | 47 54', '60: 41 47 | 37 84', '100: 47 47 | 84 47', '85: 47 112 | 84 18', '116: 125 84 | 63 47', '134: 57 47 | 115 84', '34: 52 47 | 25 84', '40: 47 47', '111: 58 84 | 126 47', '3: 29 47 | 130 84', '114: 17 84 | 107 47', '52: 47 45 | 84 74', '10: 47 100 | 84 81', '98: 47 76 | 84 100', '112: 84 82 | 47 103', '72: 40 47 | 45 84', '126: 50 84 | 113 47', '107: 84 47 | 47 84', '11: 42 31', '55: 84 | 47', '54: 12 84 | 5 47', '130: 34 47 | 70 84', '84: \"b\"', '127: 81 47 | 17 84', '87: 84 53 | 47 9', '101: 105 84 | 14 47', '9: 88 84 | 120 47', '73: 47 79 | 84 22', '97: 74 84 | 50 47', '117: 74 47', '70: 47 134 | 84 46', '58: 47 50 | 84 115', '125: 47 47 | 55 84', '46: 47 81 | 84 17', '86: 84 90 | 47 85', '25: 38 84 | 63 47', '69: 39 47 | 78 84', '43: 47 100 | 84 125', '93: 84 66 | 47 35', '44: 47 21 | 84 36', '16: 57 47 | 107 84', '71: 48 84 | 4 47', '', 'babaaabbbababababbbbabbaabbaabaa', 'babaaaabaaaaababbbbaaaaa', 'abbabaabbaaabababaabbbbabbbbbaabbbbabababaaaabbbbababbbb', 'bbbabababbabbbabbbabbbbb', 'babaabbbababbbabaabaaaaa', 'abbabaabbaababbabababbbababbbabbabbabbbabbaabbbb', 'aaaaabaabbbbbaabbbbbbbbbbaaabbaaabbaabab', 'baababbabbbabbaaaaaababbaabbababbbabbbbb', 'aaabaaaabbabbbabbabaabbbabaabbbbaaaaabaaaabaabaaababaabbabbaaaabbbbaabbabbabaaaaaaaabaab', 'ababaaabababbbababaaabab', 'bbbbabbbbbaabaaaaaabbbbbbabbbabaabbaaababbbaaaaababaabaabaabababbabbbabbabaaabbaaabbaaaa', 'babaabaaababaaabaaaababa', 'aabaaabbaabbbabbabaabaab', 'bbbaabaaaabaaabbbaaabbbabbbaaabb', 'aaaaaaabaaababbbbbbbbbbbbaaabaabbaaabbab', 'bbabbabbaaaaabababaababa', 'babbababbbabbaababaababbaaaaabaaabbbabba', 'bbbbbbbababbaaaaabaaabbaabbaaaab', 'bbbbbaaabbbbbaaaaaabaaaabbbaaabb', 'babbababaababbbbbbbaaabb', 'abaabbaabbababaabbababba', 'abaaabbaaabaabbbabababba', 'babaaaabaaaababbabbbbaaa', 'bbbbbbbabaababbaaaaababbabbaabbabbbaabaababaabbbbbbaabab', 'aaabbabbbaabababbaabaaba', 'bbbababbabaabbabbbabaaaa', 'baabbabababaaaabbbbbbaab', 'bbabbbbabaababbabbbaabab', 'abaabbabbbabbabbabbbabba', 'bbbbbbbaaababaaabbaabbbabbaaabbbbabababb', 'aabbaaabbabbabaaaabbabaababbbaababaabababaaabbaa', 'aaabaababbbabbbbaaababbbbaaabbbb', 'aaaaaaaaaaabaaaababbabbb', 'bbbabbbbaabaababaabbabab', 'baaabaabbaaaabbbbaaaaaaa', 'bbbbbbbaabbabbaabaabaaaa', 'aaaaabaabbabbaaaaaaaaabb', 'aabaaabbaabbabaaabbabaabbaababaaabbbaaaaababbaabaaabbaaabbaaabaa', 'bababbbaaabaababbbababaabbaabaabbaaaabbabbaabababbbabbbababbabbb', 'abbbaababbaabaaaaababbbaaaabbbaa', 'aababbbaaaabaabbbbabaaaa', 'aaaaabbaaabaaabbbababaaa', 'bbbababaaabaaaabbabbabaabbababababababbbabbaaaaabbababbabbbbabbbabbbaabb', 'bbbabababbbabababababbbb', 'bbaaababbbabbbbaabbbbbaa', 'bbababaabaaaabbaabbbbaaa', 'bbbbabbababbbbaabbaaaababbababbaabaaabababbabbabbbbbbaababbbbabbbbaaaaabbbaabbba', 'abbabbabbbbbbaabaaaaabababaaaaabaaabbaaaabababba', 'bbbabaabaababaaabaabbaaa', 'bbababbbbaaababaaaabbabbaaabbbaa', 'aabbbbababaabbaabababbaa', 'aaabbabbbaabbbabbbbbbbbabaaaabbaaabababaabaaabab', 'aaaaaaababbabbabbabaaaaa', 'aababaaaaaababbbabbabbabaaababbbbbabbababababaaaabbabbbb', 'babaabbbbaaabaaabbbabbab', 'bbbbabbbbaabbbabbbaabbbaabbbbbaabbbbaaabbbbaabbbbaababbaaaabaaaabbabbabbabbaabbb', 'aaabbbabbaaabaabbaaaaabaabababab', 'abbababbabbbbbabbaabbbabaaababbbbbbbabaababbbbbabababbbb', 'bbaabbbaaaaababaaabaaaabbbbbbaabbaaaabbaabaaabaabaaaabbabbabbbaabbaaaaaa', 'abbabbaaaabaaaabbbbbbaabbabaababbbbabbba', 'bbaaaabaabbababbbbaabbaa', 'aabbaabaabbaaabbaaabaaaaaaababbabababbaa', 'baaaabbaaaaaabbbbabbababbaabbbbabbabbabbaabbaabb', 'babbaaaabbaabaaabbbbaaaabbbabbaaaaaaaabb', 'aaaaababaaabbabbababbabb', 'abbabaaaaaabaababbabaaab', 'aaabaababbaabbbaababbabb', 'babbabaabaababbabbabaabb', 'abbabbaabbabbbabababaaaa', 'bbabbbaaaababaaaaaabbbaa', 'bbbbbbbaaaaaabbabbbaabaaaaabbaaa', 'bbbaabaababaaabbaababbabaababaabbbababba', 'bbaaabbaabaabbbbbbbaababbbaabaabaaabaababaaaaabbbaaabaababaaaaabaabbbbaabaabbbaa', 'baabbababbaaaaababaabbabaabbbaabaabbaabbabbbaaababbaaaab', 'bbabaaaaaaaabababaabbababbaabbbbabbbaaababbaababaabaaaaaaaabaabb', 'baaaaaabbaababbaababaaaa', 'bbbabbbbbbaabaabbaaabbab', 'babbbabababaaaabaabbaaabbbabaabababbbaaabaababbbbbaababbbabbbabb', 'aabaaababababababaabbbababbababbbabbaabb', 'bbaabaaabbaabababbaababaabbabbba', 'bbbabaaaababaabbaabbabbbbabbaabaabbabaabbaabaabaabbaabbabaaabaaa', 'abbaaabbbbbbbbbbaaabbaab', 'baabbbbbaabbaabbaabbababbaabaaba', 'baaaabaaabbbbaabaabbabbbbaababbb', 'abbbbbbaabbbbbbbbbbbbaaaaaaabaaa', 'abbbbbbbbbabbbaabbbaaabaaabababa', 'aababbbaabbabaabbabaaaba', 'bbabbaabbabbabaaababbbba', 'aaabbbabbaabaabbbbbabbbbaaaaabbbbabbbabababbbaaa', 'aaabaabbaabaababaabababb', 'bbababaaabbbaabaabbababa', 'baabbbaaaaababababaabbaababbabbb', 'babbbaabbaaaabbaababbabb', 'bbababbbababbbaabbabbbabaabababaaabaaaaa', 'babbbbbbbbabbbababbbbaab', 'abaabbbbbabbbbbbaaabbaba', 'bbabbbaabbbbbaaabbbaaaaa', 'abbbbbbbbaabbbaaabbbbbbabaaaabaaaaaabbbb', 'aabaaabababbbbbbaaabbaab', 'bbbabababbbbbbabbbbbaabaabababbaaabbbbbb', 'aababbbaaaaaaaaaabbaaaaa', 'ababaababaababbbabbbbabaaabbabaaabbabbaabbaaaaaababaabba', 'aabbaaabaabbbaabaabaabbbaaabaaab', 'aabbaaabaaaaabaaaaabbbabaaabaaaababaaaaaabbbbbaaaababbaa', 'babbbaabaabaaabababbabaababbbaabbabaabbaabababbababaaaaa', 'aabbbbabababbbaaaaabaabbbaabbabaaaabababaabaaaabaaaababaabbbabbaabaaabbb', 'bbbbbbababbbabaababbabaabababababaababbabbbbbbbabbaaabbb', 'bbabababaaababbabbababba', 'abbbbbbabbbbbbaaabbbaabbbbabaabaaaaaaabb', 'aaaaabbbbaaaabbabbbabbab', 'aabbaaabbbbaaaabbabababbbabbaabbbbababbbbaaabbbababaabbbaabaaaaababbbaaa', 'ababbbabbbabbbaaababbbbbaabbabbaababbaaa', 'abbabbababbababbbbbbabbb', 'aabbaabaabbabbabbaabbaab', 'baabbbaaabbababbabbaaaba', 'baaabbbaaabbbabbbaaaaaaa', 'bbaaababaaaaabaabaaaabba', 'aabaaabbbbabbaabaaababaabbbbaabb', 'bbbbabbaaaabbabbaabbabab', 'aabaaaabbaaaaabababbabba', 'bababbbabaabaabbaaaabaab', 'ababaaabbbaabaabbbaabaaababaabbbabaabbaaaabbbaaabbbaabab', 'aababaaabbbbaaaaaaabbbbb', 'abaabbaabbbbbaaaaaaabaaa', 'babbbabababbaaaabaaaabab', 'abbbbbabbabbaaaababbaabb', 'bbaaaaabbbbababaaaaabaab', 'bbaababaaaabaabbabaabaab', 'bbababbaabbbbabbbaaaaabbabababba', 'bbabbaabbbbbabbaabababbbaabbbbbabaabbaaabbbabbbabaabbaab', 'abbabbaabbaaaaabbbabbbaabbbabaaabbaaabbbaaabaaab', 'aaababbababbabaabaabbbababbabbabbbaababaabbbabbaabaababa', 'baabbaabbbabbababbaaaaaabaaabbab', 'aabbabaabbbbbbbbbaabaaababaaaaaa', 'abbaabbabaaaaabaabbbabaabaaabaabaabaabbbaabaabaaaabaaaaa', 'baaaabbabaababbababbbababababbbb', 'bbabbaabbaaabbbabaaabaababbbbbbabbaaabaa', 'baabbbbaabbbbbbabaabbaab', 'baaaabbaabbababbaababbababaaaabbbbbbbabababaaaba', 'baabbbbbaabaabbbbbabbaaaabbaabbaabbbbbabbbbbbaba', 'babaabbbbbaabaaaabaababbabbbbabbbbbaaaaa', 'baabbababbaababaabbbaaab', 'bbaaaabbbaaaaaabbbabababbaabbabbbaaabbaaababaabb', 'abbbbbbaaababaaababbaaba', 'baabbabababababaaaaaababbababbbabaabbbaaabaaabab', 'aaaaababaabaabababbbbbbbabbbaaba', 'bababaaabbbaabbabaaaaabb', 'aabbaababbabbbbabbbaaaab', 'bbbbbbbbaabbbabbbabbbbba', 'aabaababbaabaabbbbaaaaababaaaaabbaaaaaaa', 'aaaaaaaaaaaaabababbbbbbabbbaabab', 'bbbaabaaababbbaaaabaaababbababbbabaaabbaabaaaaaa', 'ababbabbbbbbaabbaaabbaaabbaaabbaaaabbbba', 'baabababbbbbabaaababbbaabbaaababbbbaaaababbabbbb', 'bbaabbbaabaaabaaababaabb', 'bbabbbaaabbaabbbaaaabbaa', 'bbbabaabaaaaabaaaababaaaabaaabaaaaaaabbaabbaabbabbbbbaba', 'baaaabbaabbbaabaabbabbaabbbaaabaaabbbbbaaaaabaab', 'bbabbabbbbbbbaabbbababbbbbaabaaaaaabbaaa', 'abbbbbbbabaaabbbabbaaaabaaabababaabaabababbbaaaaabaaaababbababbabbbbabbb', 'baabbabaababbbaabbababba', 'bbaabbbaaaabbbbaaabaabaa', 'baabbabaabbbbbabaaaaabaababbbbaaabaaaaaa', 'baaabaaabbbababbababaaabaababbaa', 'aaababbabbaaaaabbaabababbbabaaba', 'aabbbaabaabbaaababbbaabb', 'bbbbbbbbbaabababaabaabaa', 'ababbaaaaabbbbbaaaabbaabbaaabaaabaabbaabbabbbababbbbabbabaaaaaababaaaaba', 'baaaaabaaaaaababaabbaaaa', 'aaaaaaaabbabababaaaabbaa', 'aababaaaababbbaabbbaaaaa', 'aaaaaaabbbaaabababbbaaab', 'aaababaaaabbbbababbaaaab', 'aaababaabaaaabbaabbaabab', 'bbaabaaaaaabaabbbabaaabbababaaba', 'ababaaabbaaaabbabbaabaaaabbababbaababaaababaabbbbabbabbb', 'aaaaaaabaaababbbbbaaaabbbbabaaaabaaabbabbaabbbab', 'abbabaaaabaaabbabbabbaaaababbbbbbbbaaaaa', 'abaaaaababbbbbababbbbaba', 'abaabaaaaabbbbaaaaaabaab', 'babababaaababaaaabaababa', 'bbbaaaaabbbbbbaaaabbaabb', 'aababaaaaaaaabaaabbbbaab', 'ababaaabababbbaaaaaabbab', 'baabbbabbbaabbbaabbbaabb', 'baabbbbaabbbaababbababba', 'bbbbabaaaaaababbbaababaa', 'aaaaabbabbbaabbaabaabbbaaabababababbbbba', 'baabaaabbbaabaabababaabb', 'aaabaaaaabbabbaabaabaaaa', 'aaabaabaabbabbabbabaabab', 'babaabbbbaabbbbbabaaabbabbaabaaabbababbababbbaaaababaabb', 'baaabaaababbabababbaaabbbaabaaabbaabaaaa', 'baaabaabbbababbbabbbbbabbabbaaab', 'abbabaaaaabbbbbababbaaaaaaaaababbabaababaabbbbbb', 'abbbbbbaabbbbaaababaabaaabbbbabbabbbbababbababbababaaaabbbaaaaba', 'aaabaabbabbbabaaabbaaaaa', 'bbbbaaabbbbabaaabaaabbbb', 'babbbaabbaabbbbbaaaabaaa', 'aaaaabaabaabaaabaabbaababbaababb', 'baababbbababbabbbbbbbaabaaaaabbababbbbbabaaaababbbbbbbbbbbaaaaabbabaaaabbababbab', 'baabaabababaababaaabbaaa', 'aababbabababaaababbabaaabbababbaabaababa', 'bbabbbabbabbbaababababba', 'abbaabbbaababaaaabbbabab', 'aaababbbabaabbbbbbbbabbb', 'aabbbbabbaaabaaaabbbaabb', 'abbbbbaabbbaabababaabaabababbaba', 'aaababaabbbbaaaababaaabbbaabbabbaaaabbaaababbaaa', 'bbaaaabaabbabaaaaabbaaabbbbabbab', 'aaabbababbbbababbbbbaaaababaaaaaababbaababaababbaababbbaaabbaaba', 'abbaabbbbabaabbbababbaab', 'baabbbbbbbaaabbbbababbbbbbaaaaaaabbbbbaaabaababa', 'aabbbbabbbbababbbabaaabbbabbbbbbbaaaabab', 'baabbbaabbabbbbababbbbaa', 'babbbbbbabbbbbbbaaabaabbbbbbbbbabbaaabaa', 'bbbabaaabbbbbaaaaaabbaab', 'abbbbbababaaabbaaababbbabbaaaaabaaaaabaabaaaaabb', 'bbabababaabbbaabaaabbbbabaaabbab', 'aaabbbbabbbbaaabbbbabbbbbbbbabbbaabababb', 'baaaabbaabbababbbabaaaaa', 'baababaabbaaaaabbababaabbbababbbababbbbabbabbaabbaaaabbabbaaabbbbbabbabbabbbabab', 'aaaaaaaaaabbbbababbbbabb', 'abbaaabbbaaaaaabbababaab', 'abaabbbbbaabbabaaaabababaabbababaaabbaab', 'aaaaabaabaababbaabbbbaba', 'bbbbbaaabbabababbaabbabaabaaaabaaabababb', 'aaaaabbaabbabaaaabbabbbabbbaaabbbaabaaaabbaaaaaa', 'aaabaaaaaaaaabbaaabaaabbbaabbbabaaaaabbbbabaaaaa', 'abaababbaababbbbaaabaaaabbbbbbbaabbaabaa', 'abaaabaabbbbbbabaabbbabbababaaba', 'bbabbaaabbaaaaababaaabbaaabbbabbbbbbabbaaabbabba', 'aaaaaaabbaababababaabbaababbaaaabaaabbab', 'bbbbbaaaaaababbbbaabbaab', 'abbaabbbbbaaaabbbbbbaaaabaabbabbaabbbaabbbaabbab', 'aaaabbbababaababbbbaababaababbaabbbabaababbbaabbbbaabbbaababbbaa', 'abbabbaaabbbaababbabaaab', 'aaaaaaababbaaabbbbaababb', 'baaabbaabaaabbaaabbbabba', 'babbbaabbbabbaabaabbaabaaabababa', 'aaaababbabababbbababaaabbbabaababbaababaaaabaabaabbabaaabbbaabaa', 'aaaaaaabaabbabaaabbabbaaaababbbbabbabaaabaaabaabaaaabbbaaabbbaaa', 'abbbbbbbbbbbabbabbbbaabb', 'baaabbbaabaababbaaabbaba', 'bbbbbbabbabbbabbaabaababbbbaabab', 'aaaaababbbbbabbbababbaabbbbbbabbaabbbbbbbbaaaaaa', 'ababaabbbababbbbbbbaaaabaabbbaaa', 'aaaababbbbbbabbabbaabbaa', 'aaabaababbbababbbabbabbb', 'bbababaaabaaabbaaabbaaaa', 'aaaaababbbaabbaaaaaaaabaabbbababbbbaabab', 'aabbaabbbabaabaabaaaaaaaabaababbbabbbbbaababbabbababaabaaabbbabbaabaabbaaabbbbba', 'bbbbaaaabbabababbbaaaaaa', 'abaaaaabaaaaaaabaabbaaabaaababaaaabaaaaa', 'babbbaabababaaabababbaab', 'baaaaaababababbbbaabababbbbbbaabbabaaaabaaaaaabaaababbaa', 'aabaaabbaababbabbabaabbbaababbabaabbbbaa', 'ababbbbbabbbaabababbaaba', 'bbababababbbaaaaabaabbabaaabbabb', 'bbaabaabaabbbaabbaaaaaabaabbabbbabbbbaab', 'baabaabbaababbbabbbbbaba', 'aaaaabababaaaaababababba', 'abababababbbabbbbababaaa', 'ababbbaabbabbbbabbbbbbaaabbbbabaabbabbba', 'babaaaaaaaabbaaabbbaabab', 'abaaababaaaabaaabaaaaaaabbabbbaaaababababaaaababaaaababbbbabaabbaabbbbba', 'aaababbbbaaaabbbaaaaaaabbbbabbbaaabbbbaa', 'babababaaaaababbabaabaab', 'bbaabbbababbabababaabaababbbbabaabbaaaaababbbbab', 'abababbbaabbbbababbbaaaaaaabaaab', 'aabaabaaaaaababaabbaaaabaabaaaaaaaababaa', 'aabbbaabbbbbabaababbabba', 'abbbaabaaaaaaaaababbbabbbbaaaababbbbbababbbaaaaa', 'aaabbbabbbbababbbbaabaabbaaaabab', 'aabbaababbabbbabbbbbbaba', 'abbaabbabbbbaaaaabaaaabbbaaababb', 'aaabababbbbbaaaabbbababb', 'abbbbbbbaaabaababbababababaabbbaabaabaaa', 'bbbabababaabbababaabbbbabaababaa', 'bbbabbabaaaabaaaaabbaaababababababababaaaaaabbbbaaaaabaabbaababb', 'aabaaabaaaaaaaababbabbbb', 'aabbabaabaabbabbaaabbbbaaabaabaa', 'bbaaaabbbbbabaaabababbbaaabaaababababaab', 'bbbbbbbaaabbbbbaaaaabbab', 'babaabbbbaaabaaabbbababbbbbaabaaabbbbaba', 'bbaaaabbbbbbaaaaabababaaaaabbaaabbbaabba', 'bbabbbababaabbbbaabaaabaaaabbaaa', 'baabaabbabaababbbbaabaabbaabbabbabbbbababbaaabbb', 'babbbabaabbbaababababbab', 'aabaaabbabaaaaabbbaaaabbaaabbaba', 'aaaaabaaabaabbbbaabbbbbb', 'aaaabbbabbababaabaabbbaabbbbbababababababbbaaabbaaabbabaaababbba', 'abaaaabbabbbbbabbbabbbababbaababbbaaabba', 'abababbbbaabbbbbbabbbbbbabbbbbabaaaababbababaabb', 'abaaabbabbababbbabaababbbaabbbbababbbaabbbaabbaa', 'babbbbbbbaabababbbababaaabbabbaabaabbabbaabbbaaa', 'aaababbababaaaabbbbaaaaa', 'babaaabbaabbbbbaaaaababa', 'aaabaaaaaabbaababaabbabababbaaaabbaabbaa', 'abaabbabbbaababaabbbaabababbabaabbaaaababbababaaabbbabbb', 'bbbbababbbaabaabbabaaabbaababbaaabaaabbb', 'baabbbabaaaaaaabbaabbaab', 'bbbaaabaaaababbbababaabbbbbbbaabbbbababb', 'babbaaaababbabbaabababbbababbbabaaababaa', 'aaabababaabbabaabbbabaaababbbbab', 'bbbbababbbabbbababbababbbaababaababaabba', 'bbbababababbbbbbabbbaaaaabaabbba', 'aabaaabbabbbbbaaabaababaabaaabab', 'bbabbabaabaaaaaababbbbaa', 'abaabaabaaaaabaabbbbbabababbabbbaabaabaa', 'bbabbbaababbbabbaabbaaabbabbabaabaaabaaababaabaabbbabbababbbbabbbabbabbabbaabbbb', 'aaaaabaababbababababbbbbaababbabbbabababbbbbabbb', 'abaaabbabbabbbaaaabababb', 'abbbbbababaaaaabbabaaaaa', 'bbbabbabaaabbaabbaaaabaababbaaab', 'bbbbbbbbabaabbaaaabbbaaa', 'baaabbbaaababbbbabbbabbbabaabaabaababaab', 'aaaababbbbaabbbaaaaababbbabbabba', 'bbabbbaaababaaabbbbbbbbabbaabaababbabbba', 'aaabababbabbbabaaabbabaaaaabbaba', 'aabaabbbbaabbbabaaabbbbabbbbabbb', 'bbbbbbabababaaababaabbbbaabbaaaabababbbb', 'abaaaabbaaabaabbbbaaababaaabbaabaabbbbbb', 'baabbababbbaaabaababbbba', 'baaabbbabababbbaabbaabab', 'babababaaaabaaaabbbbabbb', 'babbababaaabbbbabbbaabaabaabbbbbaaabbbab', 'baabbaabbababbababbaaaaa', 'bbababbbaaaaaaaabaabbbbaaaaabaaa', 'abbbaabbbbbbbbaabbabbbabbbbbabaaababaaab', 'bbaabbbababaabbbbabaaaba', 'baaababababaabbbbbabbaba', 'abababbbaababbbbabbabaabbaabbbaaabbbaabaabbbbaaa', 'bbaaaaaaaaabababbaabababaababbbbbbbbabaaaaabbabbbbbbbbaabaaaaabbbababbaaaaababaa', 'baaaaabaaaaaaaaaabbabbba', 'baabbbbaabaabbabbaaabbbb', 'abbabbabaabbabaaaabbabab', 'abaabbbbbaaaaababbabaaba', 'bbbbbaaabbaabbbaabaaabbaabaaaaabbaabababaabbabbbbabbaabb', 'babbbabaabaaabbaabbbbbaa', 'bbabbaabbabbabaabbaaaabaaaabbaab', 'aaaababaaabaaaaabbabbabaababaabaaabbabbb', 'abbaaabbbbababaabaaaabaa', 'baabbbbabaabaabbbaabbaab', 'baababbabbbabaabaaabaabbbaaabaaabbbbbaba', 'bbbababbaabbbabbbbbbbbaa', 'bbbbbbabbbabbabbabbaabbbaaabaaab', 'bbbababbababaaababaaabbabaababbb', 'baabaabbaabbabaabbbaaaab', 'bbaaaababbabababaaabaaaaaaabaabaabbbbaba', 'bbabbaaabbbbbaaabbbaabab', 'ababaaababbabababbaababb', 'aabaaaababbabbabbabbbbaa', 'aaaabaaabbaabbabababaaaaabbbabbb', 'abbbabaabbabbbaaaabaaababbabbabbbbaabaababaaabbb', 'bbaaaabbaabbaaabaaaaaaabaaabbbbaaabbaabaaababaaabbaaabaa', 'babbbabbaaabababbbabaaab', 'abbabbabbaabbababbabbbbaaaaabbbabbababba', 'abbaababbbaabbababbbabbaaabbbbbaaaabababaabababbbbaabbbaabbabaabbbbbabbaabaaaaab', 'babbbabaababbbabbbbabbba', 'baaabaabaaaaaaabbabaabba', 'baabaabbbaabaaabbbabbaaabaaaaaabbbbbaabb', 'bbababbbabaaaabbbababaaa', 'baababbaaaabbbbaabbababbaabbaabaabaabbbabbabaaab', 'bbbbbbaaabbbababbaababbbbaaabbaabbaababb', 'bbabbaaabaabbbaababbaabb', 'ababbbababbbbbbbababbabb', 'babababababaaaaaaaaababababbaaabbabaabab', 'abaaabaaabbaabbbbabbaaba', 'aaaababbbabbbbbbbbbaabba', 'babbbabaaababaaabaaababb', 'ababbbabbbabbabbbbababaaaaabbbaa', 'aaaaabbbaabbaababbbbbbbbbaaaabbbaaaaabaabbbbaabaaababbaabababbabbabbabbb', 'abbabaabbbabbbaaaaabaaaabbbbbaaa', 'bbbbabbaaabaabbbaabababb', 'bbbabbaabbbaabaaabaaabaabaaaaaabaabbbbaa', 'bbbababbbabaaaabaaabbaba', 'abbababbabaababbbaabbabaaaabaabbaaaabaaabbabbbbbababababbbbaabba', 'aaabaaaaaababbbaabbaabab', 'abaabbaabaaabababaaabbbababbbbab', 'aaaaabbbbbababbbbabaaaaa', 'aabaaabaaababaaaabaabaaa', 'aabaabababbbaaaabaabbaaa', 'babaabaababaabbbbbababbbaaababbaabbabaabbabbbbabbaabaaba', 'aabaaabaaaabaaaabbaabbbb', 'bbbbaabaabaaabaaaababbbabaabbaab', 'bbabababbbabbbbaabbbbaab', 'baabababbaabbbbbbaaabbbabbbabbbbbabaabbababbaaabaabababa', 'abbbabbbabbabbabbaaaabaabbbbbaaaabaabababaababaaaaabababaababbba', 'baabbabbbaabbbbaabaabbabaababbaa', 'abaababbaaaaabbbaabbbaabaaababbbbbaaababaaaaababbabbaabb', 'bbbabbbbababababaaabaaabbaabbabaabbabbbbaababaaaabbbabbbbbbabbbbaaaaababbaaaaaaa', 'aababbabaabababaaababbabbaaaaaaabbbbbbaabbaaabbbbbbaabbb', 'ababbbabaaabaababbbaaabb', 'abbbbbbaabbbbbbbbbababba', 'bbabbbbabbabbbaaabbabaababbbaaaaaabbaaaa', 'bbaabaababbbbbbbabaabaab', 'aaaaabbabbbbabbabaabbbbbbabbabaaababbabbaabbaaaa', 'abbaabbabbbbbbbbabababba', 'abababbbabbababbabbabbaabbbbaabb', 'baaabaaaaaaaabbabaaababb', 'abaabbbbbabaaaabbaaaabaa', 'bbaabaaabbaabaaaabbbbbaa', 'baabaaabbbbbbbbabbababaaabbaaaab', 'bbaaabababbaaabbaabaaabbaabaabbabaaaabaa', 'aababbbbbbabbabbbbabbbbaaabababb', 'abbbabaabbaaaaabaaabbaaa', 'abbbaaaabaaabaaaaaaaaaaabbaabbab', 'aaabaaaabbbbbbbaabbababbbabbbabaabbabbaabbbbaaaabbbaabbb', 'aabbaaabbbabbabbbbbaabaaaaaaaabaabbbaabb', 'babbbbbbaabbabaabaaaabab', 'aaaaabbbaaaaabbaaababbbaabababab', 'baabaabbbbbbbbbabbaabaaababaabab', 'aababbbbaaaabbaababaaaaabaabbbabbbababaaaabaaabbaaaabaabababbbabbabaabbabaabaaaa', 'aababaaaabbbababbbaabaabbbbababbbbaaabababababba', 'bbbbbbabbabbababaaaaabaabaabbbaabbaaabababbaaaab', 'abbaabbbaabbbbabbbabbaba', 'bbaababaabaabbbbbabababb', 'aabaabbbbbbbbbbababbababbbbbababbabbaaab', 'bbabbaabaabbaabababaaaabbabbaaaaabaaabab', 'babbaaaabbabbabbabbaabab', 'bbbababbabbababbbabbaabb', 'aaababbabaaaaaababbbabba', 'babaabaabaaababaaabaaabaaaabbabb']\n"
     ]
    }
   ],
   "source": [
    "data_raw = [(line[0:-1]) for line in lines]\n",
    "print(data_raw)"
   ]
  },
  {
   "cell_type": "code",
   "execution_count": 3,
   "metadata": {},
   "outputs": [
    {
     "data": {
      "text/plain": [
       "561"
      ]
     },
     "execution_count": 3,
     "metadata": {},
     "output_type": "execute_result"
    }
   ],
   "source": [
    "len(data_raw)"
   ]
  },
  {
   "cell_type": "code",
   "execution_count": 12,
   "metadata": {},
   "outputs": [
    {
     "data": {
      "text/plain": [
       "''"
      ]
     },
     "execution_count": 12,
     "metadata": {},
     "output_type": "execute_result"
    }
   ],
   "source": [
    "data_raw[136]"
   ]
  },
  {
   "cell_type": "code",
   "execution_count": 29,
   "metadata": {},
   "outputs": [
    {
     "data": {
      "text/plain": [
       "['102: 100 47 | 76 84',\n",
       " '23: 60 47 | 73 84',\n",
       " '132: 17 47 | 81 84',\n",
       " '108: 55 100',\n",
       " '18: 116 47 | 26 84',\n",
       " '103: 84 115 | 47 81',\n",
       " '65: 84 113 | 47 50',\n",
       " '128: 107 47 | 125 84',\n",
       " '14: 84 100 | 47 107',\n",
       " '118: 47 17 | 84 57',\n",
       " '2: 47 100 | 84 40',\n",
       " '28: 63 84 | 74 47',\n",
       " '22: 102 84 | 123 47',\n",
       " '123: 84 74',\n",
       " '19: 3 47 | 13 84',\n",
       " '24: 74 47 | 81 84',\n",
       " '115: 55 55',\n",
       " '90: 92 47 | 44 84',\n",
       " '48: 84 94 | 47 96',\n",
       " '109: 17 84 | 100 47',\n",
       " '92: 84 75 | 47 108',\n",
       " '66: 38 47 | 125 84',\n",
       " '83: 66 47 | 108 84',\n",
       " '31: 121 84 | 77 47',\n",
       " '29: 47 61 | 84 111',\n",
       " '45: 47 47 | 47 84',\n",
       " '59: 47 49 | 84 43',\n",
       " '37: 47 30 | 84 95',\n",
       " '36: 107 84 | 125 47',\n",
       " '82: 74 84 | 38 47',\n",
       " '61: 84 10 | 47 110',\n",
       " '79: 47 28 | 84 109',\n",
       " '33: 101 47 | 133 84',\n",
       " '12: 45 47 | 63 84',\n",
       " '91: 122 84 | 93 47',\n",
       " '122: 65 47 | 52 84',\n",
       " '21: 57 84 | 115 47',\n",
       " '8: 42',\n",
       " '67: 102 47 | 64 84',\n",
       " '39: 113 84 | 81 47',\n",
       " '41: 84 124 | 47 10',\n",
       " '50: 47 47 | 84 84',\n",
       " '17: 47 84 | 84 84',\n",
       " '120: 98 84 | 78 47',\n",
       " '113: 55 47 | 47 84',\n",
       " '20: 84 128 | 47 104',\n",
       " '7: 84 1 | 47 20',\n",
       " '51: 84 113 | 47 81',\n",
       " '56: 84 83 | 47 69',\n",
       " '131: 84 127 | 47 97',\n",
       " '0: 8 11',\n",
       " '5: 47 63 | 84 125',\n",
       " '94: 15 84 | 127 47',\n",
       " '121: 99 47 | 27 84',\n",
       " '119: 47 115 | 84 57',\n",
       " '129: 47 80 | 84 131',\n",
       " '15: 47 100 | 84 45',\n",
       " '35: 84 50 | 47 76',\n",
       " '95: 47 115 | 84 107',\n",
       " '68: 127 84 | 51 47',\n",
       " '124: 84 107',\n",
       " '75: 50 55',\n",
       " '57: 47 84 | 84 55',\n",
       " '13: 47 33 | 84 129',\n",
       " '53: 106 47 | 59 84',\n",
       " '106: 16 84 | 118 47',\n",
       " '89: 84 125 | 47 45',\n",
       " '104: 45 84 | 76 47',\n",
       " '99: 47 56 | 84 7',\n",
       " '78: 84 74 | 47 81',\n",
       " '64: 17 47 | 115 84',\n",
       " '32: 50 84 | 40 47',\n",
       " '1: 47 24 | 84 72',\n",
       " '47: \"a\"',\n",
       " '80: 114 47 | 109 84',\n",
       " '88: 47 119 | 84 132',\n",
       " '105: 47 125 | 84 100',\n",
       " '6: 68 84 | 67 47',\n",
       " '110: 76 84 | 63 47',\n",
       " '38: 84 84 | 84 47',\n",
       " '49: 47 63 | 84 76',\n",
       " '26: 55 107',\n",
       " '81: 47 84',\n",
       " '74: 84 47',\n",
       " '96: 84 89 | 47 117',\n",
       " '77: 47 86 | 84 71',\n",
       " '135: 32 84 | 2 47',\n",
       " '133: 47 15 | 84 128',\n",
       " '42: 19 84 | 62 47',\n",
       " '30: 47 100 | 84 74',\n",
       " '27: 6 47 | 91 84',\n",
       " '63: 84 55 | 47 47',\n",
       " '62: 84 87 | 47 23',\n",
       " '76: 84 84',\n",
       " '4: 84 135 | 47 54',\n",
       " '60: 41 47 | 37 84',\n",
       " '100: 47 47 | 84 47',\n",
       " '85: 47 112 | 84 18',\n",
       " '116: 125 84 | 63 47',\n",
       " '134: 57 47 | 115 84',\n",
       " '34: 52 47 | 25 84',\n",
       " '40: 47 47',\n",
       " '111: 58 84 | 126 47',\n",
       " '3: 29 47 | 130 84',\n",
       " '114: 17 84 | 107 47',\n",
       " '52: 47 45 | 84 74',\n",
       " '10: 47 100 | 84 81',\n",
       " '98: 47 76 | 84 100',\n",
       " '112: 84 82 | 47 103',\n",
       " '72: 40 47 | 45 84',\n",
       " '126: 50 84 | 113 47',\n",
       " '107: 84 47 | 47 84',\n",
       " '11: 42 31',\n",
       " '55: 84 | 47',\n",
       " '54: 12 84 | 5 47',\n",
       " '130: 34 47 | 70 84',\n",
       " '84: \"b\"',\n",
       " '127: 81 47 | 17 84',\n",
       " '87: 84 53 | 47 9',\n",
       " '101: 105 84 | 14 47',\n",
       " '9: 88 84 | 120 47',\n",
       " '73: 47 79 | 84 22',\n",
       " '97: 74 84 | 50 47',\n",
       " '117: 74 47',\n",
       " '70: 47 134 | 84 46',\n",
       " '58: 47 50 | 84 115',\n",
       " '125: 47 47 | 55 84',\n",
       " '46: 47 81 | 84 17',\n",
       " '86: 84 90 | 47 85',\n",
       " '25: 38 84 | 63 47',\n",
       " '69: 39 47 | 78 84',\n",
       " '43: 47 100 | 84 125',\n",
       " '93: 84 66 | 47 35',\n",
       " '44: 47 21 | 84 36',\n",
       " '16: 57 47 | 107 84',\n",
       " '71: 48 84 | 4 47']"
      ]
     },
     "execution_count": 29,
     "metadata": {},
     "output_type": "execute_result"
    }
   ],
   "source": [
    "rules = data_raw[0:136]\n",
    "rules"
   ]
  },
  {
   "cell_type": "code",
   "execution_count": 30,
   "metadata": {},
   "outputs": [
    {
     "data": {
      "text/plain": [
       "['babaaabbbababababbbbabbaabbaabaa',\n",
       " 'babaaaabaaaaababbbbaaaaa',\n",
       " 'abbabaabbaaabababaabbbbabbbbbaabbbbabababaaaabbbbababbbb',\n",
       " 'bbbabababbabbbabbbabbbbb',\n",
       " 'babaabbbababbbabaabaaaaa',\n",
       " 'abbabaabbaababbabababbbababbbabbabbabbbabbaabbbb',\n",
       " 'aaaaabaabbbbbaabbbbbbbbbbaaabbaaabbaabab',\n",
       " 'baababbabbbabbaaaaaababbaabbababbbabbbbb',\n",
       " 'aaabaaaabbabbbabbabaabbbabaabbbbaaaaabaaaabaabaaababaabbabbaaaabbbbaabbabbabaaaaaaaabaab',\n",
       " 'ababaaabababbbababaaabab',\n",
       " 'bbbbabbbbbaabaaaaaabbbbbbabbbabaabbaaababbbaaaaababaabaabaabababbabbbabbabaaabbaaabbaaaa',\n",
       " 'babaabaaababaaabaaaababa',\n",
       " 'aabaaabbaabbbabbabaabaab',\n",
       " 'bbbaabaaaabaaabbbaaabbbabbbaaabb',\n",
       " 'aaaaaaabaaababbbbbbbbbbbbaaabaabbaaabbab',\n",
       " 'bbabbabbaaaaabababaababa',\n",
       " 'babbababbbabbaababaababbaaaaabaaabbbabba',\n",
       " 'bbbbbbbababbaaaaabaaabbaabbaaaab',\n",
       " 'bbbbbaaabbbbbaaaaaabaaaabbbaaabb',\n",
       " 'babbababaababbbbbbbaaabb',\n",
       " 'abaabbaabbababaabbababba',\n",
       " 'abaaabbaaabaabbbabababba',\n",
       " 'babaaaabaaaababbabbbbaaa',\n",
       " 'bbbbbbbabaababbaaaaababbabbaabbabbbaabaababaabbbbbbaabab',\n",
       " 'aaabbabbbaabababbaabaaba',\n",
       " 'bbbababbabaabbabbbabaaaa',\n",
       " 'baabbabababaaaabbbbbbaab',\n",
       " 'bbabbbbabaababbabbbaabab',\n",
       " 'abaabbabbbabbabbabbbabba',\n",
       " 'bbbbbbbaaababaaabbaabbbabbaaabbbbabababb',\n",
       " 'aabbaaabbabbabaaaabbabaababbbaababaabababaaabbaa',\n",
       " 'aaabaababbbabbbbaaababbbbaaabbbb',\n",
       " 'aaaaaaaaaaabaaaababbabbb',\n",
       " 'bbbabbbbaabaababaabbabab',\n",
       " 'baaabaabbaaaabbbbaaaaaaa',\n",
       " 'bbbbbbbaabbabbaabaabaaaa',\n",
       " 'aaaaabaabbabbaaaaaaaaabb',\n",
       " 'aabaaabbaabbabaaabbabaabbaababaaabbbaaaaababbaabaaabbaaabbaaabaa',\n",
       " 'bababbbaaabaababbbababaabbaabaabbaaaabbabbaabababbbabbbababbabbb',\n",
       " 'abbbaababbaabaaaaababbbaaaabbbaa',\n",
       " 'aababbbaaaabaabbbbabaaaa',\n",
       " 'aaaaabbaaabaaabbbababaaa',\n",
       " 'bbbababaaabaaaabbabbabaabbababababababbbabbaaaaabbababbabbbbabbbabbbaabb',\n",
       " 'bbbabababbbabababababbbb',\n",
       " 'bbaaababbbabbbbaabbbbbaa',\n",
       " 'bbababaabaaaabbaabbbbaaa',\n",
       " 'bbbbabbababbbbaabbaaaababbababbaabaaabababbabbabbbbbbaababbbbabbbbaaaaabbbaabbba',\n",
       " 'abbabbabbbbbbaabaaaaabababaaaaabaaabbaaaabababba',\n",
       " 'bbbabaabaababaaabaabbaaa',\n",
       " 'bbababbbbaaababaaaabbabbaaabbbaa',\n",
       " 'aabbbbababaabbaabababbaa',\n",
       " 'aaabbabbbaabbbabbbbbbbbabaaaabbaaabababaabaaabab',\n",
       " 'aaaaaaababbabbabbabaaaaa',\n",
       " 'aababaaaaaababbbabbabbabaaababbbbbabbababababaaaabbabbbb',\n",
       " 'babaabbbbaaabaaabbbabbab',\n",
       " 'bbbbabbbbaabbbabbbaabbbaabbbbbaabbbbaaabbbbaabbbbaababbaaaabaaaabbabbabbabbaabbb',\n",
       " 'aaabbbabbaaabaabbaaaaabaabababab',\n",
       " 'abbababbabbbbbabbaabbbabaaababbbbbbbabaababbbbbabababbbb',\n",
       " 'bbaabbbaaaaababaaabaaaabbbbbbaabbaaaabbaabaaabaabaaaabbabbabbbaabbaaaaaa',\n",
       " 'abbabbaaaabaaaabbbbbbaabbabaababbbbabbba',\n",
       " 'bbaaaabaabbababbbbaabbaa',\n",
       " 'aabbaabaabbaaabbaaabaaaaaaababbabababbaa',\n",
       " 'baaaabbaaaaaabbbbabbababbaabbbbabbabbabbaabbaabb',\n",
       " 'babbaaaabbaabaaabbbbaaaabbbabbaaaaaaaabb',\n",
       " 'aaaaababaaabbabbababbabb',\n",
       " 'abbabaaaaaabaababbabaaab',\n",
       " 'aaabaababbaabbbaababbabb',\n",
       " 'babbabaabaababbabbabaabb',\n",
       " 'abbabbaabbabbbabababaaaa',\n",
       " 'bbabbbaaaababaaaaaabbbaa',\n",
       " 'bbbbbbbaaaaaabbabbbaabaaaaabbaaa',\n",
       " 'bbbaabaababaaabbaababbabaababaabbbababba',\n",
       " 'bbaaabbaabaabbbbbbbaababbbaabaabaaabaababaaaaabbbaaabaababaaaaabaabbbbaabaabbbaa',\n",
       " 'baabbababbaaaaababaabbabaabbbaabaabbaabbabbbaaababbaaaab',\n",
       " 'bbabaaaaaaaabababaabbababbaabbbbabbbaaababbaababaabaaaaaaaabaabb',\n",
       " 'baaaaaabbaababbaababaaaa',\n",
       " 'bbbabbbbbbaabaabbaaabbab',\n",
       " 'babbbabababaaaabaabbaaabbbabaabababbbaaabaababbbbbaababbbabbbabb',\n",
       " 'aabaaababababababaabbbababbababbbabbaabb',\n",
       " 'bbaabaaabbaabababbaababaabbabbba',\n",
       " 'bbbabaaaababaabbaabbabbbbabbaabaabbabaabbaabaabaabbaabbabaaabaaa',\n",
       " 'abbaaabbbbbbbbbbaaabbaab',\n",
       " 'baabbbbbaabbaabbaabbababbaabaaba',\n",
       " 'baaaabaaabbbbaabaabbabbbbaababbb',\n",
       " 'abbbbbbaabbbbbbbbbbbbaaaaaaabaaa',\n",
       " 'abbbbbbbbbabbbaabbbaaabaaabababa',\n",
       " 'aababbbaabbabaabbabaaaba',\n",
       " 'bbabbaabbabbabaaababbbba',\n",
       " 'aaabbbabbaabaabbbbbabbbbaaaaabbbbabbbabababbbaaa',\n",
       " 'aaabaabbaabaababaabababb',\n",
       " 'bbababaaabbbaabaabbababa',\n",
       " 'baabbbaaaaababababaabbaababbabbb',\n",
       " 'babbbaabbaaaabbaababbabb',\n",
       " 'bbababbbababbbaabbabbbabaabababaaabaaaaa',\n",
       " 'babbbbbbbbabbbababbbbaab',\n",
       " 'abaabbbbbabbbbbbaaabbaba',\n",
       " 'bbabbbaabbbbbaaabbbaaaaa',\n",
       " 'abbbbbbbbaabbbaaabbbbbbabaaaabaaaaaabbbb',\n",
       " 'aabaaabababbbbbbaaabbaab',\n",
       " 'bbbabababbbbbbabbbbbaabaabababbaaabbbbbb',\n",
       " 'aababbbaaaaaaaaaabbaaaaa',\n",
       " 'ababaababaababbbabbbbabaaabbabaaabbabbaabbaaaaaababaabba',\n",
       " 'aabbaaabaabbbaabaabaabbbaaabaaab',\n",
       " 'aabbaaabaaaaabaaaaabbbabaaabaaaababaaaaaabbbbbaaaababbaa',\n",
       " 'babbbaabaabaaabababbabaababbbaabbabaabbaabababbababaaaaa',\n",
       " 'aabbbbabababbbaaaaabaabbbaabbabaaaabababaabaaaabaaaababaabbbabbaabaaabbb',\n",
       " 'bbbbbbababbbabaababbabaabababababaababbabbbbbbbabbaaabbb',\n",
       " 'bbabababaaababbabbababba',\n",
       " 'abbbbbbabbbbbbaaabbbaabbbbabaabaaaaaaabb',\n",
       " 'aaaaabbbbaaaabbabbbabbab',\n",
       " 'aabbaaabbbbaaaabbabababbbabbaabbbbababbbbaaabbbababaabbbaabaaaaababbbaaa',\n",
       " 'ababbbabbbabbbaaababbbbbaabbabbaababbaaa',\n",
       " 'abbabbababbababbbbbbabbb',\n",
       " 'aabbaabaabbabbabbaabbaab',\n",
       " 'baabbbaaabbababbabbaaaba',\n",
       " 'baaabbbaaabbbabbbaaaaaaa',\n",
       " 'bbaaababaaaaabaabaaaabba',\n",
       " 'aabaaabbbbabbaabaaababaabbbbaabb',\n",
       " 'bbbbabbaaaabbabbaabbabab',\n",
       " 'aabaaaabbaaaaabababbabba',\n",
       " 'bababbbabaabaabbaaaabaab',\n",
       " 'ababaaabbbaabaabbbaabaaababaabbbabaabbaaaabbbaaabbbaabab',\n",
       " 'aababaaabbbbaaaaaaabbbbb',\n",
       " 'abaabbaabbbbbaaaaaaabaaa',\n",
       " 'babbbabababbaaaabaaaabab',\n",
       " 'abbbbbabbabbaaaababbaabb',\n",
       " 'bbaaaaabbbbababaaaaabaab',\n",
       " 'bbaababaaaabaabbabaabaab',\n",
       " 'bbababbaabbbbabbbaaaaabbabababba',\n",
       " 'bbabbaabbbbbabbaabababbbaabbbbbabaabbaaabbbabbbabaabbaab',\n",
       " 'abbabbaabbaaaaabbbabbbaabbbabaaabbaaabbbaaabaaab',\n",
       " 'aaababbababbabaabaabbbababbabbabbbaababaabbbabbaabaababa',\n",
       " 'baabbaabbbabbababbaaaaaabaaabbab',\n",
       " 'aabbabaabbbbbbbbbaabaaababaaaaaa',\n",
       " 'abbaabbabaaaaabaabbbabaabaaabaabaabaabbbaabaabaaaabaaaaa',\n",
       " 'baaaabbabaababbababbbababababbbb',\n",
       " 'bbabbaabbaaabbbabaaabaababbbbbbabbaaabaa',\n",
       " 'baabbbbaabbbbbbabaabbaab',\n",
       " 'baaaabbaabbababbaababbababaaaabbbbbbbabababaaaba',\n",
       " 'baabbbbbaabaabbbbbabbaaaabbaabbaabbbbbabbbbbbaba',\n",
       " 'babaabbbbbaabaaaabaababbabbbbabbbbbaaaaa',\n",
       " 'baabbababbaababaabbbaaab',\n",
       " 'bbaaaabbbaaaaaabbbabababbaabbabbbaaabbaaababaabb',\n",
       " 'abbbbbbaaababaaababbaaba',\n",
       " 'baabbabababababaaaaaababbababbbabaabbbaaabaaabab',\n",
       " 'aaaaababaabaabababbbbbbbabbbaaba',\n",
       " 'bababaaabbbaabbabaaaaabb',\n",
       " 'aabbaababbabbbbabbbaaaab',\n",
       " 'bbbbbbbbaabbbabbbabbbbba',\n",
       " 'aabaababbaabaabbbbaaaaababaaaaabbaaaaaaa',\n",
       " 'aaaaaaaaaaaaabababbbbbbabbbaabab',\n",
       " 'bbbaabaaababbbaaaabaaababbababbbabaaabbaabaaaaaa',\n",
       " 'ababbabbbbbbaabbaaabbaaabbaaabbaaaabbbba',\n",
       " 'baabababbbbbabaaababbbaabbaaababbbbaaaababbabbbb',\n",
       " 'bbaabbbaabaaabaaababaabb',\n",
       " 'bbabbbaaabbaabbbaaaabbaa',\n",
       " 'bbbabaabaaaaabaaaababaaaabaaabaaaaaaabbaabbaabbabbbbbaba',\n",
       " 'baaaabbaabbbaabaabbabbaabbbaaabaaabbbbbaaaaabaab',\n",
       " 'bbabbabbbbbbbaabbbababbbbbaabaaaaaabbaaa',\n",
       " 'abbbbbbbabaaabbbabbaaaabaaabababaabaabababbbaaaaabaaaababbababbabbbbabbb',\n",
       " 'baabbabaababbbaabbababba',\n",
       " 'bbaabbbaaaabbbbaaabaabaa',\n",
       " 'baabbabaabbbbbabaaaaabaababbbbaaabaaaaaa',\n",
       " 'baaabaaabbbababbababaaabaababbaa',\n",
       " 'aaababbabbaaaaabbaabababbbabaaba',\n",
       " 'aabbbaabaabbaaababbbaabb',\n",
       " 'bbbbbbbbbaabababaabaabaa',\n",
       " 'ababbaaaaabbbbbaaaabbaabbaaabaaabaabbaabbabbbababbbbabbabaaaaaababaaaaba',\n",
       " 'baaaaabaaaaaababaabbaaaa',\n",
       " 'aaaaaaaabbabababaaaabbaa',\n",
       " 'aababaaaababbbaabbbaaaaa',\n",
       " 'aaaaaaabbbaaabababbbaaab',\n",
       " 'aaababaaaabbbbababbaaaab',\n",
       " 'aaababaabaaaabbaabbaabab',\n",
       " 'bbaabaaaaaabaabbbabaaabbababaaba',\n",
       " 'ababaaabbaaaabbabbaabaaaabbababbaababaaababaabbbbabbabbb',\n",
       " 'aaaaaaabaaababbbbbaaaabbbbabaaaabaaabbabbaabbbab',\n",
       " 'abbabaaaabaaabbabbabbaaaababbbbbbbbaaaaa',\n",
       " 'abaaaaababbbbbababbbbaba',\n",
       " 'abaabaaaaabbbbaaaaaabaab',\n",
       " 'babababaaababaaaabaababa',\n",
       " 'bbbaaaaabbbbbbaaaabbaabb',\n",
       " 'aababaaaaaaaabaaabbbbaab',\n",
       " 'ababaaabababbbaaaaaabbab',\n",
       " 'baabbbabbbaabbbaabbbaabb',\n",
       " 'baabbbbaabbbaababbababba',\n",
       " 'bbbbabaaaaaababbbaababaa',\n",
       " 'aaaaabbabbbaabbaabaabbbaaabababababbbbba',\n",
       " 'baabaaabbbaabaabababaabb',\n",
       " 'aaabaaaaabbabbaabaabaaaa',\n",
       " 'aaabaabaabbabbabbabaabab',\n",
       " 'babaabbbbaabbbbbabaaabbabbaabaaabbababbababbbaaaababaabb',\n",
       " 'baaabaaababbabababbaaabbbaabaaabbaabaaaa',\n",
       " 'baaabaabbbababbbabbbbbabbabbaaab',\n",
       " 'abbabaaaaabbbbbababbaaaaaaaaababbabaababaabbbbbb',\n",
       " 'abbbbbbaabbbbaaababaabaaabbbbabbabbbbababbababbababaaaabbbaaaaba',\n",
       " 'aaabaabbabbbabaaabbaaaaa',\n",
       " 'bbbbaaabbbbabaaabaaabbbb',\n",
       " 'babbbaabbaabbbbbaaaabaaa',\n",
       " 'aaaaabaabaabaaabaabbaababbaababb',\n",
       " 'baababbbababbabbbbbbbaabaaaaabbababbbbbabaaaababbbbbbbbbbbaaaaabbabaaaabbababbab',\n",
       " 'baabaabababaababaaabbaaa',\n",
       " 'aababbabababaaababbabaaabbababbaabaababa',\n",
       " 'bbabbbabbabbbaababababba',\n",
       " 'abbaabbbaababaaaabbbabab',\n",
       " 'aaababbbabaabbbbbbbbabbb',\n",
       " 'aabbbbabbaaabaaaabbbaabb',\n",
       " 'abbbbbaabbbaabababaabaabababbaba',\n",
       " 'aaababaabbbbaaaababaaabbbaabbabbaaaabbaaababbaaa',\n",
       " 'bbaaaabaabbabaaaaabbaaabbbbabbab',\n",
       " 'aaabbababbbbababbbbbaaaababaaaaaababbaababaababbaababbbaaabbaaba',\n",
       " 'abbaabbbbabaabbbababbaab',\n",
       " 'baabbbbbbbaaabbbbababbbbbbaaaaaaabbbbbaaabaababa',\n",
       " 'aabbbbabbbbababbbabaaabbbabbbbbbbaaaabab',\n",
       " 'baabbbaabbabbbbababbbbaa',\n",
       " 'babbbbbbabbbbbbbaaabaabbbbbbbbbabbaaabaa',\n",
       " 'bbbabaaabbbbbaaaaaabbaab',\n",
       " 'abbbbbababaaabbaaababbbabbaaaaabaaaaabaabaaaaabb',\n",
       " 'bbabababaabbbaabaaabbbbabaaabbab',\n",
       " 'aaabbbbabbbbaaabbbbabbbbbbbbabbbaabababb',\n",
       " 'baaaabbaabbababbbabaaaaa',\n",
       " 'baababaabbaaaaabbababaabbbababbbababbbbabbabbaabbaaaabbabbaaabbbbbabbabbabbbabab',\n",
       " 'aaaaaaaaaabbbbababbbbabb',\n",
       " 'abbaaabbbaaaaaabbababaab',\n",
       " 'abaabbbbbaabbabaaaabababaabbababaaabbaab',\n",
       " 'aaaaabaabaababbaabbbbaba',\n",
       " 'bbbbbaaabbabababbaabbabaabaaaabaaabababb',\n",
       " 'aaaaabbaabbabaaaabbabbbabbbaaabbbaabaaaabbaaaaaa',\n",
       " 'aaabaaaaaaaaabbaaabaaabbbaabbbabaaaaabbbbabaaaaa',\n",
       " 'abaababbaababbbbaaabaaaabbbbbbbaabbaabaa',\n",
       " 'abaaabaabbbbbbabaabbbabbababaaba',\n",
       " 'bbabbaaabbaaaaababaaabbaaabbbabbbbbbabbaaabbabba',\n",
       " 'aaaaaaabbaababababaabbaababbaaaabaaabbab',\n",
       " 'bbbbbaaaaaababbbbaabbaab',\n",
       " 'abbaabbbbbaaaabbbbbbaaaabaabbabbaabbbaabbbaabbab',\n",
       " 'aaaabbbababaababbbbaababaababbaabbbabaababbbaabbbbaabbbaababbbaa',\n",
       " 'abbabbaaabbbaababbabaaab',\n",
       " 'aaaaaaababbaaabbbbaababb',\n",
       " 'baaabbaabaaabbaaabbbabba',\n",
       " 'babbbaabbbabbaabaabbaabaaabababa',\n",
       " 'aaaababbabababbbababaaabbbabaababbaababaaaabaabaabbabaaabbbaabaa',\n",
       " 'aaaaaaabaabbabaaabbabbaaaababbbbabbabaaabaaabaabaaaabbbaaabbbaaa',\n",
       " 'abbbbbbbbbbbabbabbbbaabb',\n",
       " 'baaabbbaabaababbaaabbaba',\n",
       " 'bbbbbbabbabbbabbaabaababbbbaabab',\n",
       " 'aaaaababbbbbabbbababbaabbbbbbabbaabbbbbbbbaaaaaa',\n",
       " 'ababaabbbababbbbbbbaaaabaabbbaaa',\n",
       " 'aaaababbbbbbabbabbaabbaa',\n",
       " 'aaabaababbbababbbabbabbb',\n",
       " 'bbababaaabaaabbaaabbaaaa',\n",
       " 'aaaaababbbaabbaaaaaaaabaabbbababbbbaabab',\n",
       " 'aabbaabbbabaabaabaaaaaaaabaababbbabbbbbaababbabbababaabaaabbbabbaabaabbaaabbbbba',\n",
       " 'bbbbaaaabbabababbbaaaaaa',\n",
       " 'abaaaaabaaaaaaabaabbaaabaaababaaaabaaaaa',\n",
       " 'babbbaabababaaabababbaab',\n",
       " 'baaaaaababababbbbaabababbbbbbaabbabaaaabaaaaaabaaababbaa',\n",
       " 'aabaaabbaababbabbabaabbbaababbabaabbbbaa',\n",
       " 'ababbbbbabbbaabababbaaba',\n",
       " 'bbababababbbaaaaabaabbabaaabbabb',\n",
       " 'bbaabaabaabbbaabbaaaaaabaabbabbbabbbbaab',\n",
       " 'baabaabbaababbbabbbbbaba',\n",
       " 'aaaaabababaaaaababababba',\n",
       " 'abababababbbabbbbababaaa',\n",
       " 'ababbbaabbabbbbabbbbbbaaabbbbabaabbabbba',\n",
       " 'babaaaaaaaabbaaabbbaabab',\n",
       " 'abaaababaaaabaaabaaaaaaabbabbbaaaababababaaaababaaaababbbbabaabbaabbbbba',\n",
       " 'aaababbbbaaaabbbaaaaaaabbbbabbbaaabbbbaa',\n",
       " 'babababaaaaababbabaabaab',\n",
       " 'bbaabbbababbabababaabaababbbbabaabbaaaaababbbbab',\n",
       " 'abababbbaabbbbababbbaaaaaaabaaab',\n",
       " 'aabaabaaaaaababaabbaaaabaabaaaaaaaababaa',\n",
       " 'aabbbaabbbbbabaababbabba',\n",
       " 'abbbaabaaaaaaaaababbbabbbbaaaababbbbbababbbaaaaa',\n",
       " 'aaabbbabbbbababbbbaabaabbaaaabab',\n",
       " 'aabbaababbabbbabbbbbbaba',\n",
       " 'abbaabbabbbbaaaaabaaaabbbaaababb',\n",
       " 'aaabababbbbbaaaabbbababb',\n",
       " 'abbbbbbbaaabaababbababababaabbbaabaabaaa',\n",
       " 'bbbabababaabbababaabbbbabaababaa',\n",
       " 'bbbabbabaaaabaaaaabbaaababababababababaaaaaabbbbaaaaabaabbaababb',\n",
       " 'aabaaabaaaaaaaababbabbbb',\n",
       " 'aabbabaabaabbabbaaabbbbaaabaabaa',\n",
       " 'bbaaaabbbbbabaaabababbbaaabaaababababaab',\n",
       " 'bbbbbbbaaabbbbbaaaaabbab',\n",
       " 'babaabbbbaaabaaabbbababbbbbaabaaabbbbaba',\n",
       " 'bbaaaabbbbbbaaaaabababaaaaabbaaabbbaabba',\n",
       " 'bbabbbababaabbbbaabaaabaaaabbaaa',\n",
       " 'baabaabbabaababbbbaabaabbaabbabbabbbbababbaaabbb',\n",
       " 'babbbabaabbbaababababbab',\n",
       " 'aabaaabbabaaaaabbbaaaabbaaabbaba',\n",
       " 'aaaaabaaabaabbbbaabbbbbb',\n",
       " 'aaaabbbabbababaabaabbbaabbbbbababababababbbaaabbaaabbabaaababbba',\n",
       " 'abaaaabbabbbbbabbbabbbababbaababbbaaabba',\n",
       " 'abababbbbaabbbbbbabbbbbbabbbbbabaaaababbababaabb',\n",
       " 'abaaabbabbababbbabaababbbaabbbbababbbaabbbaabbaa',\n",
       " 'babbbbbbbaabababbbababaaabbabbaabaabbabbaabbbaaa',\n",
       " 'aaababbababaaaabbbbaaaaa',\n",
       " 'babaaabbaabbbbbaaaaababa',\n",
       " 'aaabaaaaaabbaababaabbabababbaaaabbaabbaa',\n",
       " 'abaabbabbbaababaabbbaabababbabaabbaaaababbababaaabbbabbb',\n",
       " 'bbbbababbbaabaabbabaaabbaababbaaabaaabbb',\n",
       " 'baabbbabaaaaaaabbaabbaab',\n",
       " 'bbbaaabaaaababbbababaabbbbbbbaabbbbababb',\n",
       " 'babbaaaababbabbaabababbbababbbabaaababaa',\n",
       " 'aaabababaabbabaabbbabaaababbbbab',\n",
       " 'bbbbababbbabbbababbababbbaababaababaabba',\n",
       " 'bbbababababbbbbbabbbaaaaabaabbba',\n",
       " 'aabaaabbabbbbbaaabaababaabaaabab',\n",
       " 'bbabbabaabaaaaaababbbbaa',\n",
       " 'abaabaabaaaaabaabbbbbabababbabbbaabaabaa',\n",
       " 'bbabbbaababbbabbaabbaaabbabbabaabaaabaaababaabaabbbabbababbbbabbbabbabbabbaabbbb',\n",
       " 'aaaaabaababbababababbbbbaababbabbbabababbbbbabbb',\n",
       " 'abaaabbabbabbbaaaabababb',\n",
       " 'abbbbbababaaaaabbabaaaaa',\n",
       " 'bbbabbabaaabbaabbaaaabaababbaaab',\n",
       " 'bbbbbbbbabaabbaaaabbbaaa',\n",
       " 'baaabbbaaababbbbabbbabbbabaabaabaababaab',\n",
       " 'aaaababbbbaabbbaaaaababbbabbabba',\n",
       " 'bbabbbaaababaaabbbbbbbbabbaabaababbabbba',\n",
       " 'aaabababbabbbabaaabbabaaaaabbaba',\n",
       " 'aabaabbbbaabbbabaaabbbbabbbbabbb',\n",
       " 'bbbbbbabababaaababaabbbbaabbaaaabababbbb',\n",
       " 'abaaaabbaaabaabbbbaaababaaabbaabaabbbbbb',\n",
       " 'baabbababbbaaabaababbbba',\n",
       " 'baaabbbabababbbaabbaabab',\n",
       " 'babababaaaabaaaabbbbabbb',\n",
       " 'babbababaaabbbbabbbaabaabaabbbbbaaabbbab',\n",
       " 'baabbaabbababbababbaaaaa',\n",
       " 'bbababbbaaaaaaaabaabbbbaaaaabaaa',\n",
       " 'abbbaabbbbbbbbaabbabbbabbbbbabaaababaaab',\n",
       " 'bbaabbbababaabbbbabaaaba',\n",
       " 'baaababababaabbbbbabbaba',\n",
       " 'abababbbaababbbbabbabaabbaabbbaaabbbaabaabbbbaaa',\n",
       " 'bbaaaaaaaaabababbaabababaababbbbbbbbabaaaaabbabbbbbbbbaabaaaaabbbababbaaaaababaa',\n",
       " 'baaaaabaaaaaaaaaabbabbba',\n",
       " 'baabbbbaabaabbabbaaabbbb',\n",
       " 'abbabbabaabbabaaaabbabab',\n",
       " 'abaabbbbbaaaaababbabaaba',\n",
       " 'bbbbbaaabbaabbbaabaaabbaabaaaaabbaabababaabbabbbbabbaabb',\n",
       " 'babbbabaabaaabbaabbbbbaa',\n",
       " 'bbabbaabbabbabaabbaaaabaaaabbaab',\n",
       " 'aaaababaaabaaaaabbabbabaababaabaaabbabbb',\n",
       " 'abbaaabbbbababaabaaaabaa',\n",
       " 'baabbbbabaabaabbbaabbaab',\n",
       " 'baababbabbbabaabaaabaabbbaaabaaabbbbbaba',\n",
       " 'bbbababbaabbbabbbbbbbbaa',\n",
       " 'bbbbbbabbbabbabbabbaabbbaaabaaab',\n",
       " 'bbbababbababaaababaaabbabaababbb',\n",
       " 'baabaabbaabbabaabbbaaaab',\n",
       " 'bbaaaababbabababaaabaaaaaaabaabaabbbbaba',\n",
       " 'bbabbaaabbbbbaaabbbaabab',\n",
       " 'ababaaababbabababbaababb',\n",
       " 'aabaaaababbabbabbabbbbaa',\n",
       " 'aaaabaaabbaabbabababaaaaabbbabbb',\n",
       " 'abbbabaabbabbbaaaabaaababbabbabbbbaabaababaaabbb',\n",
       " 'bbaaaabbaabbaaabaaaaaaabaaabbbbaaabbaabaaababaaabbaaabaa',\n",
       " 'babbbabbaaabababbbabaaab',\n",
       " 'abbabbabbaabbababbabbbbaaaaabbbabbababba',\n",
       " 'abbaababbbaabbababbbabbaaabbbbbaaaabababaabababbbbaabbbaabbabaabbbbbabbaabaaaaab',\n",
       " 'babbbabaababbbabbbbabbba',\n",
       " 'baaabaabaaaaaaabbabaabba',\n",
       " 'baabaabbbaabaaabbbabbaaabaaaaaabbbbbaabb',\n",
       " 'bbababbbabaaaabbbababaaa',\n",
       " 'baababbaaaabbbbaabbababbaabbaabaabaabbbabbabaaab',\n",
       " 'bbbbbbaaabbbababbaababbbbaaabbaabbaababb',\n",
       " 'bbabbaaabaabbbaababbaabb',\n",
       " 'ababbbababbbbbbbababbabb',\n",
       " 'babababababaaaaaaaaababababbaaabbabaabab',\n",
       " 'abaaabaaabbaabbbbabbaaba',\n",
       " 'aaaababbbabbbbbbbbbaabba',\n",
       " 'babbbabaaababaaabaaababb',\n",
       " 'ababbbabbbabbabbbbababaaaaabbbaa',\n",
       " 'aaaaabbbaabbaababbbbbbbbbaaaabbbaaaaabaabbbbaabaaababbaabababbabbabbabbb',\n",
       " 'abbabaabbbabbbaaaaabaaaabbbbbaaa',\n",
       " 'bbbbabbaaabaabbbaabababb',\n",
       " 'bbbabbaabbbaabaaabaaabaabaaaaaabaabbbbaa',\n",
       " 'bbbababbbabaaaabaaabbaba',\n",
       " 'abbababbabaababbbaabbabaaaabaabbaaaabaaabbabbbbbababababbbbaabba',\n",
       " 'aaabaaaaaababbbaabbaabab',\n",
       " 'abaabbaabaaabababaaabbbababbbbab',\n",
       " 'aaaaabbbbbababbbbabaaaaa',\n",
       " 'aabaaabaaababaaaabaabaaa',\n",
       " 'aabaabababbbaaaabaabbaaa',\n",
       " 'babaabaababaabbbbbababbbaaababbaabbabaabbabbbbabbaabaaba',\n",
       " 'aabaaabaaaabaaaabbaabbbb',\n",
       " 'bbbbaabaabaaabaaaababbbabaabbaab',\n",
       " 'bbabababbbabbbbaabbbbaab',\n",
       " 'baabababbaabbbbbbaaabbbabbbabbbbbabaabbababbaaabaabababa',\n",
       " 'abbbabbbabbabbabbaaaabaabbbbbaaaabaabababaababaaaaabababaababbba',\n",
       " 'baabbabbbaabbbbaabaabbabaababbaa',\n",
       " 'abaababbaaaaabbbaabbbaabaaababbbbbaaababaaaaababbabbaabb',\n",
       " 'bbbabbbbababababaaabaaabbaabbabaabbabbbbaababaaaabbbabbbbbbabbbbaaaaababbaaaaaaa',\n",
       " 'aababbabaabababaaababbabbaaaaaaabbbbbbaabbaaabbbbbbaabbb',\n",
       " 'ababbbabaaabaababbbaaabb',\n",
       " 'abbbbbbaabbbbbbbbbababba',\n",
       " 'bbabbbbabbabbbaaabbabaababbbaaaaaabbaaaa',\n",
       " 'bbaabaababbbbbbbabaabaab',\n",
       " 'aaaaabbabbbbabbabaabbbbbbabbabaaababbabbaabbaaaa',\n",
       " 'abbaabbabbbbbbbbabababba',\n",
       " 'abababbbabbababbabbabbaabbbbaabb',\n",
       " 'baaabaaaaaaaabbabaaababb',\n",
       " 'abaabbbbbabaaaabbaaaabaa',\n",
       " 'bbaabaaabbaabaaaabbbbbaa',\n",
       " 'baabaaabbbbbbbbabbababaaabbaaaab',\n",
       " 'bbaaabababbaaabbaabaaabbaabaabbabaaaabaa',\n",
       " 'aababbbbbbabbabbbbabbbbaaabababb',\n",
       " 'abbbabaabbaaaaabaaabbaaa',\n",
       " 'abbbaaaabaaabaaaaaaaaaaabbaabbab',\n",
       " 'aaabaaaabbbbbbbaabbababbbabbbabaabbabbaabbbbaaaabbbaabbb',\n",
       " 'aabbaaabbbabbabbbbbaabaaaaaaaabaabbbaabb',\n",
       " 'babbbbbbaabbabaabaaaabab',\n",
       " 'aaaaabbbaaaaabbaaababbbaabababab',\n",
       " 'baabaabbbbbbbbbabbaabaaababaabab',\n",
       " 'aababbbbaaaabbaababaaaaabaabbbabbbababaaaabaaabbaaaabaabababbbabbabaabbabaabaaaa',\n",
       " 'aababaaaabbbababbbaabaabbbbababbbbaaabababababba',\n",
       " 'bbbbbbabbabbababaaaaabaabaabbbaabbaaabababbaaaab',\n",
       " 'abbaabbbaabbbbabbbabbaba',\n",
       " 'bbaababaabaabbbbbabababb',\n",
       " 'aabaabbbbbbbbbbababbababbbbbababbabbaaab',\n",
       " 'bbabbaabaabbaabababaaaabbabbaaaaabaaabab',\n",
       " 'babbaaaabbabbabbabbaabab',\n",
       " 'bbbababbabbababbbabbaabb',\n",
       " 'aaababbabaaaaaababbbabba',\n",
       " 'babaabaabaaababaaabaaabaaaabbabb']"
      ]
     },
     "execution_count": 30,
     "metadata": {},
     "output_type": "execute_result"
    }
   ],
   "source": [
    "msgs = data_raw[137:]\n",
    "msgs"
   ]
  },
  {
   "cell_type": "code",
   "execution_count": 31,
   "metadata": {},
   "outputs": [
    {
     "data": {
      "text/plain": [
       "424"
      ]
     },
     "execution_count": 31,
     "metadata": {},
     "output_type": "execute_result"
    }
   ],
   "source": [
    "len(msgs)"
   ]
  },
  {
   "cell_type": "code",
   "execution_count": null,
   "metadata": {},
   "outputs": [],
   "source": [
    "224/321/49/201"
   ]
  },
  {
   "cell_type": "code",
   "execution_count": null,
   "metadata": {},
   "outputs": [],
   "source": []
  },
  {
   "cell_type": "code",
   "execution_count": null,
   "metadata": {},
   "outputs": [],
   "source": []
  },
  {
   "cell_type": "code",
   "execution_count": 1,
   "metadata": {},
   "outputs": [],
   "source": [
    "test_data = ['0: 4 1 5',\n",
    "'1: 2 3 | 3 2',\n",
    "'2: 4 4 | 5 5',\n",
    "'3: 4 5 | 5 4',\n",
    "'4: \"a\"',\n",
    "'5: \"b\"',\n",
    "'',\n",
    "'ababbb',   # yes 454555\n",
    "'bababa',   # 545454\n",
    "'abbbab',   # yes\n",
    "'aaabbb',\n",
    "'aaaabbb']"
   ]
  },
  {
   "cell_type": "code",
   "execution_count": 2,
   "metadata": {
    "scrolled": true
   },
   "outputs": [
    {
     "data": {
      "text/plain": [
       "['0: 4 1 5',\n",
       " '1: 2 3 | 3 2',\n",
       " '2: 4 4 | 5 5',\n",
       " '3: 4 5 | 5 4',\n",
       " '4: \"a\"',\n",
       " '5: \"b\"']"
      ]
     },
     "execution_count": 2,
     "metadata": {},
     "output_type": "execute_result"
    }
   ],
   "source": [
    "rules = test_data[0:6]\n",
    "rules"
   ]
  },
  {
   "cell_type": "code",
   "execution_count": 3,
   "metadata": {},
   "outputs": [
    {
     "data": {
      "text/plain": [
       "''"
      ]
     },
     "execution_count": 3,
     "metadata": {},
     "output_type": "execute_result"
    }
   ],
   "source": [
    "test_data[6]"
   ]
  },
  {
   "cell_type": "code",
   "execution_count": 4,
   "metadata": {},
   "outputs": [
    {
     "data": {
      "text/plain": [
       "['ababbb', 'bababa', 'abbbab', 'aaabbb', 'aaaabbb']"
      ]
     },
     "execution_count": 4,
     "metadata": {},
     "output_type": "execute_result"
    }
   ],
   "source": [
    "msgs = test_data[7:]\n",
    "msgs"
   ]
  },
  {
   "cell_type": "code",
   "execution_count": 15,
   "metadata": {},
   "outputs": [],
   "source": [
    "rules_dict = {}\n",
    "for rule in rules:\n",
    "    key, val = rule.split(':')\n",
    "    if key in rules_dict:\n",
    "        print(f'{key} is already there!!!')\n",
    "    rules_dict[int(key)] = val.strip()"
   ]
  },
  {
   "cell_type": "code",
   "execution_count": 16,
   "metadata": {},
   "outputs": [
    {
     "data": {
      "text/plain": [
       "{0: '4 1 5',\n",
       " 1: '2 3 | 3 2',\n",
       " 2: '4 4 | 5 5',\n",
       " 3: '4 5 | 5 4',\n",
       " 4: '\"a\"',\n",
       " 5: '\"b\"'}"
      ]
     },
     "execution_count": 16,
     "metadata": {},
     "output_type": "execute_result"
    }
   ],
   "source": [
    "rules_dict"
   ]
  },
  {
   "cell_type": "code",
   "execution_count": 6,
   "metadata": {},
   "outputs": [
    {
     "data": {
      "text/plain": [
       "'4 1 5'"
      ]
     },
     "execution_count": 6,
     "metadata": {},
     "output_type": "execute_result"
    }
   ],
   "source": [
    "rules_dict[0]"
   ]
  },
  {
   "cell_type": "code",
   "execution_count": null,
   "metadata": {},
   "outputs": [],
   "source": [
    "def pop_by_rule(rule_num: int, message: str, rules: dict) -> str:\n",
    "    rule = rules[rule_num]\n",
    "    patterns = [p.strip() for p in rule.split('|')]\n",
    "    for pattern in patters:\n",
    "        remain_msg = pop_by_rule()"
   ]
  },
  {
   "cell_type": "code",
   "execution_count": 7,
   "metadata": {},
   "outputs": [
    {
     "data": {
      "text/plain": [
       "'\"a\"'"
      ]
     },
     "execution_count": 7,
     "metadata": {},
     "output_type": "execute_result"
    }
   ],
   "source": [
    "rules_dict[4]"
   ]
  },
  {
   "cell_type": "code",
   "execution_count": 8,
   "metadata": {},
   "outputs": [
    {
     "data": {
      "text/plain": [
       "'\"b\"'"
      ]
     },
     "execution_count": 8,
     "metadata": {},
     "output_type": "execute_result"
    }
   ],
   "source": [
    "rules_dict[5]"
   ]
  },
  {
   "cell_type": "code",
   "execution_count": 13,
   "metadata": {},
   "outputs": [],
   "source": [
    "def get_pattern(rules_dict, rule_num) -> list:\n",
    "    if int(rule_num) == 4:\n",
    "        return 'a'\n",
    "    if int(rule_num) == 5:\n",
    "        return 'b'\n",
    "    rule = rules_dict[rule_num]\n",
    "    included_rules = [r.strip().split() for r in rule.split('|')]\n",
    "    print(included_rules)\n",
    "#     for included_rule in included_rules:\n",
    "        "
   ]
  },
  {
   "cell_type": "code",
   "execution_count": 14,
   "metadata": {},
   "outputs": [
    {
     "name": "stdout",
     "output_type": "stream",
     "text": [
      "[['4', '5'], ['5', '4']]\n"
     ]
    }
   ],
   "source": [
    "get_pattern(rules_dict, 3)"
   ]
  },
  {
   "cell_type": "code",
   "execution_count": null,
   "metadata": {},
   "outputs": [],
   "source": [
    "for n in rules_dict[0]"
   ]
  },
  {
   "cell_type": "code",
   "execution_count": null,
   "metadata": {},
   "outputs": [],
   "source": []
  },
  {
   "cell_type": "code",
   "execution_count": null,
   "metadata": {},
   "outputs": [],
   "source": []
  },
  {
   "cell_type": "code",
   "execution_count": null,
   "metadata": {},
   "outputs": [],
   "source": []
  },
  {
   "cell_type": "code",
   "execution_count": null,
   "metadata": {},
   "outputs": [],
   "source": []
  },
  {
   "cell_type": "code",
   "execution_count": null,
   "metadata": {},
   "outputs": [],
   "source": []
  },
  {
   "cell_type": "code",
   "execution_count": null,
   "metadata": {},
   "outputs": [],
   "source": []
  },
  {
   "cell_type": "code",
   "execution_count": null,
   "metadata": {},
   "outputs": [],
   "source": []
  },
  {
   "cell_type": "code",
   "execution_count": null,
   "metadata": {},
   "outputs": [],
   "source": [
    "84 + 47"
   ]
  }
 ],
 "metadata": {
  "kernelspec": {
   "display_name": "Python 3",
   "language": "python",
   "name": "python3"
  },
  "language_info": {
   "codemirror_mode": {
    "name": "ipython",
    "version": 3
   },
   "file_extension": ".py",
   "mimetype": "text/x-python",
   "name": "python",
   "nbconvert_exporter": "python",
   "pygments_lexer": "ipython3",
   "version": "3.8.5"
  }
 },
 "nbformat": 4,
 "nbformat_minor": 4
}
