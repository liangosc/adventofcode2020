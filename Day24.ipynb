{
 "cells": [
  {
   "cell_type": "code",
   "execution_count": 1,
   "metadata": {},
   "outputs": [],
   "source": [
    "from collections import defaultdict"
   ]
  },
  {
   "cell_type": "code",
   "execution_count": 2,
   "metadata": {},
   "outputs": [],
   "source": [
    "f = open('day24_input.txt')\n",
    "lines = f.readlines()\n",
    "f.close()"
   ]
  },
  {
   "cell_type": "code",
   "execution_count": 3,
   "metadata": {},
   "outputs": [
    {
     "name": "stdout",
     "output_type": "stream",
     "text": [
      "['nenwenwneeneswwnewnwswnwneneenwnenene', 'eseseseswneseenweeeeeenweseewe', 'senwneswenesenewnwswswne', 'swseseseseeseseseneseewnwsewsesesenwe', 'nwwwswwswseswswseswswsenenwsenww', 'nwnwswnenwnwneneseseseswnwnwwsenwnwswenw', 'eeneeeeswenwneswseeeenwnwneewnene', 'nwneneswneneneneenwneneneneswsenenwnwnewe', 'sesesesweweswswswseswswesesewseswwne', 'nwnwnenwsewswnwnenwnwnwwnwnwnenwnwnwsese', 'swswseseswswswswswnwswseswneswswnesene', 'nenenenesenenenwneneswneneswnwnenwnwne', 'eneeneeneeswneneneeeneseeenwnew', 'eneeseeeeeseeswenesewe', 'nenwnenwnwnwenwswswnenwneenenenenenwnw', 'wnenwseneneswnwenwnw', 'nenweeeweweesesweeeeswneeee', 'sesenesesewesesesweeweseneseseee', 'enwnwwnwnwnwnwswnwenwnwnwnwwnwnwnwe', 'nenwswwewnwswswweswswseswwswwwswsw', 'esewnenesenewwswseswesesewneseswse', 'seseweseeeeeseese', 'neswswswsesesenweswswswswsewnwwneneswse', 'eeeswnwwswenwenenwenweseeneswe', 'nwseneenweesenwseeswenenewswwsew', 'seswnwswsesweseseseswswsene', 'swnwseseeenwnwenwswswseseeseswseseese', 'wnwnenwnewnenwsenwnwnwnewnenwneenese', 'senenwnwswswenwswswwswswse', 'wseeseseewseseseseseseeseswseenwnese', 'neenwnenenenenwesesw', 'wswswwswesweswswwswneswswneswwswsw', 'nweseseeseswsesesewesenweese', 'nenenenewnenweewenewneneswswnenenwsw', 'neeneenenenesenwseneneweneenewnene', 'eeneeswnwsesweeeeenenweeswse', 'wswswswswswswnwswswneswswswwswneseswse', 'swwneswswsenwswseswseseswsenenenenenwswe', 'neneenenewenewnenewsenesenenenenenenww', 'nwseswswswswseswswswswswswse', 'neneseeseseswwseesenwnwseseswwnesee', 'wswsweswwwnwswwewwswwnwwwsenwwsw', 'swnenesenewenenenenw', 'eneesenewseseneeseseseseseswseseswse', 'neeeeeeweeeeseewnweeswee', 'wnwenwswnwnwenwenwswsewnwnwnwwnwnwnw', 'nwseswswnwseseswenwseneenwenwswseseseswe', 'nwwnwenwnwnwnwnwnwnwnw', 'nenwneenwswswweweneeswnwneneswenene', 'newwnewswweewwwwseswwewwnw', 'eseewseseeseeeeesee', 'senwnwseseeseseneneseeeesweeeewesw', 'wwwwwwewwwwwwwnwe', 'neseneneneneneewneeneneneeeswenenw', 'swnwenwnwswnwnwnwnwenwwnwenwnwwnwwnwnw', 'seeneeeeeeneeeeenwnene', 'seeswnenenweseewsenwnwneeeeenew', 'eswswwwnewsweneneswwswswwseneswwne', 'nwwswnwswenwneenwnwnwnwnwnwnwnwnwnenene', 'wswwswwseswwsewwwnewwenewswnew', 'swseenwnwnwnwwswnwnenenwnwnw', 'swwswwwneseseseeseswweeeewwne', 'wwwsewswwenwnwsenwwswseneenwnene', 'swswsesweswnwswweneswswswwswswwswsw', 'swswswswsesenwswwnenwswseswseswwswswswnesw', 'eneseewseesweeeeseweseweeee', 'nwneseenewneenenee', 'seewnweeswnenenwneenenesewnesenewse', 'wesenenewwnewseeeswswswswnewwew', 'swswnweneswswsewnweesenwsesenwseneww', 'nenwswnwnwnwswswnwnwnwnwnwnwnwneswnwnwnee', 'nesenwnwnwnewnwwwswnwswenwnwnwnwswnw', 'swswneswwswswwwswswswnwswswseswsw', 'neneneneseswneneenwnwwneswesenenenene', 'eeseeeseweswsenwwnesenenwwsesesww', 'eswesweseewenweeenesenweeene', 'nenwewnwnwnwwnwweseswnwenwnwswnwnw', 'swnweswnwsweseseswseeseswnwnwseswneswsw', 'wseswnwnesewsenwseseswnwseneseswsenwsee', 'wswsweswswseswnesweenwweswnwneswswswsw', 'neeswsweneswwswswnwswwswneswswswswswsw', 'swswnwswwwswswewwswswnwewswwswsew', 'wnwnenwnwnwnwnwsesenwnwnwnenw', 'esweesewwswnewswwnenesw', 'nwnwnenwnwnenesenwnenewseneneneswnwnenw', 'nwswneswsweneseswnwneweneseeeseseew', 'wwwwnwswwnwwnwnwswewnwwwwne', 'nenwneseenenesenwwnwnewwnenwnwnwnenwnwne', 'nwnwwsenwenwsenwnwnwenwnwnweswwnwswnwnw', 'nwnwwnenwnwnwnwnwnwsesenwnenwnwsenwwnwnwne', 'esesweswnwseswswswseswseeswnewwsew', 'nwnwesenwsewswsesewsesenweseeseswse', 'swwswswswswwswneneswswswwseswwswnew', 'neneswwnwneswweneneenweeneswsweswne', 'sewseseweseseseneeeeseeseewsesee', 'sesesenwnesesesesenewseswsesewne', 'wweeeeneesenweseeseeseeesesee', 'eseewesweeenwnwenwswnewswenee', 'nenweeswwenesenesenenwnewswwesw', 'nwwwnwnwesewsenwnwnwenwnwwnwnwww', 'eweneeseseneeswnweeseeewewse', 'sesenenenwwweneeeeweneeeeene', 'seswsesesesesenwseeseeseesesenwswnwse', 'wnwwswswwnewwwwewwwwsewwnenesw', 'wneneswenewswswnenenwnenweene', 'senwnwnewseswwsesenwnwnwwwneenenwwwnw', 'wwwwwnwwwwswwweewwwwneseww', 'wseswnwnwnwnenwwewnwswwenwseewe', 'neseswswnweenwnwswseswwnwseswwenesese', 'neneswnenenwneswnwnwnenenweneneneenenw', 'eswnwswswwswswswswswswsesweewnwswsww', 'ewwsewwwwwwnewsewnewnewswww', 'wswnwwneswswnwwwswnwwesweseeewnwsw', 'neenwnwnenwswwnwnenwnwsenenww', 'wwnwnwnwnwwenesewsewwwwwnwnwww', 'wnenwsweeeeeesweeeswnwneewee', 'swswwswewwwwwnww', 'neeseneenewnenenee', 'swseeneeeeenweeswswnwswnesweenese', 'seweeeeweeeweeeeeneeneee', 'neseseenewseswseswsesesesenesenwnwswsese', 'nenwnwwwnwwnwwnwsewwwnwsenwnwenwene', 'nwwnwnwsenwwnenwsenwnwswne', 'wwewswsewwseenenewwwwwswsww', 'wseesewwwenwesesesenwseeseswneeee', 'wnwnwswnenwwswwneneswnwwwwnwsewnw', 'nwsewseneseseseeesenwnwseswseeseneese', 'swsenwnwneseswswswswwswnweswswwne', 'neneseneneneenenwswswnenwseenenwwnwesw', 'neeseweeseeneneneeneeweenenene', 'nwnenwnwnenwnwneswnwnwnenwnenenw', 'swsenesweswswswwwwweswnwswnwswsww', 'seeeseesewswnesesweneeeeesesesenwe', 'neeeweeneneeeeeeene', 'nwnwnewsesenenewnesewwneswnwwwswsw', 'neenwenenwneseneswnesenw', 'ewswneneenwnenenewnweswneneneesee', 'swswnewwswwwnwseswswneewswswwswsw', 'sewsenweseeeseseseseseseeseenwene', 'ewswwsenewnewswnwwwseseneswnesw', 'swswswenwseswwnewwsewnenewwswnwseew', 'nwwnwnwnwenweewswnwwnwneswswwsenesw', 'nwnwwseewnewnewwnwwweswsenwww', 'nenweeeneswneswnwswneneneeswenenwswne', 'swwewswswseswwnewnwswswwswnenwswsww', 'senwnwnwwwewwnwsenwwnwnwswnwwnwnw', 'wwswwwweewwswwswswwnwwww', 'neeswwswswswwwswswswsewsww', 'swsenwnwnwnwwwnwneeswwwene', 'newwneeneswsenwewwsenenwnenwswenwsene', 'sesesenesesewnwnwnesesesenwnwwsenwsenw', 'wnesenwnwnewewswsewewenwwwese', 'nenwenwneeneneeneseewneeweesese', 'enwneweeeseeeeneeseeesweenwe', 'esweweneeweneesew', 'senwnweswwswnewse', 'swsesenewnewswswseswsenwseswseseneswse', 'eeenwnwewnwseseswneswsesweeneswne', 'sewwnenwseweneeseneewswneswseesew', 'swswwsweswnewweswswweswwsw', 'swnwswwseeweenwsenwseswneenweneneene', 'swwnwwwswnesewnesenwwenwnwwnwwnesww', 'nenewseneneenenenweswenwneeeneene', 'nwnwnenwwwnwnwenwewewnenenwnwsenw', 'nenwswswswseseswewnwneswswseswseseeneswsw', 'swswswswswswswswswwwswnwnewsweswnew', 'neswnwenwneswnwnwnenwnwnene', 'neswenenenwnenenenenwnwnenenwne', 'nweswseswswswswwsweswwswswwneneswsww', 'nesenenewwseswwnenwnwnwese', 'swneneneeeseeeenwnenwneeeeswsenw', 'seseswwswswswswswne', 'neneneswsweneneneneneseenewnwe', 'nweeesweenweeeeeeeeweeese', 'wewseenwswswswsenwswswse', 'neeeneneesenenenenwswseewewnenene', 'wnwnwnenwnwnwnwnwnenenwe', 'nwneneneneneeswnenene', 'nwnwnwnesenenenwwnenenwnwnwse', 'esweeneeneeee', 'swswswswswswswneswswswswswswsw', 'neeseneeneneewnwneneseewnesenenene', 'nenenesewneneenesenenenenenewnwnene', 'wswseswwwwswwwswwwswnesewnewsw', 'seneewenwwwwwwwwwwnwwwwnw', 'swseswswswswwwneswswswswnwswseswswsw', 'wenesweneeneenenwesewse', 'eseseweseeeswsweseeeseneseenesenw', 'wesenenwwnweewsenwwswwwenweswnw', 'sesewnwneenewswseseseenwswwswneswsee', 'nwnwnwnwswnwseswnenenwnwnwswnwnwnee', 'swseswneswswwwswnwswswneswnwswswseswswsw', 'swseswseswneneseseseseseenwsesesewww', 'senwswseswnwesenwew', 'wswnwswswswseswneswswswswseswsweswsese', 'sesesenwenesesesewswswnwseseswseesese', 'wneneneeeneneneweneeseseeeweene', 'swneswnenwseseneswsewswswsese', 'seseswseesesewewseseseswseseseewsw', 'eneseneseeseeseseswsewsesweenwseeswse', 'nwwnwenwwswnwwsenwswwnwnwnwseeswwese', 'nwswnwewnwnwnwwww', 'nwswswwnwswswsweswseswseswswswwswne', 'weswswswswswswswswswswsesw', 'neneneenesenenenewnenenenweneseswwnenene', 'swseseswswswswseseswswswswsesenwnwsw', 'neneneneneeneneneswneeenesenwnenwsenenw', 'esewnwnenenwnwnwnwnwnwsenwenenewnwnene', 'nenenwneenesewneneswseenwnwswnenenw', 'seneesewseseeseeenweneeeeweswnew', 'nwnesenwenenwnwnwnwwnw', 'swneswswwnweewnwseneeswnwwewene', 'swnwswwwswwwwenwnewswswswwswesesw', 'nwnwneenenenenenewnenesesenene', 'nwwsewsenwnwwnwwwwnwnenwne', 'eseeesesesenwseseewse', 'wnweswseneneeneneneseneneswnewenesw', 'eeneeeeeeeeenwneeswe', 'swneewwenwsenwsewswwnwwnwewswwsw', 'sewswnesweneseswwnwwswsenese', 'sesewswnwneswwenwswwnwnwewswnesew', 'wwnwswswnesewewwwwwwneswsewswsw', 'eseseseseeseseseeseenwwseseseswnwnesese', 'neeenwswnwweneeneeneseneswneeneenee', 'wnesesewswseswsweswnwsesewewneneenwsw', 'wneenenenwneneneneneswwnesenenenenwswne', 'weeseenweeneeeeseswneneneewenwe', 'newneneeneseneenenewneseneeneneww', 'neeneswseeeesenweeeeenwseseeew', 'seswswseseeseswnwswsesesweswswswswnww', 'swswswswseneswnweswswswswwseswswswswswswne', 'newneenwnenenenenenenenenenene', 'nenwwwnwnwnwneswneneenwnwnenenwesenwne', 'esenenenenenewnweneneneneneneswnwneene', 'swnwewswwwswswwwnewwswwnesewew', 'eeeseeseeeweeseneeeeseenew', 'swwwenenwsweseswwseseseswswseew', 'neesenwnenwswseee', 'neneswswnwenenenenweswsenenenwneswnwese', 'neneneeneswneneneseswneewnwnewenesee', 'newseswswneswsenesewswseseenesewsese', 'swseewwswwwnwwewwswsweneswsww', 'wwnwewnwnwnwnwnwswwnwwwsenwsenwnww', 'eseswseswnwsewneseseswswswwwswswnwswne', 'wnwnwwnwnwwnesewsewnwwewnwsewsww', 'seswswnwseswswswswswseneneswswwswseswswsw', 'seseseeseseswneneewsewse', 'swswsenwswswseswswsewswseseeenesesw', 'nweneneeeseseeswswesweeeswnewese', 'nenwnwwnwnwsenwwnwnenwseswnwnwwnwnwnw', 'swwswswsenwsewwwswswne', 'nwsewsesewnenwnewnwnweenewwneee', 'neneswnenwenewneneneneneswsewsene', 'wswswswswwsenwswseseswswseneswsesesene', 'seswswswwenenesweswswseswnwseswswnwsesw', 'swnwnewswswnwswswswswwseswswswswswsew', 'eeeneeeeneneenenweswnene', 'wwwwsenewneneswsewswwwwwwnww', 'wswwwwwewnwwwwweswnwneseesww', 'nenwenenwweswwwwswwswswswswesww', 'nwnesweeeesweeeenwewnweeeswsw', 'ewwsenwnwsenwnesenenwwseneesw', 'seeneneneneenenenenenenenwne', 'senwswswswswnwswswswswswseswswenenwswse', 'neenenweewnwneseeneneseseneeeswee', 'nwwswwnwesenwenwwnwnwnwnwswnwseseesw', 'weswnwswwswswsenwswswswwsw', 'wswswnwswsweeswswswswswweswswsw', 'seseenwnwnwesweesweneeeneeeeee', 'sewweswnwwswswwswswnwseswenewwwnw', 'nweneewenesweweseseeseeweee', 'sewseeseseeeseenwsenwseseseenesesw', 'enwnwnenwnesewnwnwenwswwnwnwnwwnwwnw', 'swsenwnwseeseswnweeweswenwenesee', 'eswnwnwnenwenwwse', 'sewswnenwsenwnwwnwnenwnenwseswwnwsewnw', 'wnwswwnenesweswwwwwwwewwwseww', 'wnwnwswwnesenwenwswwewnwnwnwwnww', 'nwnwseseenwnenenenenenwnewnenw', 'sesweseneswwswseswseswsesesesesenwnesesw', 'sewsenwswwneseseneeseneenenwswwnwe', 'nwwnwnenwwenwewneesewwnwenwnenwnw', 'nwwwenwswsenwneseneeenewswswwww', 'ewwnewwwwwswswwwwswww', 'senewwnwwewswwsenenwwwwwsesenw', 'sesenewsesweswseswseswnwnwseswswswsenese', 'neeseneswnenenwnesenenenenenwwwnenese', 'nwsenenwnenenenwnenewneseweswnenenenenese', 'swswseseswseswnwweswwseeseseswseswse', 'wswwnewwseewwswwwwswswwwneww', 'seewnewsesenwenwwenwseseeesweewnw', 'newseswsenwseesewesenewsese', 'seswnesenwnwnwnwsesewnwnwsenenenenwnwnew', 'nenwnwnenwseesenewswnwneneswnwswenwnwe', 'swswswnwseeswweswswswswswsewneswswswse', 'swswswswswnwwswswswswweswwwsweswne', 'seeseseswwsenwswseneeswseseseswnwsese', 'nenenwnenenenewneneneseneenenene', 'ewsewnwwwnwwewwwwsewnwneswnwse', 'eeeneeeneeeeeenenewne', 'seewwsewwwnwsewnenewewnweww', 'nwnwneneswsewnwnwnenwsenw', 'nwwseseswesewnwnwnenweswnwne', 'neswswswswswwneeswseswwneswswse', 'swswswswswwswswswneswseeneseswneswwsw', 'senenwseeswnenwnwswewswenwwnwswnwnw', 'neneseswneswneswneenwnenwse', 'seseseneseweneweeeeseseseseseee', 'nwnwwenwnwwwnwseswnwsenwswenesenwsenwnw', 'eswnwnenwnwnwwenene', 'sewseneseenwseseseeeeee', 'swnwwnwnwenwnwnwnwswwnwewwwnwnww', 'swwneswnwswwswwwneewwwnewwwwse', 'nenwseeseswseeseseswwsewsesesesesenw', 'swwneswswnwneswsenwsewseseeswneseswese', 'senwswswswwwnweswsewnwseseseneneneswse', 'enwseseswnwnwsweeesewnewswwseeesw', 'weneneeswseswnewnwseseeswswsewwwne', 'enenewswsenwseseseseseswseswseswswsenww', 'swswswwswnwwswweswwswwewswww', 'enewneeeseenwseneneene', 'swseswnwseseseeseswswnesewseseswnwsesesese', 'sesesesewewsesewsesesesesesenesesesenese', 'nenwenwnwnenwswwnwsenwwnwnwnwenwnwnwnw', 'seseswnwnwswswseseeseswsesenenwseswsesesese', 'enenweenwseswwesenesewneswwsweenwe', 'nenenenwneneneswenenenwne', 'nenesesewswswseseswswseswse', 'wwwnwnwewwswwwwsenwwsene', 'wswwnwenewnwwwsenwswsenewwwwnee', 'swnenwnenenwnenenenwnwnene', 'neneswswnwnwwnenenenenwnwneneeenenwne', 'seneswseswewswnesesesesenwseswsewsesese', 'wsewwnwnwnwnwwwwseswnesenwsenwnenwnw', 'ewnwsewnwwnwwsenwnwsenwnwnenwneesenw', 'esesesesesesenwseseseesenwseseseswesw', 'wswwwnweewwwnewwswnwswswseww', 'eeenwseeeeseeeswswesewnenese', 'eseswswswwswnewswseswseseeswwswswnesw', 'neseeneneeneeneneenwseneenw', 'neneneneeneewnwwneneeswnenenenenenew', 'wwwnwwewwwwwwwnwwwewewse', 'eseeneeenweenesw', 'esweseseswseswnwseswswswswneswswneswnw', 'swswswneewnesenwesenwwswnenenweee', 'neneeenwswnenenwneeneneneeneswnenee', 'nesenenwwwweswewwse', 'neesenwseseswsesesesenwswsewseseseseseswe', 'nwnenenwneseneswnwneseneneneesenenenwne', 'eseesesesesewseseese', 'nwnesenwnenwnwnwnwnwswese', 'swseswneswwneswswsese', 'senwwswwswwnewnewswsenwnesewnesee', 'wswwnwwnwswwsewewsewww', 'nwswnwnesenwwnwnwnewenwwnwnwwwnwnw', 'nweesweenwnweswseeeeeenwesenenee', 'wnwsewewwwenwwswenwnwwwnwnesw', 'swneswesesenenewneswwswswsesenwnwnesee', 'swseswswesewswseneswswnwswswseswsesenese', 'nwnwnesewnenwnesenenenwsewnenenenewnese', 'wewwwswwswwwnwnwwewwwsww', 'eeenenwswwsesenwsenwneswewseesewswe', 'swsenwsesweenwesesesesewnwsenwsesesesw', 'eenenweneeeneneneneeneneswsewee', 'esenwswsewweseswsenwneseseseseesesee', 'sesenwswsesenewswsweneeswenwnwsenee', 'nwnwenwnwwsenwnwnwseewnwnenwnwnwnwnw', 'neswseneswnwnwsenwnenwesenesewnwnwwwswe', 'eseeeweseeswneseseeeeseee', 'nwneneenwnenwnewnwnesenwesenwswwnenenew', 'wnesesenwwnewswwwseswnewsewnesewww', 'nwnwnwwnwnwenwnwsewnwnenwsenwnwnwnwwnw', 'seswseseneswneswnwswswswseswswswswswew', 'eeneseseenweseseswsesenesewseewse', 'enwnwwenenenwsewwwswwnwnwwswnwww', 'nwwnwnwnwnwwsenwnenwwnwnwewwwsenw', 'sewnenwweeenweseswnwnwsesese', 'wnwnwnwwnwswswwsenwnenenenwsenwnwsenw', 'sesewsewsesesenesesesenweenwsesesesee', 'nwnenwswswwweswewswwswwswswswseswwne', 'esewneeseenewewneenwnenenenesew', 'neeeswenwwwwwwnwwnwwweeswwse', 'wseneswseeewnwwwwne', 'nwsesenwseseswesesewseswneeneswswsww', 'swswswseswesesewswswswsw', 'eenenenenewswneneneneeenewenwseee', 'swnwseswsenwneeswswswwswswnwswenweenw', 'wnwswwwswsweeneswwswswwwswsenwse', 'wswnwnwsesweswwwwweswswwswe', 'sewsewewwswswswnwnewnwswnewswwsw', 'wswseeenenewswswswnwswwneneneseswneene', 'swwnewswswswwwwswnwswswswweswwse']\n"
     ]
    }
   ],
   "source": [
    "data_raw = [(line[0:-1]) for line in lines]\n",
    "print(data_raw)"
   ]
  },
  {
   "cell_type": "code",
   "execution_count": 4,
   "metadata": {},
   "outputs": [
    {
     "data": {
      "text/plain": [
       "392"
      ]
     },
     "execution_count": 4,
     "metadata": {},
     "output_type": "execute_result"
    }
   ],
   "source": [
    "len(data_raw)"
   ]
  },
  {
   "cell_type": "code",
   "execution_count": null,
   "metadata": {},
   "outputs": [],
   "source": []
  },
  {
   "cell_type": "code",
   "execution_count": 5,
   "metadata": {},
   "outputs": [
    {
     "data": {
      "text/plain": [
       "defaultdict(<function __main__.<lambda>()>, {})"
      ]
     },
     "execution_count": 5,
     "metadata": {},
     "output_type": "execute_result"
    }
   ],
   "source": [
    "tiles = defaultdict(lambda:0)\n",
    "tiles"
   ]
  },
  {
   "cell_type": "code",
   "execution_count": 6,
   "metadata": {},
   "outputs": [],
   "source": [
    "data1 = ['sesenwnenenewseeswwswswwnenewsewsw',\n",
    "'neeenesenwnwwswnenewnwwsewnenwseswesw',\n",
    "'seswneswswsenwwnwse',\n",
    "'nwnwneseeswswnenewneswwnewseswneseene',\n",
    "'swweswneswnenwsewnwneneseenw',\n",
    "'eesenwseswswnenwswnwnwsewwnwsene',\n",
    "'sewnenenenesenwsewnenwwwse',\n",
    "'wenwwweseeeweswwwnwwe',\n",
    "'wsweesenenewnwwnwsenewsenwwsesesenwne',\n",
    "'neeswseenwwswnwswswnw',\n",
    "'nenwswwsewswnenenewsenwsenwnesesenew',\n",
    "'enewnwewneswsewnwswenweswnenwsenwsw',\n",
    "'sweneswneswneneenwnewenewwneswswnese',\n",
    "'swwesenesewenwneswnwwneseswwne',\n",
    "'enesenwswwswneneswsenwnewswseenwsese',\n",
    "'wnwnesenesenenwwnenwsewesewsesesew',\n",
    "'nenewswnwewswnenesenwnesewesw',\n",
    "'eneswnwswnwsenenwnwnwwseeswneewsenese',\n",
    "'neswnwewnwnwseenwseesewsenwsweewe',\n",
    "'wseweeenwnesenwwwswnew']"
   ]
  },
  {
   "cell_type": "code",
   "execution_count": 7,
   "metadata": {},
   "outputs": [],
   "source": [
    "# e, se, sw, w, nw, and ne"
   ]
  },
  {
   "cell_type": "code",
   "execution_count": 6,
   "metadata": {},
   "outputs": [],
   "source": [
    "data = data_raw\n",
    "for path in data:\n",
    "    x = 0\n",
    "    y = 0\n",
    "    steps = [ch for ch in path]\n",
    "#     print(steps)\n",
    "    while len(steps) > 0:\n",
    "        ch1 = steps.pop(0)\n",
    "        if ch1 == 'e':\n",
    "            x += 1\n",
    "        elif ch1 == 'w':\n",
    "            x += -1\n",
    "        elif ch1 == 'n':\n",
    "            ch2 = steps.pop(0)\n",
    "            ch3 = ch1+ch2\n",
    "            if ch3 == 'nw':\n",
    "                x -= 0.5\n",
    "                y += 0.5\n",
    "            elif ch3 == 'ne':\n",
    "                x += 0.5\n",
    "                y += 0.5\n",
    "        elif ch1 == 's':\n",
    "            ch2 = steps.pop(0)\n",
    "            ch3 = ch1+ch2\n",
    "            if ch3 == 'sw':\n",
    "                x -= 0.5\n",
    "                y -= 0.5\n",
    "            elif ch3 == 'se':\n",
    "                x += 0.5\n",
    "                y -= 0.5\n",
    "    key = f'{x},{y}'\n",
    "    if tiles[key] == 0:\n",
    "        tiles[key] = 1\n",
    "    elif tiles[key] == 1:\n",
    "        tiles[key] = 0\n"
   ]
  },
  {
   "cell_type": "code",
   "execution_count": 7,
   "metadata": {},
   "outputs": [
    {
     "name": "stdout",
     "output_type": "stream",
     "text": [
      "312\n"
     ]
    }
   ],
   "source": [
    "ct = 0\n",
    "for key in tiles:\n",
    "    if tiles[key] == 1:\n",
    "        ct += 1\n",
    "print(ct)"
   ]
  },
  {
   "cell_type": "code",
   "execution_count": 8,
   "metadata": {
    "scrolled": true
   },
   "outputs": [
    {
     "data": {
      "text/plain": [
       "defaultdict(<function __main__.<lambda>()>,\n",
       "            {'2.0,6.0': 1,\n",
       "             '11.5,-1.5': 1,\n",
       "             '0.5,0.5': 1,\n",
       "             '6.0,-5.0': 1,\n",
       "             '-6.0,-3.0': 1,\n",
       "             '-2.5,2.5': 1,\n",
       "             '9.5,2.5': 1,\n",
       "             '4.5,6.5': 1,\n",
       "             '0.5,-6.5': 1,\n",
       "             '-5.5,5.5': 1,\n",
       "             '-2.5,-5.5': 0,\n",
       "             '3.5,6.5': 0,\n",
       "             '10.5,3.5': 0,\n",
       "             '10.0,-1.0': 1,\n",
       "             '1.0,7.0': 1,\n",
       "             '-0.5,2.5': 1,\n",
       "             '11.0,0.0': 1,\n",
       "             '9.0,-4.0': 1,\n",
       "             '-6.5,6.5': 1,\n",
       "             '-8.5,-3.5': 0,\n",
       "             '2.0,-3.0': 1,\n",
       "             '7.5,-2.5': 1,\n",
       "             '-2.0,-4.0': 1,\n",
       "             '6.0,1.0': 1,\n",
       "             '3.0,0.0': 1,\n",
       "             '1.5,-4.5': 1,\n",
       "             '5.0,-4.0': 1,\n",
       "             '-1.0,6.0': 1,\n",
       "             '-3.0,-2.0': 1,\n",
       "             '7.5,-5.5': 1,\n",
       "             '3.5,2.5': 0,\n",
       "             '-7.0,-5.0': 1,\n",
       "             '6.5,-3.5': 1,\n",
       "             '2.5,4.5': 1,\n",
       "             '8.0,5.0': 1,\n",
       "             '9.5,-0.5': 1,\n",
       "             '-7.0,-6.0': 1,\n",
       "             '0.5,-2.5': 0,\n",
       "             '5.0,6.0': 1,\n",
       "             '-4.0,-6.0': 1,\n",
       "             '4.5,-2.5': 1,\n",
       "             '-12.0,-2.0': 1,\n",
       "             '2.5,2.5': 1,\n",
       "             '8.0,-5.0': 1,\n",
       "             '12.0,0.0': 1,\n",
       "             '-6.5,4.5': 1,\n",
       "             '3.0,-3.0': 1,\n",
       "             '-5.0,5.0': 1,\n",
       "             '3.0,3.0': 1,\n",
       "             '-8.0,0.0': 1,\n",
       "             '9.5,-2.5': 1,\n",
       "             '10.0,-2.0': 1,\n",
       "             '-11.5,0.5': 1,\n",
       "             '9.0,5.0': 1,\n",
       "             '-8.0,6.0': 1,\n",
       "             '12.0,2.0': 1,\n",
       "             '6.5,1.5': 1,\n",
       "             '-4.5,-1.5': 1,\n",
       "             '-4.0,7.0': 1,\n",
       "             '-9.5,-1.5': 0,\n",
       "             '-3.5,3.5': 0,\n",
       "             '-4.0,1.0': 1,\n",
       "             '-6.5,-5.5': 0,\n",
       "             '-6.0,-6.0': 1,\n",
       "             '11.0,-2.0': 1,\n",
       "             '4.5,2.5': 0,\n",
       "             '5.0,2.0': 1,\n",
       "             '-2.0,-1.0': 1,\n",
       "             '-0.5,-1.5': 0,\n",
       "             '-6.0,6.0': 1,\n",
       "             '-7.0,4.0': 1,\n",
       "             '-8.5,-5.5': 0,\n",
       "             '5.5,4.5': 0,\n",
       "             '3.0,-2.0': 1,\n",
       "             '10.0,0.0': 1,\n",
       "             '-5.0,4.0': 1,\n",
       "             '0.0,-4.0': 1,\n",
       "             '1.0,-3.0': 1,\n",
       "             '-3.0,-4.0': 0,\n",
       "             '-5.5,-4.5': 1,\n",
       "             '-10.0,-4.0': 0,\n",
       "             '-4.0,5.0': 1,\n",
       "             '-1.0,-1.0': 1,\n",
       "             '0.5,6.5': 1,\n",
       "             '4.0,-1.0': 1,\n",
       "             '-12.0,2.0': 1,\n",
       "             '-1.0,7.0': 1,\n",
       "             '-5.5,4.5': 1,\n",
       "             '-6.0,7.0': 1,\n",
       "             '-1.0,-5.0': 0,\n",
       "             '2.5,-3.5': 1,\n",
       "             '-8.5,-4.5': 0,\n",
       "             '3.0,2.0': 1,\n",
       "             '9.5,-4.5': 1,\n",
       "             '3.5,-3.5': 1,\n",
       "             '12.0,-2.0': 1,\n",
       "             '5.5,0.5': 1,\n",
       "             '2.0,1.0': 1,\n",
       "             '-8.0,4.0': 1,\n",
       "             '8.0,-1.0': 0,\n",
       "             '9.0,2.0': 0,\n",
       "             '6.5,-5.5': 1,\n",
       "             '-12.0,0.0': 1,\n",
       "             '2.0,3.0': 1,\n",
       "             '-5.5,2.5': 0,\n",
       "             '-14.0,0.0': 1,\n",
       "             '-3.5,1.5': 1,\n",
       "             '0.0,-2.0': 1,\n",
       "             '4.0,7.0': 1,\n",
       "             '-11.0,0.0': 0,\n",
       "             '-6.0,-1.0': 1,\n",
       "             '-2.5,4.5': 1,\n",
       "             '-11.5,2.5': 1,\n",
       "             '8.5,0.5': 1,\n",
       "             '-8.0,-1.0': 1,\n",
       "             '5.5,2.5': 0,\n",
       "             '13.5,0.5': 1,\n",
       "             '4.5,-4.5': 1,\n",
       "             '-7.5,4.5': 1,\n",
       "             '-4.0,3.0': 1,\n",
       "             '-8.5,-1.5': 1,\n",
       "             '5.5,-2.5': 1,\n",
       "             '-9.5,2.5': 1,\n",
       "             '7.0,-3.0': 1,\n",
       "             '-4.5,-2.5': 1,\n",
       "             '3.5,3.5': 0,\n",
       "             '11.0,3.0': 1,\n",
       "             '-2.0,7.0': 1,\n",
       "             '-7.5,-3.5': 1,\n",
       "             '11.0,-3.0': 1,\n",
       "             '11.0,2.0': 1,\n",
       "             '-5.0,1.0': 1,\n",
       "             '5.5,3.5': 0,\n",
       "             '9.5,-3.5': 1,\n",
       "             '-4.0,-1.0': 1,\n",
       "             '-5.5,-1.5': 1,\n",
       "             '-5.0,2.0': 1,\n",
       "             '-7.5,1.5': 0,\n",
       "             '5.0,3.0': 1,\n",
       "             '-9.0,-3.0': 0,\n",
       "             '-9.5,3.5': 1,\n",
       "             '-12.5,-1.5': 0,\n",
       "             '-7.0,-4.0': 1,\n",
       "             '-4.0,2.0': 1,\n",
       "             '0.5,2.5': 0,\n",
       "             '1.0,-1.0': 1,\n",
       "             '-2.5,0.5': 1,\n",
       "             '8.5,2.5': 1,\n",
       "             '12.5,0.5': 1,\n",
       "             '4.0,0.0': 0,\n",
       "             '-1.5,-0.5': 1,\n",
       "             '0.0,-5.0': 1,\n",
       "             '4.5,-0.5': 1,\n",
       "             '2.0,-1.0': 1,\n",
       "             '-5.5,-3.5': 1,\n",
       "             '4.0,1.0': 1,\n",
       "             '-8.5,1.5': 1,\n",
       "             '8.5,4.5': 1,\n",
       "             '-3.5,5.5': 1,\n",
       "             '-0.5,-4.5': 1,\n",
       "             '-0.5,4.5': 1,\n",
       "             '-6.5,-4.5': 1,\n",
       "             '-0.5,1.5': 0,\n",
       "             '-2.5,-3.5': 1,\n",
       "             '14.0,0.0': 1,\n",
       "             '-2.0,-3.0': 1,\n",
       "             '7.5,3.5': 1,\n",
       "             '-2.5,5.5': 1,\n",
       "             '4.0,4.0': 1,\n",
       "             '-1.0,5.0': 1,\n",
       "             '7.5,0.5': 1,\n",
       "             '-6.5,-6.5': 1,\n",
       "             '8.0,4.0': 1,\n",
       "             '6.0,6.0': 1,\n",
       "             '-11.0,-3.0': 1,\n",
       "             '-11.5,1.5': 1,\n",
       "             '-7.5,-6.5': 1,\n",
       "             '5.0,1.0': 1,\n",
       "             '10.0,-3.0': 1,\n",
       "             '-3.0,1.0': 1,\n",
       "             '1.5,-2.5': 1,\n",
       "             '-3.5,4.5': 1,\n",
       "             '-7.5,-5.5': 1,\n",
       "             '2.0,-5.0': 1,\n",
       "             '0.0,-1.0': 1,\n",
       "             '-4.0,-7.0': 1,\n",
       "             '4.5,-5.5': 1,\n",
       "             '10.0,3.0': 0,\n",
       "             '0.0,-3.0': 1,\n",
       "             '4.0,-7.0': 1,\n",
       "             '8.5,-4.5': 1,\n",
       "             '-6.0,1.0': 1,\n",
       "             '-6.0,2.0': 1,\n",
       "             '-6.0,-5.0': 1,\n",
       "             '-5.0,-6.0': 1,\n",
       "             '7.0,6.0': 1,\n",
       "             '-3.0,-7.0': 1,\n",
       "             '8.0,6.0': 1,\n",
       "             '-0.5,6.5': 0,\n",
       "             '3.0,4.0': 1,\n",
       "             '9.0,-1.0': 1,\n",
       "             '-2.0,4.0': 1,\n",
       "             '-0.5,0.5': 1,\n",
       "             '5.0,5.0': 1,\n",
       "             '-7.0,3.0': 1,\n",
       "             '6.0,-3.0': 1,\n",
       "             '12.0,1.0': 1,\n",
       "             '-6.5,-0.5': 1,\n",
       "             '-1.0,-2.0': 1,\n",
       "             '-4.5,-0.5': 1,\n",
       "             '-10.0,-2.0': 1,\n",
       "             '8.5,-5.5': 1,\n",
       "             '9.5,3.5': 1,\n",
       "             '-0.5,-2.5': 1,\n",
       "             '4.0,6.0': 1,\n",
       "             '10.5,1.5': 1,\n",
       "             '11.5,-0.5': 1,\n",
       "             '-1.5,-6.5': 1,\n",
       "             '-6.0,-7.0': 1,\n",
       "             '6.0,7.0': 1,\n",
       "             '7.5,6.5': 1,\n",
       "             '13.0,-1.0': 1,\n",
       "             '-1.0,-4.0': 1,\n",
       "             '3.5,0.5': 1,\n",
       "             '4.0,3.0': 1,\n",
       "             '6.5,3.5': 1,\n",
       "             '2.0,-4.0': 1,\n",
       "             '-7.5,-2.5': 1,\n",
       "             '-10.5,3.5': 1,\n",
       "             '-3.5,-4.5': 1,\n",
       "             '-9.5,1.5': 1,\n",
       "             '-5.0,-7.0': 1,\n",
       "             '4.0,-3.0': 1,\n",
       "             '0.0,-6.0': 1,\n",
       "             '8.5,-1.5': 1,\n",
       "             '-7.5,5.5': 1,\n",
       "             '-5.5,-2.5': 1,\n",
       "             '-2.0,-6.0': 1,\n",
       "             '-2.0,-5.0': 1,\n",
       "             '-9.5,-0.5': 1,\n",
       "             '-6.5,-1.5': 1,\n",
       "             '8.0,0.0': 1,\n",
       "             '0.0,1.0': 1,\n",
       "             '7.5,5.5': 1,\n",
       "             '-4.5,-5.5': 0,\n",
       "             '10.0,2.0': 1,\n",
       "             '-4.5,1.5': 1,\n",
       "             '-6.5,-3.5': 1,\n",
       "             '-5.5,-5.5': 1,\n",
       "             '11.5,0.5': 1,\n",
       "             '-8.0,-2.0': 0,\n",
       "             '8.5,-0.5': 1,\n",
       "             '8.0,-4.0': 1,\n",
       "             '-6.5,5.5': 1,\n",
       "             '5.0,-1.0': 1,\n",
       "             '-11.5,-0.5': 1,\n",
       "             '-8.0,3.0': 1,\n",
       "             '2.0,5.0': 0,\n",
       "             '2.5,-6.5': 1,\n",
       "             '2.0,0.0': 1,\n",
       "             '-3.0,5.0': 1,\n",
       "             '-3.5,0.5': 1,\n",
       "             '-12.0,-1.0': 1,\n",
       "             '-7.0,0.0': 1,\n",
       "             '0.5,-5.5': 1,\n",
       "             '4.5,4.5': 1,\n",
       "             '4.5,5.5': 1,\n",
       "             '0.0,-7.0': 1,\n",
       "             '3.5,-0.5': 1,\n",
       "             '2.5,-2.5': 1,\n",
       "             '-1.5,3.5': 1,\n",
       "             '0.5,3.5': 1,\n",
       "             '-4.5,-6.5': 1,\n",
       "             '-8.0,-5.0': 1,\n",
       "             '3.5,-5.5': 1,\n",
       "             '6.5,6.5': 1,\n",
       "             '-8.5,0.5': 0,\n",
       "             '11.5,2.5': 1,\n",
       "             '-5.5,0.5': 0,\n",
       "             '-2.0,3.0': 1,\n",
       "             '-1.0,1.0': 1,\n",
       "             '-2.5,1.5': 1,\n",
       "             '2.5,1.5': 1,\n",
       "             '10.5,-3.5': 1,\n",
       "             '-4.5,2.5': 1,\n",
       "             '0.0,3.0': 1,\n",
       "             '8.0,-2.0': 1,\n",
       "             '-10.0,4.0': 1,\n",
       "             '-10.5,-0.5': 1,\n",
       "             '4.0,-5.0': 1,\n",
       "             '0.5,-3.5': 1,\n",
       "             '-1.5,-2.5': 1,\n",
       "             '2.0,-2.0': 1,\n",
       "             '1.0,-5.0': 1,\n",
       "             '-10.5,-3.5': 1,\n",
       "             '7.0,2.0': 1,\n",
       "             '3.0,-7.0': 1,\n",
       "             '7.0,-7.0': 1,\n",
       "             '-5.5,6.5': 1,\n",
       "             '3.5,-6.5': 1,\n",
       "             '4.0,5.0': 1,\n",
       "             '0.5,-4.5': 1,\n",
       "             '-7.0,1.0': 1,\n",
       "             '1.5,5.5': 1,\n",
       "             '2.5,6.5': 1,\n",
       "             '3.0,-6.0': 1,\n",
       "             '-7.5,2.5': 1,\n",
       "             '7.5,-6.5': 1,\n",
       "             '-10.0,-1.0': 1,\n",
       "             '9.5,-1.5': 1,\n",
       "             '-3.0,-6.0': 0,\n",
       "             '8.5,3.5': 1,\n",
       "             '5.5,6.5': 1,\n",
       "             '-12.5,0.5': 1,\n",
       "             '6.5,0.5': 1,\n",
       "             '2.5,0.5': 1,\n",
       "             '8.5,5.5': 1,\n",
       "             '-2.0,0.0': 0,\n",
       "             '5.5,-6.5': 1,\n",
       "             '5.5,5.5': 1,\n",
       "             '6.0,-4.0': 1,\n",
       "             '-1.0,3.0': 1,\n",
       "             '-1.0,-3.0': 1,\n",
       "             '-3.5,-0.5': 1,\n",
       "             '-9.0,-1.0': 1,\n",
       "             '-8.0,5.0': 1,\n",
       "             '11.0,1.0': 1,\n",
       "             '1.5,-1.5': 1,\n",
       "             '-0.5,-6.5': 1,\n",
       "             '-12.5,-0.5': 1,\n",
       "             '3.5,-1.5': 0,\n",
       "             '3.5,-4.5': 1,\n",
       "             '5.5,-4.5': 1,\n",
       "             '-5.0,6.0': 1,\n",
       "             '-1.5,1.5': 1,\n",
       "             '11.5,-2.5': 1,\n",
       "             '0.5,5.5': 1,\n",
       "             '-7.0,-1.0': 1,\n",
       "             '-7.5,6.5': 1,\n",
       "             '7.5,-3.5': 1,\n",
       "             '-8.5,2.5': 1,\n",
       "             '-8.5,4.5': 1,\n",
       "             '2.5,-0.5': 1,\n",
       "             '-5.5,3.5': 1,\n",
       "             '7.0,-5.0': 1,\n",
       "             '-8.0,-3.0': 1,\n",
       "             '1.0,-4.0': 1,\n",
       "             '9.0,4.0': 1,\n",
       "             '-2.0,-2.0': 1,\n",
       "             '-7.0,-3.0': 1,\n",
       "             '-6.5,-2.5': 1,\n",
       "             '1.0,0.0': 1})"
      ]
     },
     "execution_count": 8,
     "metadata": {},
     "output_type": "execute_result"
    }
   ],
   "source": [
    "tiles"
   ]
  },
  {
   "cell_type": "code",
   "execution_count": 9,
   "metadata": {},
   "outputs": [
    {
     "data": {
      "text/plain": [
       "352"
      ]
     },
     "execution_count": 9,
     "metadata": {},
     "output_type": "execute_result"
    }
   ],
   "source": [
    "len(tiles)"
   ]
  },
  {
   "cell_type": "markdown",
   "metadata": {},
   "source": [
    "# Part 2"
   ]
  },
  {
   "cell_type": "code",
   "execution_count": 10,
   "metadata": {},
   "outputs": [],
   "source": [
    "# get the grids\n",
    "x_grid = set()\n",
    "y_grid = set()\n",
    "for key in tiles:\n",
    "    x, y = key.split(',')\n",
    "    x = float(x)\n",
    "    y = float(y)\n",
    "    x_grid.add(x)\n",
    "    y_grid.add(y)"
   ]
  },
  {
   "cell_type": "code",
   "execution_count": 11,
   "metadata": {},
   "outputs": [
    {
     "name": "stdout",
     "output_type": "stream",
     "text": [
      "[14.0, -14.0]\n"
     ]
    }
   ],
   "source": [
    "print([max(x_grid), min(x_grid)])"
   ]
  },
  {
   "cell_type": "code",
   "execution_count": 12,
   "metadata": {},
   "outputs": [
    {
     "name": "stdout",
     "output_type": "stream",
     "text": [
      "[7.0, -7.0]\n"
     ]
    }
   ],
   "source": [
    "print([max(y_grid), min(y_grid)])"
   ]
  },
  {
   "cell_type": "code",
   "execution_count": 13,
   "metadata": {},
   "outputs": [],
   "source": [
    "def get_all_grid(x_max, x_min, y_max, y_min) -> set:\n",
    "    x_max = round(x_max + 0.1)\n",
    "    x_min = round(x_min + 0.1)\n",
    "    y_max = round(y_max - 0.1)\n",
    "    y_min = round(y_min - 0.1)\n",
    "    ans = set()\n",
    "    for x in range(x_min, x_max+1):\n",
    "        for y in range(y_min, y_max+1):\n",
    "            ans.add(f'{float(x)},{float(y)}')\n",
    "            ans.add(f'{float(x-0.5)},{float(y-0.5)}')\n",
    "            ans.add(f'{float(x-0.5)},{float(y+0.5)}')\n",
    "            ans.add(f'{float(x+0.5)},{float(y-0.5)}')\n",
    "            ans.add(f'{float(x+0.5)},{float(y+0.5)}')\n",
    "    return ans"
   ]
  },
  {
   "cell_type": "code",
   "execution_count": 14,
   "metadata": {},
   "outputs": [],
   "source": [
    "def count_black_neighbors(tile_key: str, color_tiles) -> int:\n",
    "    x, y = tile_key.split(',')\n",
    "    x = float(x)\n",
    "    y = float(y)\n",
    "    \n",
    "    neighbors = [\n",
    "        [x+0.5, y+0.5],[x-0.5, y+0.5],\n",
    "        [x+1, y],[x-1, y],\n",
    "        [x+0.5, y-0.5],[x-0.5, y-0.5]\n",
    "    ]\n",
    "    ans = 0\n",
    "    for xy in neighbors:\n",
    "        key = f'{xy[0]},{xy[1]}'\n",
    "#         print(key)\n",
    "        if key in color_tiles:\n",
    "            ans += color_tiles[key]\n",
    "#         else:\n",
    "#             color_tiles[key] = 0\n",
    "    return ans"
   ]
  },
  {
   "cell_type": "code",
   "execution_count": 14,
   "metadata": {},
   "outputs": [
    {
     "ename": "NameError",
     "evalue": "name 'color_day0' is not defined",
     "output_type": "error",
     "traceback": [
      "\u001b[1;31m---------------------------------------------------------------------------\u001b[0m",
      "\u001b[1;31mNameError\u001b[0m                                 Traceback (most recent call last)",
      "\u001b[1;32m<ipython-input-14-292bd353d5c6>\u001b[0m in \u001b[0;36m<module>\u001b[1;34m\u001b[0m\n\u001b[1;32m----> 1\u001b[1;33m \u001b[0mcolor_day0\u001b[0m\u001b[1;33m\u001b[0m\u001b[1;33m\u001b[0m\u001b[0m\n\u001b[0m",
      "\u001b[1;31mNameError\u001b[0m: name 'color_day0' is not defined"
     ]
    }
   ],
   "source": [
    "color_day0"
   ]
  },
  {
   "cell_type": "code",
   "execution_count": 19,
   "metadata": {},
   "outputs": [
    {
     "data": {
      "text/plain": [
       "0"
      ]
     },
     "execution_count": 19,
     "metadata": {},
     "output_type": "execute_result"
    }
   ],
   "source": [
    "count_black_neighbors('-0.5,2.5', color_day0)"
   ]
  },
  {
   "cell_type": "code",
   "execution_count": null,
   "metadata": {},
   "outputs": [],
   "source": []
  },
  {
   "cell_type": "code",
   "execution_count": 15,
   "metadata": {},
   "outputs": [],
   "source": [
    "color_day0 = dict(tiles)"
   ]
  },
  {
   "cell_type": "code",
   "execution_count": 16,
   "metadata": {},
   "outputs": [
    {
     "name": "stdout",
     "output_type": "stream",
     "text": [
      "day 10:\n",
      "419\n",
      "day 20:\n",
      "564\n",
      "day 30:\n",
      "781\n",
      "day 40:\n",
      "1076\n",
      "day 50:\n",
      "1421\n",
      "day 60:\n",
      "1739\n",
      "day 70:\n",
      "2198\n",
      "day 80:\n",
      "2670\n",
      "day 90:\n",
      "3112\n",
      "day 100:\n",
      "3733\n"
     ]
    }
   ],
   "source": [
    "day = 0\n",
    "color_previous_day = dict(color_day0)\n",
    "x_max, x_min = [14.0, -14.0]\n",
    "y_max, y_min = [7.0, -7.0]\n",
    "# x_max, x_min = [2.0, -2.0]\n",
    "# y_max, y_min = [1.5, -1.5]\n",
    "tile_keys = get_all_grid(x_max, x_min, y_max, y_min)\n",
    "while day < 100:\n",
    "    day += 1\n",
    "    new_colors = dict(color_previous_day)\n",
    "    tile_keys = get_all_grid(x_max, x_min, y_max, y_min)\n",
    "#     print(len(tile_keys))\n",
    "    for key in tile_keys:\n",
    "        ct = count_black_neighbors(key, color_previous_day)\n",
    "        if key in color_previous_day:\n",
    "            if color_previous_day[key] == 1: # black\n",
    "                if (ct == 0)  or (ct > 2):\n",
    "#                     print('asdf')\n",
    "                    new_colors[key] = 0\n",
    "            else:\n",
    "                if ct == 2:\n",
    "#                     print('dddddddddd')\n",
    "                    new_colors[key] = 1\n",
    "        else:\n",
    "            color_previous_day[key] = 0\n",
    "            if ct == 2:\n",
    "                new_colors[key] = 1\n",
    "            else:\n",
    "                new_colors[key] = 0\n",
    "    color_previous_day = new_colors\n",
    "    x_max += 1\n",
    "    x_min -= 1\n",
    "    y_max += 1\n",
    "    y_min -= 1\n",
    "    \n",
    "    ct = 0\n",
    "    for key in new_colors:\n",
    "        if new_colors[key] == 1:\n",
    "            ct += 1\n",
    "    if day % 10 == 0:\n",
    "        print(f'day {day}:')\n",
    "        print(ct)"
   ]
  },
  {
   "cell_type": "code",
   "execution_count": null,
   "metadata": {},
   "outputs": [],
   "source": [
    "ct"
   ]
  },
  {
   "cell_type": "code",
   "execution_count": null,
   "metadata": {},
   "outputs": [],
   "source": []
  },
  {
   "cell_type": "code",
   "execution_count": null,
   "metadata": {},
   "outputs": [],
   "source": []
  },
  {
   "cell_type": "code",
   "execution_count": null,
   "metadata": {},
   "outputs": [],
   "source": []
  },
  {
   "cell_type": "code",
   "execution_count": null,
   "metadata": {},
   "outputs": [],
   "source": []
  }
 ],
 "metadata": {
  "kernelspec": {
   "display_name": "Python 3",
   "language": "python",
   "name": "python3"
  },
  "language_info": {
   "codemirror_mode": {
    "name": "ipython",
    "version": 3
   },
   "file_extension": ".py",
   "mimetype": "text/x-python",
   "name": "python",
   "nbconvert_exporter": "python",
   "pygments_lexer": "ipython3",
   "version": "3.8.5"
  }
 },
 "nbformat": 4,
 "nbformat_minor": 4
}
