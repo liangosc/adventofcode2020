{
 "cells": [
  {
   "cell_type": "code",
   "execution_count": 1,
   "metadata": {},
   "outputs": [],
   "source": [
    "from typing import Tuple"
   ]
  },
  {
   "cell_type": "code",
   "execution_count": 2,
   "metadata": {},
   "outputs": [],
   "source": [
    "f = open('day11_input.txt')\n",
    "lines = f.readlines()\n",
    "f.close()\n",
    "data = [(line[0:-1]) for line in lines]"
   ]
  },
  {
   "cell_type": "code",
   "execution_count": 3,
   "metadata": {},
   "outputs": [
    {
     "name": "stdout",
     "output_type": "stream",
     "text": [
      "There are 99 rows of seatings. Each row has 92 seats. The first few are as following:\n"
     ]
    },
    {
     "data": {
      "text/plain": [
       "['LLLLLLLLLL.LLLLLL.LLLLLLLLLLLL.LL.LLLL.LLLLL.LLLLLLL.LLLLLL.LLLLLL.LLLLLL.LLLLLLLLLLLLLLLLLL',\n",
       " 'LLLLLLLLLLLLLLLLLLLLLLLLLLLLLL.LLLLLLL.LLLLL.LLLLLLL.LLLLLLLLLLLLL.LLLL.L.LLLLLLLLLL.LLLLLLL',\n",
       " 'LLLLLLLLLL.LLLLLL.LLLLLL.LLLLL.LLLLLLLLLLLLLLLLLLLLL.LLLLLL..LLLLL.LLLLLL.LLLLLL.LLLLLLLLLLL',\n",
       " 'LLLLLLLLLL.LLLLLLLLLLLLL.LL.LL.LLLLL.L.LLLLL.LLLLLLL.LLLLLL.LLLLLLLLLLLLL.LLLLLLLLLLLLLLLLLL',\n",
       " 'LLLLLLLLLLLLLLLLL.LLLLLL.LLLLLLLLLLLLLLLLLLL.LLLLLLL.LLL.LL.LLLLLL.LLLLLL.LLLLLLLLLLLLLLLLLL',\n",
       " 'LLLLLLLLLLLLLLLLL.LLLLLL.LLLLL.LLLLLLL.LLL.L.LLLLLLLLLLLLLLLLLLLLLLLLLLLL.LLLLLL.LLLLLLLL.LL',\n",
       " 'LLLLLLLLLLLLLLLLL.LLLLLLLLLL.LLLLLLLLL.LLLLL.LLLLLLL.LLLL.L.LLLLLLLLLLLLL.LLLLLLLLLLLLLLLLLL',\n",
       " '.L.LL...LLLL.......L....L.LLLLLL.......LL....LL...L..L.LLL...LLL..L.L.L.L..L...............L',\n",
       " 'LLLLLLLLLL.LL.LLL.LLLLLL.LLLLL.LLLLLLL.LLLLL.LLLLLLLLLLLLLLLLLLLLLLLLLLLL.LLLLLL.LLLLLLLLLLL',\n",
       " 'LLLLLLLLLL.LLLLLL.LLLLLLL.LLLLLLLLLLLL.LLLLL.LLLL.LLLLLLLLL.LLLLLL.LLLLLL.LLLLLL.LLLLLLLLLLL']"
      ]
     },
     "execution_count": 3,
     "metadata": {},
     "output_type": "execute_result"
    }
   ],
   "source": [
    "print(f'There are {len(data)} rows of seatings. Each row has {len(data[0])} seats. The first few are as following:')\n",
    "data[0:10]"
   ]
  },
  {
   "cell_type": "markdown",
   "metadata": {},
   "source": [
    "Note: The seat layout fits on a grid. Each position is either floor (.), an empty seat (L), or an occupied seat (#). "
   ]
  },
  {
   "cell_type": "markdown",
   "metadata": {},
   "source": [
    "# Part 1:"
   ]
  },
  {
   "cell_type": "markdown",
   "metadata": {},
   "source": [
    "This question is similar to the famous \"Conway's Game of Life\" (https://en.wikipedia.org/wiki/Conway%27s_Game_of_Life)."
   ]
  },
  {
   "cell_type": "markdown",
   "metadata": {},
   "source": [
    "Each seat will be taken (or vacant) based on the on the number of occupied seats adjacent to it (one of the eight positions immediately up, down, left, right, or diagonal from the seat).\n",
    "\n",
    "The following rules are applied to every seat **simultaneously**:\n",
    "\n",
    "- If a seat is empty (L) and there are no occupied seats adjacent to it, the seat becomes occupied.\n",
    "- If a seat is occupied (#) and four or more seats adjacent to it are also occupied, the seat becomes empty.\n",
    "- Otherwise, the seat's state does not change."
   ]
  },
  {
   "cell_type": "markdown",
   "metadata": {},
   "source": [
    "For part 1, we want to know how many seats end up occupied at the end (until no seats change state)."
   ]
  },
  {
   "cell_type": "markdown",
   "metadata": {},
   "source": [
    "Usually there are two way to do it \"simultaneously\": 1. to make a new copy of the previous seats every round, and make changes to the copy, not the previous seats; 2. to change the previous seats, but in a way that it still holds the original information.\n",
    "\n",
    "Here I'm using the first approach, making a copy."
   ]
  },
  {
   "cell_type": "code",
   "execution_count": 4,
   "metadata": {},
   "outputs": [],
   "source": [
    "def check_rules(seatings: list) -> Tuple[bool, list]:\n",
    "    \"\"\"\n",
    "    This function will check each seat in the seating list and make changes according to the two rules, and return True if \n",
    "    any seat has changed state, False if none seat has changed state, along with the new seats states.\n",
    "    \"\"\"\n",
    "    n_row = len(seatings)\n",
    "    n_col = len(seatings[0])\n",
    "    # a new copy is made every time so that the \"original\" seats won't be modified:\n",
    "    new_seatings = [['.']*n_col for _ in range(n_row)]\n",
    "    # a flag to mark if any seat has changed state\n",
    "    changed = False\n",
    "    \n",
    "    for i in range(0, n_row):\n",
    "        for j in range(0, n_col):\n",
    "            adjacents = [[i-1, j-1], [i-1, j], [i-1, j+1], [i, j-1], [i, j+1], [i+1, j-1], [i+1, j], [i+1, j+1]]\n",
    "            # to check rule 1: \n",
    "            # If a seat is empty (L) and there are no occupied seats adjacent to it, the seat becomes occupied.        \n",
    "            if seatings[i][j] == 'L':\n",
    "                all_empty = True\n",
    "                for m, n in adjacents:\n",
    "                    if (0 <= m < n_row) and (0 <= n < n_col):\n",
    "                        if seatings[m][n] == '#':\n",
    "                            all_empty = False\n",
    "                            break\n",
    "                if all_empty:\n",
    "                    new_seatings[i][j] = '#'\n",
    "                    changed = True\n",
    "                else:\n",
    "                    new_seatings[i][j] = 'L'\n",
    "            # to check rule 2: \n",
    "            # If a seat is occupied (#) and four or more seats adjacent to it are also occupied, the seat becomes empty.\n",
    "            elif seatings[i][j] == '#':\n",
    "                ct = 0\n",
    "                for m, n in adjacents:\n",
    "                    if (0 <= m < n_row) and (0 <= n < n_col):\n",
    "                        if seatings[m][n] == '#':\n",
    "                            ct += 1\n",
    "                if ct >=4:\n",
    "                    new_seatings[i][j] = 'L'\n",
    "                    changed = True\n",
    "                else:\n",
    "                    new_seatings[i][j] = '#'\n",
    "\n",
    "    return changed, new_seatings"
   ]
  },
  {
   "cell_type": "markdown",
   "metadata": {},
   "source": [
    "With this function, we just need to let it run and stop when the returned boolen flag is False, which means no seat has changed state:"
   ]
  },
  {
   "cell_type": "code",
   "execution_count": 5,
   "metadata": {},
   "outputs": [
    {
     "name": "stdout",
     "output_type": "stream",
     "text": [
      "87 rounds passed.\n"
     ]
    }
   ],
   "source": [
    "seatings = data\n",
    "changed = True\n",
    "i = 0\n",
    "while changed:\n",
    "    changed, seatings = check_rules(seatings)\n",
    "    i += 1\n",
    "print(f'{i} rounds passed.')"
   ]
  },
  {
   "cell_type": "markdown",
   "metadata": {},
   "source": [
    "To count occupied seats:"
   ]
  },
  {
   "cell_type": "code",
   "execution_count": 6,
   "metadata": {},
   "outputs": [
    {
     "name": "stdout",
     "output_type": "stream",
     "text": [
      "2359 seats are accupied.\n"
     ]
    }
   ],
   "source": [
    "ct = 0\n",
    "for i in range(len(seatings)):\n",
    "    for j in range(len(seatings[0])):\n",
    "        ct += int(seatings[i][j] == '#')\n",
    "print(f'{ct} seats are accupied.')"
   ]
  },
  {
   "cell_type": "markdown",
   "metadata": {},
   "source": [
    "# Part 2"
   ]
  },
  {
   "cell_type": "markdown",
   "metadata": {},
   "source": [
    "OK, new rules:\n",
    "\n",
    "People don't just care about adjacent seats - they care about the first seat they can see in each of those eight directions!\n",
    "\n",
    "It mean we can't use \n",
    "\n",
    "adjacents = [[i-1, j-1], [i-1, j], [i-1, j+1], [i, j-1], [i, j+1], [i+1, j-1], [i+1, j], [i+1, j+1]]\n",
    "\n",
    "anymore.\n",
    "\n",
    "Oh well, due to time limitation, here is my updated check_rules function v2 (brutal force version, not pretty... will need to simplify in the future):"
   ]
  },
  {
   "cell_type": "code",
   "execution_count": 7,
   "metadata": {},
   "outputs": [],
   "source": [
    "def check_rules_v2(seatings: list) -> tuple:\n",
    "    n_row = len(seatings)\n",
    "    n_col = len(seatings[0])\n",
    "    # a new copy is made every time so that the \"original\" seats won't be modified:\n",
    "    new_seatings = [['.']*n_col for _ in range(n_row)]\n",
    "    # a flag to mark if any seat has changed state\n",
    "    changed = False\n",
    "    \n",
    "    for i in range(0, n_row):\n",
    "        for j in range(0, n_col):\n",
    "            # to check rule 1: \n",
    "            if seatings[i][j] == 'L':\n",
    "                all_empty = True\n",
    "                # direction 1 (some of the directions can be combined, of course)\n",
    "                for x in range(1,100):\n",
    "                    m, n = i-x, j-x\n",
    "                    if (0 <= m < n_row) and (0 <= n < n_col):\n",
    "                        if seatings[m][n] == 'L':\n",
    "                            break\n",
    "                        elif seatings[m][n] == '#':\n",
    "                            all_empty = False\n",
    "                            break\n",
    "                # d2\n",
    "                for x in range(1,100):\n",
    "                    m, n = i-x, j\n",
    "                    if (0 <= m < n_row) and (0 <= n < n_col):\n",
    "                        if seatings[m][n] == 'L':\n",
    "                            break\n",
    "                        elif seatings[m][n] == '#':\n",
    "                            all_empty = False\n",
    "                            break\n",
    "                # d3\n",
    "                for x in range(1,100):\n",
    "                    m, n = i-x, j+x\n",
    "                    if (0 <= m < n_row) and (0 <= n < n_col):\n",
    "                        if seatings[m][n] == 'L':\n",
    "                            break\n",
    "                        elif seatings[m][n] == '#':\n",
    "                            all_empty = False\n",
    "                            break\n",
    "                # d4\n",
    "                for x in range(1,100):\n",
    "                    m, n = i, j-x\n",
    "                    if (0 <= m < n_row) and (0 <= n < n_col):\n",
    "                        if seatings[m][n] == 'L':\n",
    "                            break\n",
    "                        elif seatings[m][n] == '#':\n",
    "                            all_empty = False\n",
    "                            break\n",
    "                # d5\n",
    "                for x in range(1,100):\n",
    "                    m, n = i, j+x\n",
    "                    if (0 <= m < n_row) and (0 <= n < n_col):\n",
    "                        if seatings[m][n] == 'L':\n",
    "                            break\n",
    "                        elif seatings[m][n] == '#':\n",
    "                            all_empty = False\n",
    "                            break\n",
    "                # d6\n",
    "                for x in range(1,100):\n",
    "                    m, n = i+x, j-x\n",
    "                    if (0 <= m < n_row) and (0 <= n < n_col):\n",
    "                        if seatings[m][n] == 'L':\n",
    "                            break\n",
    "                        elif seatings[m][n] == '#':\n",
    "                            all_empty = False\n",
    "                            break\n",
    "                # d7\n",
    "                for x in range(1,100):\n",
    "                    m, n = i+x, j\n",
    "                    if (0 <= m < n_row) and (0 <= n < n_col):\n",
    "                        if seatings[m][n] == 'L':\n",
    "                            break\n",
    "                        elif seatings[m][n] == '#':\n",
    "                            all_empty = False\n",
    "                            break\n",
    "                # d8\n",
    "                for x in range(1,100):\n",
    "                    m, n = i+x, j+x\n",
    "                    if (0 <= m < n_row) and (0 <= n < n_col):\n",
    "                        if seatings[m][n] == 'L':\n",
    "                            break\n",
    "                        elif seatings[m][n] == '#':\n",
    "                            all_empty = False\n",
    "                            break\n",
    "                \n",
    "                if all_empty:\n",
    "                    new_seatings[i][j] = '#'\n",
    "                    changed = True\n",
    "                else:\n",
    "                    new_seatings[i][j] = 'L'\n",
    "            \n",
    "            # to check rule 2: \n",
    "            elif seatings[i][j] == '#':\n",
    "                ct = 0\n",
    "                # d1\n",
    "                for x in range(1,100):\n",
    "                    m, n = i-x, j-x\n",
    "                    if (0 <= m < n_row) and (0 <= n < n_col):\n",
    "                        if seatings[m][n] == '#':\n",
    "                            ct += 1\n",
    "                            break\n",
    "                        elif seatings[m][n] == 'L':\n",
    "                            break\n",
    "                # d2\n",
    "                for x in range(1,100):\n",
    "                    m, n = i-x, j\n",
    "                    if (0 <= m < n_row) and (0 <= n < n_col):\n",
    "                        if seatings[m][n] == '#':\n",
    "                            ct += 1\n",
    "                            break\n",
    "                        elif seatings[m][n] == 'L':\n",
    "                            break\n",
    "                # d3\n",
    "                for x in range(1,100):\n",
    "                    m, n = i-x, j+x\n",
    "                    if (0 <= m < n_row) and (0 <= n < n_col):\n",
    "                        if seatings[m][n] == '#':\n",
    "                            ct += 1\n",
    "                            break\n",
    "                        elif seatings[m][n] == 'L':\n",
    "                            break\n",
    "                # d4\n",
    "                for x in range(1,100):\n",
    "                    m, n = i, j-x\n",
    "                    if (0 <= m < n_row) and (0 <= n < n_col):\n",
    "                        if seatings[m][n] == '#':\n",
    "                            ct += 1\n",
    "                            break\n",
    "                        elif seatings[m][n] == 'L':\n",
    "                            break\n",
    "                # d5\n",
    "                for x in range(1,100):\n",
    "                    m, n = i, j+x\n",
    "                    if (0 <= m < n_row) and (0 <= n < n_col):\n",
    "                        if seatings[m][n] == '#':\n",
    "                            ct += 1\n",
    "                            break\n",
    "                        elif seatings[m][n] == 'L':\n",
    "                            break\n",
    "                # d6\n",
    "                for x in range(1,100):\n",
    "                    m, n = i+x, j-x\n",
    "                    if (0 <= m < n_row) and (0 <= n < n_col):\n",
    "                        if seatings[m][n] == '#':\n",
    "                            ct += 1\n",
    "                            break\n",
    "                        elif seatings[m][n] == 'L':\n",
    "                            break\n",
    "                # d7\n",
    "                for x in range(1,100):\n",
    "                    m, n = i+x, j\n",
    "                    if (0 <= m < n_row) and (0 <= n < n_col):\n",
    "                        if seatings[m][n] == '#':\n",
    "                            ct += 1\n",
    "                            break\n",
    "                        elif seatings[m][n] == 'L':\n",
    "                            break\n",
    "                # d8\n",
    "                for x in range(1,100):\n",
    "                    m, n = i+x, j+x\n",
    "                    if (0 <= m < n_row) and (0 <= n < n_col):\n",
    "                        if seatings[m][n] == '#':\n",
    "                            ct += 1\n",
    "                            break\n",
    "                        elif seatings[m][n] == 'L':\n",
    "                            break\n",
    "\n",
    "                if ct >=5:\n",
    "                    new_seatings[i][j] = 'L'\n",
    "                    changed = True\n",
    "                else:\n",
    "                    new_seatings[i][j] = '#'\n",
    "\n",
    "    return changed, new_seatings"
   ]
  },
  {
   "cell_type": "code",
   "execution_count": 8,
   "metadata": {},
   "outputs": [
    {
     "name": "stdout",
     "output_type": "stream",
     "text": [
      "87 rounds passed.\n"
     ]
    }
   ],
   "source": [
    "seatings = data\n",
    "changed = True\n",
    "i = 0\n",
    "while changed:\n",
    "    changed, seatings = check_rules_v2(seatings)\n",
    "    i += 1\n",
    "print(f'{i} rounds passed.')"
   ]
  },
  {
   "cell_type": "code",
   "execution_count": 9,
   "metadata": {},
   "outputs": [
    {
     "name": "stdout",
     "output_type": "stream",
     "text": [
      "2131 seats are accupied.\n"
     ]
    }
   ],
   "source": [
    "ct = 0\n",
    "for i in range(len(seatings)):\n",
    "    for j in range(len(seatings[0])):\n",
    "        ct += int(seatings[i][j] == '#')\n",
    "print(f'{ct} seats are accupied.')"
   ]
  },
  {
   "cell_type": "code",
   "execution_count": null,
   "metadata": {},
   "outputs": [],
   "source": []
  }
 ],
 "metadata": {
  "kernelspec": {
   "display_name": "Python 3",
   "language": "python",
   "name": "python3"
  },
  "language_info": {
   "codemirror_mode": {
    "name": "ipython",
    "version": 3
   },
   "file_extension": ".py",
   "mimetype": "text/x-python",
   "name": "python",
   "nbconvert_exporter": "python",
   "pygments_lexer": "ipython3",
   "version": "3.8.5"
  }
 },
 "nbformat": 4,
 "nbformat_minor": 4
}
