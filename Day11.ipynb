{
 "cells": [
  {
   "cell_type": "code",
   "execution_count": 6,
   "metadata": {},
   "outputs": [],
   "source": [
    "f = open('day11_input.txt')\n",
    "lines = f.readlines()\n",
    "f.close()"
   ]
  },
  {
   "cell_type": "code",
   "execution_count": 7,
   "metadata": {
    "scrolled": true
   },
   "outputs": [
    {
     "name": "stdout",
     "output_type": "stream",
     "text": [
      "['LLLLLLLLLL.LLLLLL.LLLLLLLLLLLL.LL.LLLL.LLLLL.LLLLLLL.LLLLLL.LLLLLL.LLLLLL.LLLLLLLLLLLLLLLLLL', 'LLLLLLLLLLLLLLLLLLLLLLLLLLLLLL.LLLLLLL.LLLLL.LLLLLLL.LLLLLLLLLLLLL.LLLL.L.LLLLLLLLLL.LLLLLLL', 'LLLLLLLLLL.LLLLLL.LLLLLL.LLLLL.LLLLLLLLLLLLLLLLLLLLL.LLLLLL..LLLLL.LLLLLL.LLLLLL.LLLLLLLLLLL', 'LLLLLLLLLL.LLLLLLLLLLLLL.LL.LL.LLLLL.L.LLLLL.LLLLLLL.LLLLLL.LLLLLLLLLLLLL.LLLLLLLLLLLLLLLLLL', 'LLLLLLLLLLLLLLLLL.LLLLLL.LLLLLLLLLLLLLLLLLLL.LLLLLLL.LLL.LL.LLLLLL.LLLLLL.LLLLLLLLLLLLLLLLLL', 'LLLLLLLLLLLLLLLLL.LLLLLL.LLLLL.LLLLLLL.LLL.L.LLLLLLLLLLLLLLLLLLLLLLLLLLLL.LLLLLL.LLLLLLLL.LL', 'LLLLLLLLLLLLLLLLL.LLLLLLLLLL.LLLLLLLLL.LLLLL.LLLLLLL.LLLL.L.LLLLLLLLLLLLL.LLLLLLLLLLLLLLLLLL', '.L.LL...LLLL.......L....L.LLLLLL.......LL....LL...L..L.LLL...LLL..L.L.L.L..L...............L', 'LLLLLLLLLL.LL.LLL.LLLLLL.LLLLL.LLLLLLL.LLLLL.LLLLLLLLLLLLLLLLLLLLLLLLLLLL.LLLLLL.LLLLLLLLLLL', 'LLLLLLLLLL.LLLLLL.LLLLLLL.LLLLLLLLLLLL.LLLLL.LLLL.LLLLLLLLL.LLLLLL.LLLLLL.LLLLLL.LLLLLLLLLLL', 'LLLLLLLLLL.LLLLLLLLLLLLLLLLLLLLLLLLLLLLLLLLLLLLLLLLLLLLLLLL.LLLLLLLLLLLL..LLLLLLLLLLLLLLLLLL', 'LLLLLLL.LL.LLL.LLLLLLLLLLLLL.L.LLLLLLL.LLLLL.LLLLLLL.LLLLLL..LLLLLL.LLLLL.LLLLLL.LLLLLLLLLLL', '.......L.LLL........LL.L....L.LL...L.....L..LL......L.....L....L.LLLL...L....L..L.L........L', 'LLLLLLLLLL.LLLLLLLLLLLLL.LLLLL.LLLLLLLLLLLLL.LLLLLLL.LLLLLL.LLLLLLLLLLLLL.LLLLLLLLLLLLLLLLLL', 'LLLLLLLL.L.LLLLLL.LLLLLLLLLLLLLLLLLLLL.LLLLL.LLLLLLL.LLLLLL.LLLLLL.LLLLLLLLLLLLL.LLLLLLLLLLL', 'LLLLLLLLLL.LLLLLL.LLLLLLLLLLLLLLLLLLLL.LLLLL.LLLLLLL.LLLLLL.LLLLL.LLLLLLLLLLLLLLLLLLLLLLLLLL', 'LLLLLLLLLLLLLLLLL.LLLLLLLLLLLL.LL.LLLL.LLLLL.LLLLLLLLLLLLLL.LLLLLL.LLLLLL.LLLLLL.LLLLLLLLLLL', 'LLLLLLLLLLLLLLLLL.LLL.LLLLLLLL.LLLLLLLLLLLLL.LLLLLLL.LLLLLL.LLLLLL.LLLLLLLLLLLLLLLLLLLLLLLLL', '..L...L.........LL.LLLL...L...LL.L.L..L...L.L...LL..LL...L....L....LL.L...LLL........LLL....', 'LLLLLLLL.L.LLLLLL.LLLLLL.LLLLL.LLLLLLLLLLLLLLLLLLLLLLLLLLLL.LLLLLL.LLLLLLLLL.LLL.LLLLLLLLLLL', 'LLLLLLLLLL.LLLLLL.LLLLLL.LLLLL.LLLLLLLLLLLLLLLLLLLLL.LLLLLL.LLLLLL.LLLLLLLLLLLLL.LLLLLLLLLLL', 'LLLLLLLLLL.LLLLLL.LLLLLL.LLLLL.LLLLLLLLLLLLL.LL.LLLLLLLLLLL.LLLLLL.LLLLLL.LL.LLLLLLLLLLLLLLL', 'LLLLLLLLLL.LLLLLL.LLLLLLLLLLLLLLLLLLLL.LLLLL.LLLLLLL.LL.LLL.LLLLLL.LLLLLLLLLLLLLLLLLLLLLLLLL', 'L..L...........L....L.LLLL........L..LL....L.L.......L.L.L.....LL......L.....LLL.LL.L.L.LL.L', 'LLLLLLLLLLLLLLLLL.LLLLLL.LLLLLLLLLLLLL.LLLLL.LLLLLLLLLLLL.LLLLLLLLLLLLLLL.LLLLLL.LLLLLLLLLLL', 'LLLLLLLLLLLLLLLLL.LLLLLL.LLLLL.LLLLLLL.LLLLL.LLLLLLL.LLLLLL.LLLLLL.LLLLLLLLLLLLL.LLLLLLLLLLL', 'LLLLLLLLLLLLLLLLL.LLLLLL.LLLLL.LLLLLLLLLLLLL.LLLLLLL.LLLLLL.LLLLL..LLLLLL.LLLLLLLLLLL.LLLLLL', 'LLLLLLLLLLLLLLLLL.LLLLLL.LLLLLLLLLLLLLLLLLLL.LLLLLLL.LLLLLLLLLLLLLLLLLLLLLLLLLLL.LLLLLLL.LLL', 'LLLLLLLLLLLLLLLLL.LLLLLLLLLLLL.LLLLLLL.LLLLL.LLLLLLL.LLLLLL.LLLLLL.LLLLLL.LLLLLL.LLLLLLLLLLL', 'LLLLLLLLLL.LLLLLLLLL.LLL.LLLLL.LLLLLL..LLLLL.LLLLLLLLLLLLLL.LLLLLL.LLLLLLLLLLLLL.LLLLLLLLLLL', '..L.....LLL.L..L...L......LL......L.......LL..L.L.L.L....LLLL....L....L...LL...LLL.L....LLL.', 'LLLLLLLLLL.LLLLLLLLLLLLL.LLLLL.LLLLLLL.LLLLLLLLLLLLLLLLLLLL.LLLLLL.LLLLLL.LLLLLL.LLLLLLL.LLL', 'LLLLLLLLLLLLLLLLL.LLLLLLLLLLLL.LLLLLLLLLLLLLLLLLLLLL.LLLLL.LL.LL.L.LLLLLLLLLLLLL.LLLLLLLLLLL', 'LLLLLLLLLL.LLLLLLLLLLLLLLLLLLLLLLLLLLL.LLLLL.LLLLLLL.LLLLLL.LLLLLLLLLL.LL.LLLLLL.LLLLLLLLLLL', 'LLLLLLLLLLLLLLLLL.LLLLLLLLLLLL.LLLLLLLLLLLLLLLLLLLLL.LLLLLL.LLLLLLLLLLLLL.L.LLLLLLLLLL..LLLL', 'LLLLL.LLLLLLLL.LLLLLLLL.LLLLLL.LLLLLL.LLLLLLLLLLLLLLLLLLLLL.LLLLLL.LLLLLL.LLLLLL.LLLLLLLLLLL', 'LLLLLLLLLLLLLLLLLLLLLLLL.LLLLL.LLLLLLL.LLLLLLLLLLLLLLLLLLLLLLLLLLL.L.LLLL.LLLLLL.LLLLLLLLLLL', 'LLLLLLLLLLLLLLLLL.LLLLLLLLLLLL.LLLLLLLLLLLLL.LLLLLLL.LLLLLLLLLLLLL.LLLLLL.LLLLLL.LLLLLLLLLLL', 'LLLLLLLLLLLLLLLL..LLLLLLLLLLLLLLLLLLLL.LLLLL.LLLLLLL.LLLLLL.LLLLLL.LLLLLL.LL.LLL.LLLLLLLLLLL', '.....LL.L...LL....L...L.L.....L...L.L.L.L.L.L.......LL.....L.LL.LL...LLL.L.....L...L......L.', 'LLLLLLLLLL.LLLLLL.LLLLLL.LLLLL.LLLLLLL.LLLLL.LLLLLLL.LLLLLL.LLLLLL.LLLLLLLLLLLLL.LLLLLLLLLLL', 'LLLLLLLLLLLLLLLLL.LLLLLL.LLLLL.LLLLLLL.LLLLL.LL..LLL.LLLLLLLLLLLLLLLLLLLLLLLLL.LLLLLLLLLLLLL', 'LLLLLLLLLLLLLLLLLLLLLLLL.LLLLL.LLLLLLL.L.LLLLLLLLLLLLLLLLLLLLLLLLLLLLLLLL.LLLLLL.LLLLLLLLLLL', 'LLLLLLLLLL.LLLLLL.LLLLLL.LLLLL.LLLLLLL.LLLLL.LLLLLLL.LLLLLLLLLL.LL.LLLLLLLLLLLLL.LLLLLLLLLL.', 'LLLLLLLLLLLLLLLLL.LLLLLL.LLLLL.LLLLLLLLLLLLL.LLLLLLLLLLLLLL.LLLL.L.LLLLLL.LLLLLL.LLLLLLLLLLL', 'LLLLLLLLLL.LLLLLL.L.LLLL.LLLLL.LLLLLLL.LLLLLLLLLLLLL.LLLLLL.LLLLLL.LLLLLLLLLLLLL.LLLLLLLLL.L', '.L....LL....L....L.L....L......LL.....L..L.L....LL.......L......L.L..L.......L....L.LLL....L', 'LLLLLLLLLLLLLLLLL.LLLLLL.LLLLL.LLLLLLL.LLLLLLLLLLLLLLLLLLLL.LLLLLL.LLLLLLLLLLLLL.LLLLLLLLLLL', 'LLLLLLLLLL.LLLLLL.LLLLLLLLLLLLLLLLLLLL.LLLLLLLLLLLLL.LLLLLLLLLLLLL.LLLLLL.LLLLLL.LLLLLLLLLLL', 'LLLLLLLLLL.LLLLLLLLLLLLL.LLLLL.LLLLLLL.LLLLLLLLLLLLL.LLLLLL.LLLLLL.LLLLLL.LLLLLLLLLLLLLLLLLL', 'LLLLLLLLLLLLLLLLLLLLLLL..LLLLL.LLLLLLL.LLLLL.LLLLLLL.LLLLLL.LLLLLL.LLLLLL.LLLLLL.LLLLLLLLLLL', '.L......L....L.L..L....LL.......L.LL..LL.L.....L..L.L...............LL....L...L....L....L.LL', 'LLLLLLLLL..LLLLLL.LLLLLL.LLLLLLLLLLLLLLLLLL..LLLLLLLLL.LLLLLLLLLLL.LLLLLLLLLLLLL.LLLLLLLLLLL', 'LLLLLLLLLL.LLLLLLLLLLLLL.LLLLL.LLLLLLLLLLLLL.LLLLLLL.LLLLLL.LLLLLL.LLLLLL.LLLLLLLLLLLL.LLLLL', 'LLLLLLLLLL.LLLLLLLLLLLLL.LLLLL.LLLLLLL.LLLLLLLLLLLLLLLLLLLL.LLLLLL.LLLLLL.LLLLLL.LLLLLLLLLLL', 'LLLLLLLLLL.LLLLLL.LLLLLL.LLLLL..LLLLLL.LLLLL.LLLLLLLLLLLL.L.LLLLLL..LLLLLLLLLLLL.LLLLLLLLLLL', '.L..L..L.L.L.L.L.L.....L.L...L....LL.L.L....L..L.L.L........L....LL.......LL....L...L.L..LL.', 'LLLLLLLLLLLLLLLLLLLLLLLL.LLLLL.LLLLLLLLLLLLLLLLLLLLL..LLLLL.LLLLLL.LLLLL..LLLLLL.LLLLLLLLLLL', 'L.LLLLLLLL.LLLLLL.LLLLLL.LLLLL.LLLLLLLLLLLLLLLLLLLLL.LLLLLLLLLLLLL.LL.LLLLLLLLLLLLLLLLLLLLLL', 'LLLLLLLLLL.LLLLLL.LLLLLLLLLLLL.LLLLLLL.LLLLLLLLLLLLLLLLLLLL.L.LLLL.LLLLLL.LLLLLL.LLLLLLLLLLL', 'LLLLLLLLLL.LLLLLL.LLLLLLLLLLLL.LLLLLLL.LLLLL.LLLLLLL.LLLLLLLLLLLLL.LLLLLL.LLLLLLLLLLLLLLLLLL', 'LLLLLLLLLLLLLLLLL.LLLLL..LLLLL.LLLLLLLLLLLLL.LLLLL.L.LLLLLL.LLLLLL.LLLLLLLLLLLLLLLLLLLLLLLLL', 'LLLLLLLLLLLLLLLLLLLLLLLLLLLLLL.LLLLLLLLLLLLL.LLLLLLL.LLLLLLLLLLLLL.LLLLLL.LLLLLL..LLLLLLLLLL', 'LLLLLLLLLLL.LLLLL.LLLLLL.LLLLLLLLLLLLLLLLLLLLLLLLLLL.LLLLLLLLLLLLL..LLLLL.LLLLLLLLLL.LLLLLLL', 'LLLLLLLLLLLLLLLLLLLLLLL.LLLLLL.LLLLLLL.LLLLL.LLLLLLL.LLLLLLLLLLL.L.L.LLLL.LLLLLL.LLLLLLLLLLL', 'LLLLLLLLLL.LLLLLLLLLLLLLLLLLLL.LLLLLLLLLLLLLLLLLLLLL.LLLLLL.LLLLLL.LLLLLL.LLLL.LLLLLLLLLLLLL', 'LLLLL....L.LL..LLL.L...LL.....L............L...............L..L.LLLLL.L.L.......L..LL.L...L.', 'LLLLLLLLLL.LLLLLL.LLLLL..LLLLLLLLLLLLL.LLLLL.LLLLLLL.LLLLLL.LLLLLL.LLLLLL.LLLLLLLLLLLLLLLLLL', 'LLLLLLLLLLLLLLLLLLLLLLLLLLLLLL.LLLLLLL.LLLLL.LLLLLLL.LLL.LL.LLLLLL..LLLLL.LLLLLL.L.LLLLLLLLL', 'LLLLLLLLLL.LLLLLLLLLLLLLLLLLLL.LLLLLLL.LLLLL.LLLLLLL.LLLLLLLLLLLLL.LLLLLLLLLLLLL.LLLLLLLLLLL', 'LLLLLLLLLL.LLLLLLLLLLLLL.LLLLLLLLLLLLLLLLLLL.LLLLLLLLLLLLLL.LLLLLLLLLLLLL.LLLLLLLL.LLLLLLLLL', 'LLLLLLLLLL.LLLLLL.LLLLLL.LLLLLLLLLLLLL.L.LLLLL.LLLLL.LLLLLLLLLLLLL.LLLLLL.LLLLLLLLLLLLL.LLLL', '.....L...L......L...LL.L.......LL.L...LL..LL.....L.......LL.LL......LL.L...L..L..L...L.LLL..', 'LLLLLLLLLL.LLLLLL.LLLLLL.LLLLLLLLLLLLLLLLLLL.LLLLLLLLLLLLLL.LLLLLL.LLLLLL.LLLLLL..LLLLLLLLLL', 'LLLLLL.LLL.LLLLLL.LLLLLL.LL.LL.LLLLLLL.LLLLL.LLLLLLL.LLLLLLLLLLLLLLLLLLLLLLLLLLL.LLLLLLLLLLL', 'LLLLLLLLLL.LLLLLL.LLLLLL.LLLLL.LLLLLLLLLLLLL.LLLLLLL.LLLLLL.LLLLLLLLLL.LLLLLLLLL.LLLLLLLLLLL', 'LLL.LLL.LL..LLLLL.LLLLLL.LLLLL.LLLLLLL.LLLLLLLLLLLLL.LLLLLLL.LLLLLLLLLLLLLLLLLLLLLLLLLLLLLL.', 'LLLLLLLLL.LLLLLLL.LLLLLL.LLLLL.LLLLLLL.LLLLL.LLLLLLL.LLLLLL.LLLLLL.LLLLLL.LLLLLLLLLLLL.LLLLL', 'LLLLLLLLLL.LLLLLL.LLLLLLLLLLLLLLLLLLLLLLLLLL.LLLLLLL.LLLLLLLLLLLLLL.LLLLL.LLLLLLLLLLLLLLLLLL', 'LLLLLLLLLL.LLLLLL.L.LLLLLLLLLL.LLLL.LL.LLLLL.LLLLLLL.LLLLLL.LLLLLLLLLLLLL.LLLL.L.L.LLLLLLLLL', 'LLLLLLLLLL.LLLLLLLLLLLLL.LLLLL.LLLLLLL.LLLLLLLLLLLLLLLLLLLLLLLLLLL.LLLLLL.LLLLLL.LLLLLLLLLLL', 'LLLLLLLLLL.LLLLLL.LLLLLL.LLLLL.LLLLLLLLLLLLL.LLLLLLL.LLLLLL.LLLLLL.LLLLLLLLLLLLL.LLLLLLLLLLL', '.LL.LLL.L.L.L..L....L..L...L......L......L.L.L...L.L..L.L.LLLLL..L.LL.LLL.L...LL.LL...L.L.L.', 'LLLLLLLLLLLLLLLLLLLLLLLL.LLLLLLLLLLLLL.LLLLLLL.LLLLLLLLLLLL.LLLLLL.LLLLLL.LLLLLL.LLL.LLLLLLL', 'LLLLLLLLLLLLLLLLL.LLLLLLLLLLLL.LLLLLLL.LLLLLLLLLLLLL.LLLLLL.LLLLLL.LLLLLL.LLLLLL.LLLLLLLLLLL', 'LLLLLLLLLL.LLLLLL.LLLLLL.LLLLL.LLLLLLL.LLLLL.LLLLLLL.LLLLLL.LLLLL..LLLLLL.LLLLLL.LLLLLLLLLLL', 'LLLLLLLLLL.LLLLLL.LLLLLLLLLLLL.LLLLLLL.LLLLL.LLLLLLLLLLLLLLLLLLLLLLLLLLLL.LLLLLLLLLLLLLLLLLL', 'LLLL.LLLLL.LLLLLLLLLLLLL.LLLLL.LLLLLLLLLLLLL.LLLLLLL.LLLLLL.LLLLL.LLLLLLLLLLLLLLLLLLLLLLLLLL', 'LLLLLLLLLL.LLLLLL.LLLLLL.LL.LLLLLLLLLLLLLLLL.LLLLLLLLLLLLLLLLLLLLL.LLLLLL.LLLLLL.LLLLLLLLLLL', '..L.LLLL.L...LL.L....L..LL..L.....L....L.L...LL.......L.L..LL..LL............L...LL.....L...', 'LLLLLLLLLL.LLLLLL.LLLLLL.LLLLLL.LLLLLLLLLLLLLLLLLLLL.LLLLLL.LLLLLL.LLLLLLLLLLLLL.LLLLLLLLLLL', 'LLLLLLLLLL.LLLLLL.LLLLLL.LLLLLLLLLLLLL.LLLLLLLLLLLLL.LLLLLLLLLLLLL.LLLLLLLL.LLLL.LLLLLLLLLLL', 'LLLLLLLLLLLLL.LLL.LLLLLL..LLLL.LLLLLLLLLLLLL.LLLLLLLLLLLLLL.LLLLLL.LLLLLL.LLLLLLLLLL..LLLLL.', 'LLLLLLLLLL.LLLLLL..LLLLL.LLLLL.LLLLLLL..LLLL.LLLLLLL.LLLLLL.LLLLLL.LLLLLL.LLLLLL.LLLLLLLLLLL', 'LLLLLLLLLL.LLLLLL.LLLLLL.LLLLL.LLLLLLL.LLLLL.L.LLLLL.LLLLLLLLLLLLLL.LLLLL.LLLLLLLLLLLLLLLLLL', 'LLLLLLLLLL.LLLLLL.LLLLLL.LLLLL.LLLLL.L.LLLLLLLLLLLLL.LL.LLLLL.LLLL.LLLLLL.LLLLLLLLLL.LLLLLLL', 'LLLLLLLLLLLLLLLLL.LLLLLL.LLLLL.LLLLLLL.LLLLL..LLLLLL.LLLLLL.LLLLLL.LLLLLL.LLLLLL.LLLLLLLLLLL', 'LLLLLLLLLL.LLL.LLLLLLLLL.LLLLL.LLLLLLLLLLLL..LLLLLLL.LLLLL..LLLLLL.LLLLLL.LLLLLLLLLLLLLLLLLL', 'LLLLLLLLLLLLLLLLL.LLLLLL.LLLLL.LLLLLLL.LLLLLLLLLLLLL.LLLLLL.LLLLLL.LL.LLLLLLLLLL.LLLLLLLLLLL']\n"
     ]
    }
   ],
   "source": [
    "data_raw = [(line[0:-1]) for line in lines]\n",
    "print(data_raw)"
   ]
  },
  {
   "cell_type": "code",
   "execution_count": 3,
   "metadata": {},
   "outputs": [
    {
     "data": {
      "text/plain": [
       "99"
      ]
     },
     "execution_count": 3,
     "metadata": {},
     "output_type": "execute_result"
    }
   ],
   "source": [
    "len(data_raw)"
   ]
  },
  {
   "cell_type": "code",
   "execution_count": 4,
   "metadata": {},
   "outputs": [
    {
     "data": {
      "text/plain": [
       "92"
      ]
     },
     "execution_count": 4,
     "metadata": {},
     "output_type": "execute_result"
    }
   ],
   "source": [
    "len(data_raw[0])"
   ]
  },
  {
   "cell_type": "code",
   "execution_count": 1,
   "metadata": {},
   "outputs": [],
   "source": [
    "data0 = ['L.LL.LL.LL',\n",
    "'LLLLLLL.LL',\n",
    "'L.L.L..L..',\n",
    "'LLLL.LL.LL',\n",
    "'L.LL.LL.LL',\n",
    "'L.LLLLL.LL',\n",
    "'..L.L.....',\n",
    "'LLLLLLLLLL',\n",
    "'L.LLLLLL.L',\n",
    "'L.LLLLL.LL']"
   ]
  },
  {
   "cell_type": "code",
   "execution_count": 2,
   "metadata": {},
   "outputs": [
    {
     "data": {
      "text/plain": [
       "['L.LL.LL.LL',\n",
       " 'LLLLLLL.LL',\n",
       " 'L.L.L..L..',\n",
       " 'LLLL.LL.LL',\n",
       " 'L.LL.LL.LL',\n",
       " 'L.LLLLL.LL',\n",
       " '..L.L.....',\n",
       " 'LLLLLLLLLL',\n",
       " 'L.LLLLLL.L',\n",
       " 'L.LLLLL.LL']"
      ]
     },
     "execution_count": 2,
     "metadata": {},
     "output_type": "execute_result"
    }
   ],
   "source": [
    "data0"
   ]
  },
  {
   "cell_type": "code",
   "execution_count": 3,
   "metadata": {},
   "outputs": [],
   "source": [
    "def check_rules(seatings: list) -> tuple:\n",
    "#     print('asdf')\n",
    "    n_row = len(seatings)\n",
    "    n_col = len(seatings[0])\n",
    "    new_seatings = [['.']*n_col]\n",
    "    for i in range(n_row-1):\n",
    "        new_seatings.append(['.']*n_col)\n",
    "    for i in range(0, n_row):\n",
    "        for j in range(0, n_col):\n",
    "            new_seatings[i][j] = seatings[i][j]\n",
    "    \n",
    "    # rule 01:\n",
    "    changed1 = False\n",
    "\n",
    "    for i in range(0, n_row):\n",
    "        for j in range(0, n_col):\n",
    "            idx = [[i-1, j-1], [i-1, j], [i-1, j+1], [i, j-1], [i, j+1], [i+1, j-1], [i+1, j], [i+1, j+1]]\n",
    "            if seatings[i][j] == 'L':\n",
    "                all_empty = True\n",
    "#                 try:\n",
    "                for m, n in idx:\n",
    "                    if (m > -1) and (n > -1) and (m < n_row) and (n < n_col):\n",
    "                        if seatings[m][n] == '#':\n",
    "                            all_empty = False\n",
    "                            break\n",
    "#                 except IndexError:\n",
    "#                     1\n",
    "                if all_empty:\n",
    "                    new_seatings[i][j] = '#'\n",
    "#                     print(new_seatings[i][j])\n",
    "                    changed1 = True\n",
    "#     if changed1:\n",
    "#         print('111111111')\n",
    "#         print(new_seatings)\n",
    "\n",
    "#     new_seatings2 = list(new_seatings)\n",
    "    new_seatings2 = [['.']*n_col]\n",
    "    for i in range(n_row-1):\n",
    "        new_seatings2.append(['.']*n_col)\n",
    "    for i in range(0, n_row):\n",
    "        for j in range(0, n_col):\n",
    "            new_seatings2[i][j] = new_seatings[i][j]\n",
    "    # rule 02:\n",
    "    changed2 = False\n",
    "    for i in range(0, n_row):\n",
    "        for j in range(0, n_col): \n",
    "            idx = [[i-1, j-1], [i-1, j], [i-1, j+1], [i, j-1], [i, j+1], [i+1, j-1], [i+1, j], [i+1, j+1]]\n",
    "            if new_seatings[i][j] == '#':\n",
    "                ct = 0\n",
    "#                 try:\n",
    "                for m, n in idx:\n",
    "                    if (m > -1) and (n > -1) and (m < n_row) and (n < n_col):\n",
    "                        if new_seatings[m][n] == '#':\n",
    "                            ct += 1\n",
    "#                 except IndexError:\n",
    "#                     1\n",
    "                if ct >=4:\n",
    "                    new_seatings2[i][j] = 'L'\n",
    "                    changed2 = True\n",
    "#     if changed2:\n",
    "#         print('asdf')\n",
    "#         print(new_seatings2)\n",
    "    changed = (changed1 or changed2)\n",
    "    return changed, new_seatings2"
   ]
  },
  {
   "cell_type": "code",
   "execution_count": 4,
   "metadata": {
    "scrolled": true
   },
   "outputs": [],
   "source": [
    "changed = True\n",
    "seatings = data0\n",
    "i = 0\n",
    "while changed:\n",
    "    changed = False\n",
    "    changed, seatings = check_rules(seatings)\n",
    "#     seatings = new_seatings\n",
    "    i += 1\n",
    "#     print(i)\n",
    "#     if i > 50:\n",
    "#         print(i)\n",
    "#         break"
   ]
  },
  {
   "cell_type": "code",
   "execution_count": 5,
   "metadata": {},
   "outputs": [
    {
     "data": {
      "text/plain": [
       "4"
      ]
     },
     "execution_count": 5,
     "metadata": {},
     "output_type": "execute_result"
    }
   ],
   "source": [
    "i"
   ]
  },
  {
   "cell_type": "code",
   "execution_count": 6,
   "metadata": {
    "scrolled": true
   },
   "outputs": [
    {
     "data": {
      "text/plain": [
       "[['#', '.', '#', 'L', '.', 'L', '#', '.', '#', '#'],\n",
       " ['#', 'L', 'L', 'L', '#', 'L', 'L', '.', 'L', '#'],\n",
       " ['L', '.', '#', '.', 'L', '.', '.', '#', '.', '.'],\n",
       " ['#', 'L', '#', '#', '.', '#', '#', '.', 'L', '#'],\n",
       " ['#', '.', '#', 'L', '.', 'L', 'L', '.', 'L', 'L'],\n",
       " ['#', '.', '#', 'L', '#', 'L', '#', '.', '#', '#'],\n",
       " ['.', '.', 'L', '.', 'L', '.', '.', '.', '.', '.'],\n",
       " ['#', 'L', '#', 'L', '#', '#', 'L', '#', 'L', '#'],\n",
       " ['#', '.', 'L', 'L', 'L', 'L', 'L', 'L', '.', 'L'],\n",
       " ['#', '.', '#', 'L', '#', 'L', '#', '.', '#', '#']]"
      ]
     },
     "execution_count": 6,
     "metadata": {},
     "output_type": "execute_result"
    }
   ],
   "source": [
    "seatings"
   ]
  },
  {
   "cell_type": "code",
   "execution_count": 7,
   "metadata": {},
   "outputs": [
    {
     "name": "stdout",
     "output_type": "stream",
     "text": [
      "37\n"
     ]
    }
   ],
   "source": [
    "ct = 0\n",
    "for i in range(len(seatings)):\n",
    "    for j in range(len(seatings[0])):\n",
    "        ct += int(seatings[i][j] == '#')\n",
    "print(ct)"
   ]
  },
  {
   "cell_type": "code",
   "execution_count": null,
   "metadata": {},
   "outputs": [],
   "source": []
  },
  {
   "cell_type": "code",
   "execution_count": 3,
   "metadata": {},
   "outputs": [],
   "source": [
    "def check_rules2(seatings: list) -> tuple:\n",
    "    n_row = len(seatings)\n",
    "    n_col = len(seatings[0])\n",
    "    new_seatings = [['.']*n_col]\n",
    "    for i in range(n_row-1):\n",
    "        new_seatings.append(['.']*n_col)\n",
    "    for i in range(0, n_row):\n",
    "        for j in range(0, n_col):\n",
    "            new_seatings[i][j] = seatings[i][j]\n",
    "    \n",
    "    # rule 01:\n",
    "    changed1 = False\n",
    "\n",
    "    for i in range(0, n_row):\n",
    "        for j in range(0, n_col):\n",
    "            if seatings[i][j] == 'L':\n",
    "                all_empty = True\n",
    "                # d1\n",
    "                for x in range(1,100):\n",
    "                    m, n = i-x, j-x\n",
    "                    if (m > -1) and (n > -1) and (m < n_row) and (n < n_col):\n",
    "                        if seatings[m][n] == 'L':\n",
    "                            break\n",
    "                        elif seatings[m][n] == '#':\n",
    "                            all_empty = False\n",
    "                            break\n",
    "                # d2\n",
    "                for x in range(1,100):\n",
    "                    m, n = i-x, j\n",
    "                    if (m > -1) and (n > -1) and (m < n_row) and (n < n_col):\n",
    "                        if seatings[m][n] == 'L':\n",
    "                            break\n",
    "                        elif seatings[m][n] == '#':\n",
    "                            all_empty = False\n",
    "                            break\n",
    "                # d3\n",
    "                for x in range(1,100):\n",
    "                    m, n = i-x, j+x\n",
    "                    if (m > -1) and (n > -1) and (m < n_row) and (n < n_col):\n",
    "                        if seatings[m][n] == 'L':\n",
    "                            break\n",
    "                        elif seatings[m][n] == '#':\n",
    "                            all_empty = False\n",
    "                            break\n",
    "                # d4\n",
    "                for x in range(1,100):\n",
    "                    m, n = i, j-x\n",
    "                    if (m > -1) and (n > -1) and (m < n_row) and (n < n_col):\n",
    "                        if seatings[m][n] == 'L':\n",
    "                            break\n",
    "                        elif seatings[m][n] == '#':\n",
    "                            all_empty = False\n",
    "                            break\n",
    "                # d5\n",
    "                for x in range(1,100):\n",
    "                    m, n = i, j+x\n",
    "                    if (m > -1) and (n > -1) and (m < n_row) and (n < n_col):\n",
    "                        if seatings[m][n] == 'L':\n",
    "                            break\n",
    "                        elif seatings[m][n] == '#':\n",
    "                            all_empty = False\n",
    "                            break\n",
    "                # d6\n",
    "                for x in range(1,100):\n",
    "                    m, n = i+x, j-x\n",
    "                    if (m > -1) and (n > -1) and (m < n_row) and (n < n_col):\n",
    "                        if seatings[m][n] == 'L':\n",
    "                            break\n",
    "                        elif seatings[m][n] == '#':\n",
    "                            all_empty = False\n",
    "                            break\n",
    "                # d7\n",
    "                for x in range(1,100):\n",
    "                    m, n = i+x, j\n",
    "                    if (m > -1) and (n > -1) and (m < n_row) and (n < n_col):\n",
    "                        if seatings[m][n] == 'L':\n",
    "                            break\n",
    "                        elif seatings[m][n] == '#':\n",
    "                            all_empty = False\n",
    "                            break\n",
    "                # d8\n",
    "                for x in range(1,100):\n",
    "                    m, n = i+x, j+x\n",
    "                    if (m > -1) and (n > -1) and (m < n_row) and (n < n_col):\n",
    "                        if seatings[m][n] == 'L':\n",
    "                            break\n",
    "                        elif seatings[m][n] == '#':\n",
    "                            all_empty = False\n",
    "                            break\n",
    "                \n",
    "                if all_empty:\n",
    "                    new_seatings[i][j] = '#'\n",
    "                    changed1 = True\n",
    "                \n",
    "                \n",
    "#                 for x in range(1,100):\n",
    "#                     idx = [[i-x, j-x], [i-x, j], [i-x, j+x], [i, j-x], [i, j+x], [i+x, j-x], [i+x, j], [i+x, j+x]]\n",
    "#                     all_empty = True\n",
    "#                     for m, n in idx:\n",
    "#                         if (m > -1) and (n > -1) and (m < n_row) and (n < n_col):\n",
    "#                             if seatings[m][n] == '#':\n",
    "#                                 all_empty = False\n",
    "#                                 break\n",
    "#                     if not all_empty:\n",
    "#                         break\n",
    "#                 if all_empty:\n",
    "#                     new_seatings[i][j] = '#'\n",
    "#                     changed1 = True\n",
    "#                         break\n",
    "\n",
    "#     if changed1:\n",
    "#         print('111111111')\n",
    "#         print(new_seatings)\n",
    "\n",
    "    new_seatings2 = [['.']*n_col]\n",
    "    for i in range(n_row-1):\n",
    "        new_seatings2.append(['.']*n_col)\n",
    "    for i in range(0, n_row):\n",
    "        for j in range(0, n_col):\n",
    "            new_seatings2[i][j] = new_seatings[i][j]\n",
    "    # rule 02:\n",
    "    changed2 = False\n",
    "    for i in range(0, n_row):\n",
    "        for j in range(0, n_col):\n",
    "            if new_seatings[i][j] == '#':\n",
    "                ct = 0\n",
    "                # d1\n",
    "                for x in range(1,100):\n",
    "                    m, n = i-x, j-x\n",
    "                    if (m > -1) and (n > -1) and (m < n_row) and (n < n_col):\n",
    "                        if new_seatings[m][n] == '#':\n",
    "                            ct += 1\n",
    "                            break\n",
    "                        elif new_seatings[m][n] == 'L':\n",
    "                            break\n",
    "                # d2\n",
    "                for x in range(1,100):\n",
    "                    m, n = i-x, j\n",
    "                    if (m > -1) and (n > -1) and (m < n_row) and (n < n_col):\n",
    "                        if new_seatings[m][n] == '#':\n",
    "                            ct += 1\n",
    "                            break\n",
    "                        elif new_seatings[m][n] == 'L':\n",
    "                            break\n",
    "                # d3\n",
    "                for x in range(1,100):\n",
    "                    m, n = i-x, j+x\n",
    "                    if (m > -1) and (n > -1) and (m < n_row) and (n < n_col):\n",
    "                        if new_seatings[m][n] == '#':\n",
    "                            ct += 1\n",
    "                            break\n",
    "                        elif new_seatings[m][n] == 'L':\n",
    "                            break\n",
    "                # d4\n",
    "                for x in range(1,100):\n",
    "                    m, n = i, j-x\n",
    "                    if (m > -1) and (n > -1) and (m < n_row) and (n < n_col):\n",
    "                        if new_seatings[m][n] == '#':\n",
    "                            ct += 1\n",
    "                            break\n",
    "                        elif new_seatings[m][n] == 'L':\n",
    "                            break\n",
    "                # d5\n",
    "                for x in range(1,100):\n",
    "                    m, n = i, j+x\n",
    "                    if (m > -1) and (n > -1) and (m < n_row) and (n < n_col):\n",
    "                        if new_seatings[m][n] == '#':\n",
    "                            ct += 1\n",
    "                            break\n",
    "                        elif new_seatings[m][n] == 'L':\n",
    "                            break\n",
    "                # d6\n",
    "                for x in range(1,100):\n",
    "                    m, n = i+x, j-x\n",
    "                    if (m > -1) and (n > -1) and (m < n_row) and (n < n_col):\n",
    "                        if new_seatings[m][n] == '#':\n",
    "                            ct += 1\n",
    "                            break\n",
    "                        elif new_seatings[m][n] == 'L':\n",
    "                            break\n",
    "                # d7\n",
    "                for x in range(1,100):\n",
    "                    m, n = i+x, j\n",
    "                    if (m > -1) and (n > -1) and (m < n_row) and (n < n_col):\n",
    "                        if new_seatings[m][n] == '#':\n",
    "                            ct += 1\n",
    "                            break\n",
    "                        elif new_seatings[m][n] == 'L':\n",
    "                            break\n",
    "                # d8\n",
    "                for x in range(1,100):\n",
    "                    m, n = i+x, j+x\n",
    "                    if (m > -1) and (n > -1) and (m < n_row) and (n < n_col):\n",
    "                        if new_seatings[m][n] == '#':\n",
    "                            ct += 1\n",
    "                            break\n",
    "                        elif new_seatings[m][n] == 'L':\n",
    "                            break\n",
    "#                 print(ct)\n",
    "                if ct >=5:\n",
    "                    new_seatings2[i][j] = 'L'\n",
    "                    changed2 = True\n",
    "\n",
    "                \n",
    "#                 for x in range(100):\n",
    "#                     idx = [[i-x, j-x], [i-x, j], [i-x, j+x], [i, j-x], [i, j+x], [i+x, j-x], [i+x, j], [i+x, j+x]]\n",
    "#                     for m, n in idx:\n",
    "#                         if (m > -1) and (n > -1) and (m < n_row) and (n < n_col):\n",
    "#                             if new_seatings[m][n] == '#':\n",
    "#                                 ct += 1\n",
    "#                                 if ct == 5:\n",
    "#                                     break\n",
    "#                     if ct >=5:\n",
    "#                         new_seatings2[i][j] = 'L'\n",
    "#                         changed2 = True\n",
    "#                         break\n",
    "#     if changed2:\n",
    "#         print('asdf')\n",
    "#         print(new_seatings2)\n",
    "    changed = (changed1 or changed2)\n",
    "    return changed, new_seatings2"
   ]
  },
  {
   "cell_type": "code",
   "execution_count": 4,
   "metadata": {},
   "outputs": [
    {
     "name": "stdout",
     "output_type": "stream",
     "text": [
      "1\n",
      "2\n",
      "3\n",
      "4\n",
      "5\n",
      "6\n",
      "7\n",
      "8\n",
      "9\n",
      "10\n",
      "11\n",
      "12\n",
      "13\n",
      "14\n",
      "15\n",
      "16\n",
      "17\n",
      "18\n",
      "19\n",
      "20\n",
      "21\n",
      "22\n",
      "23\n",
      "24\n",
      "25\n",
      "26\n",
      "27\n",
      "28\n",
      "29\n",
      "30\n",
      "31\n",
      "32\n",
      "33\n",
      "34\n",
      "35\n",
      "36\n",
      "37\n",
      "38\n",
      "39\n",
      "40\n",
      "41\n",
      "42\n",
      "43\n",
      "44\n"
     ]
    }
   ],
   "source": [
    "changed = True\n",
    "seatings = data_raw\n",
    "i = 0\n",
    "while changed:\n",
    "    changed = False\n",
    "    changed, seatings = check_rules2(seatings)\n",
    "#     seatings = new_seatings\n",
    "    i += 1\n",
    "    print(i)\n",
    "#     if i > 10:\n",
    "#         print(i)\n",
    "#         break"
   ]
  },
  {
   "cell_type": "code",
   "execution_count": null,
   "metadata": {},
   "outputs": [],
   "source": []
  },
  {
   "cell_type": "code",
   "execution_count": null,
   "metadata": {},
   "outputs": [],
   "source": []
  },
  {
   "cell_type": "code",
   "execution_count": 5,
   "metadata": {},
   "outputs": [
    {
     "name": "stdout",
     "output_type": "stream",
     "text": [
      "2131\n"
     ]
    }
   ],
   "source": [
    "ct = 0\n",
    "for i in range(len(seatings)):\n",
    "    for j in range(len(seatings[0])):\n",
    "        ct += int(seatings[i][j] == '#')\n",
    "print(ct)"
   ]
  },
  {
   "cell_type": "code",
   "execution_count": null,
   "metadata": {},
   "outputs": [],
   "source": []
  },
  {
   "cell_type": "code",
   "execution_count": null,
   "metadata": {},
   "outputs": [],
   "source": []
  },
  {
   "cell_type": "code",
   "execution_count": null,
   "metadata": {},
   "outputs": [],
   "source": []
  },
  {
   "cell_type": "code",
   "execution_count": null,
   "metadata": {},
   "outputs": [],
   "source": []
  },
  {
   "cell_type": "code",
   "execution_count": null,
   "metadata": {},
   "outputs": [],
   "source": []
  },
  {
   "cell_type": "code",
   "execution_count": null,
   "metadata": {},
   "outputs": [],
   "source": []
  },
  {
   "cell_type": "code",
   "execution_count": null,
   "metadata": {},
   "outputs": [],
   "source": [
    "2359"
   ]
  },
  {
   "cell_type": "code",
   "execution_count": null,
   "metadata": {},
   "outputs": [],
   "source": []
  },
  {
   "cell_type": "code",
   "execution_count": null,
   "metadata": {},
   "outputs": [],
   "source": []
  }
 ],
 "metadata": {
  "kernelspec": {
   "display_name": "Python 3",
   "language": "python",
   "name": "python3"
  },
  "language_info": {
   "codemirror_mode": {
    "name": "ipython",
    "version": 3
   },
   "file_extension": ".py",
   "mimetype": "text/x-python",
   "name": "python",
   "nbconvert_exporter": "python",
   "pygments_lexer": "ipython3",
   "version": "3.8.5"
  }
 },
 "nbformat": 4,
 "nbformat_minor": 4
}
