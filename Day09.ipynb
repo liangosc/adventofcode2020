{
 "cells": [
  {
   "cell_type": "code",
   "execution_count": 1,
   "metadata": {},
   "outputs": [],
   "source": [
    "f = open('day09_input.txt')\n",
    "lines = f.readlines()\n",
    "f.close()\n",
    "data = [line[0:-1] for line in lines]"
   ]
  },
  {
   "cell_type": "code",
   "execution_count": 2,
   "metadata": {},
   "outputs": [
    {
     "name": "stdout",
     "output_type": "stream",
     "text": [
      "There are 1000 numbers. The first few are:\n"
     ]
    },
    {
     "data": {
      "text/plain": [
       "['13', '47', '42', '30', '4', '32', '5', '45', '16', '27']"
      ]
     },
     "execution_count": 2,
     "metadata": {},
     "output_type": "execute_result"
    }
   ],
   "source": [
    "print(f'There are {len(data)} numbers. The first few are:')\n",
    "data[0:10]"
   ]
  },
  {
   "cell_type": "markdown",
   "metadata": {},
   "source": [
    "# Part 1"
   ]
  },
  {
   "cell_type": "markdown",
   "metadata": {},
   "source": [
    "The first 25 are called \"preamble\" numbers. After the 25 preamble numbers, each new number is supposed to be the sum of two numbers in its previous 25 numbers.\n",
    "\n",
    "We need to find which number in the input is not a sum of two numbers from its previous 25 numbers."
   ]
  },
  {
   "cell_type": "markdown",
   "metadata": {},
   "source": [
    "An function to check if a number is a sum of two numbers from a list of 25 numbers is made as following: (similar to the 2-sum, so two for-loops will do.)"
   ]
  },
  {
   "cell_type": "code",
   "execution_count": 3,
   "metadata": {},
   "outputs": [],
   "source": [
    "def is_sum_of_two(nums: list, target: int) -> bool:\n",
    "    for i, num in enumerate(nums):\n",
    "        t2 = target - num\n",
    "        for j in range(len(nums)):\n",
    "            if (t2 == nums[j]) and j != i:\n",
    "                return True\n",
    "    return False"
   ]
  },
  {
   "cell_type": "code",
   "execution_count": 4,
   "metadata": {},
   "outputs": [
    {
     "name": "stdout",
     "output_type": "stream",
     "text": [
      "1639024365 is not a sum of two numbers from the previous 25 numbers\n"
     ]
    }
   ],
   "source": [
    "for i in range(25, len(data)):\n",
    "    target = int(data[i])\n",
    "    nums = [int(num) for num in data[(i-25):i]]\n",
    "    if not is_sum_of_two(nums, target):\n",
    "        print(f'{target} is not a sum of two numbers from the previous 25 numbers')\n",
    "        break"
   ]
  },
  {
   "cell_type": "markdown",
   "metadata": {},
   "source": [
    "# Par 2"
   ]
  },
  {
   "cell_type": "markdown",
   "metadata": {},
   "source": [
    "For part 2, we need to find a contiguous set of at least two numbers in the input list which sum to the number we found in part 1."
   ]
  },
  {
   "cell_type": "markdown",
   "metadata": {},
   "source": [
    "I'm going to use two pointers to determine a contiguous set in the input, and see if it sums to the target number."
   ]
  },
  {
   "cell_type": "code",
   "execution_count": 5,
   "metadata": {},
   "outputs": [
    {
     "name": "stdout",
     "output_type": "stream",
     "text": [
      "The sub array that sum to 1639024365 is:\n"
     ]
    },
    {
     "data": {
      "text/plain": [
       "[66794732,\n",
       " 135085533,\n",
       " 68393057,\n",
       " 85769459,\n",
       " 69685394,\n",
       " 114076413,\n",
       " 69853643,\n",
       " 91579901,\n",
       " 82799914,\n",
       " 92158454,\n",
       " 93040487,\n",
       " 87000725,\n",
       " 87548511,\n",
       " 152407508,\n",
       " 104998982,\n",
       " 138603957,\n",
       " 99227695]"
      ]
     },
     "execution_count": 5,
     "metadata": {},
     "output_type": "execute_result"
    }
   ],
   "source": [
    "i, j = 0, 1\n",
    "tmp_sum = int(data[i]) + int(data[j])   # I really should convert the data to int in the very beginning\n",
    "target = 1639024365 \n",
    "while tmp_sum != target:\n",
    "    if tmp_sum < target:\n",
    "        j += 1\n",
    "    elif tmp_sum > target:\n",
    "        i += 1\n",
    "    tmp_sum = sum([int(num) for num in data[i:j+1]])\n",
    "\n",
    "sub_arr = [int(num) for num in data[i:j+1]]    \n",
    "print(f'The sub array that sum to {target} is:')\n",
    "sub_arr"
   ]
  },
  {
   "cell_type": "markdown",
   "metadata": {},
   "source": [
    "The encryption weakness in the XMAS-encrypted list of numbers is:"
   ]
  },
  {
   "cell_type": "code",
   "execution_count": 6,
   "metadata": {},
   "outputs": [
    {
     "data": {
      "text/plain": [
       "219202240"
      ]
     },
     "execution_count": 6,
     "metadata": {},
     "output_type": "execute_result"
    }
   ],
   "source": [
    "min(sub_arr)+max(sub_arr)"
   ]
  },
  {
   "cell_type": "code",
   "execution_count": null,
   "metadata": {},
   "outputs": [],
   "source": []
  }
 ],
 "metadata": {
  "kernelspec": {
   "display_name": "Python 3",
   "language": "python",
   "name": "python3"
  },
  "language_info": {
   "codemirror_mode": {
    "name": "ipython",
    "version": 3
   },
   "file_extension": ".py",
   "mimetype": "text/x-python",
   "name": "python",
   "nbconvert_exporter": "python",
   "pygments_lexer": "ipython3",
   "version": "3.8.5"
  }
 },
 "nbformat": 4,
 "nbformat_minor": 4
}
